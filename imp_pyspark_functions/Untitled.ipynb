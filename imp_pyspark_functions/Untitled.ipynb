{
 "cells": [
  {
   "cell_type": "code",
   "execution_count": 46,
   "id": "17419288-67aa-4388-acc9-aa1d4f9a1f14",
   "metadata": {
    "tags": []
   },
   "outputs": [],
   "source": [
    "from pyspark.sql import SparkSession\n",
    "spark = SparkSession.builder.appName('SparkByExamples.com').getOrCreate()\n",
    "\n",
    "data = [\"Project\", \"Gutenberg’s\",\n",
    "        \"Alice’s\", \"Adventures\", \"in\",  \"Wonderland\",\n",
    "        \"Project\", \"Gutenberg’s\",\n",
    "        \"Adventures\", \"in\" ,\"Wonderland\",\n",
    "        \"Project\", \"Gutenberg’s\"]\n",
    "rdd=spark.sparkContext.parallelize(data)\n"
   ]
  },
  {
   "cell_type": "code",
   "execution_count": 4,
   "id": "4806f8cb-67c9-4ac7-8155-e8d0ae7185ab",
   "metadata": {
    "tags": []
   },
   "outputs": [
    {
     "data": {
      "text/plain": [
       "ParallelCollectionRDD[2] at readRDDFromFile at PythonRDD.scala:274"
      ]
     },
     "execution_count": 4,
     "metadata": {},
     "output_type": "execute_result"
    }
   ],
   "source": [
    "rdd"
   ]
  },
  {
   "cell_type": "code",
   "execution_count": 8,
   "id": "10f4b58f-2a5c-4020-af7e-e1eb4749e8fe",
   "metadata": {
    "tags": []
   },
   "outputs": [
    {
     "name": "stdout",
     "output_type": "stream",
     "text": [
      "('Project', 1)\n",
      "('Gutenberg’s', 1)\n",
      "('Alice’s', 1)\n",
      "('Adventures', 1)\n",
      "('in', 1)\n",
      "('Wonderland', 1)\n",
      "('Project', 1)\n",
      "('Gutenberg’s', 1)\n",
      "('Adventures', 1)\n",
      "('in', 1)\n",
      "('Wonderland', 1)\n",
      "('Project', 1)\n",
      "('Gutenberg’s', 1)\n"
     ]
    }
   ],
   "source": [
    "rdd_map = rdd.map(lambda x: (x, 1))\n",
    "              \n",
    "for item in rdd_map.collect():\n",
    "    print(item)"
   ]
  },
  {
   "cell_type": "code",
   "execution_count": 16,
   "id": "5a426859-d21a-4584-a634-4119bafb6677",
   "metadata": {
    "tags": []
   },
   "outputs": [],
   "source": [
    "schema = [\"id\", \"student\", \"marks\"]\n",
    "# Create DataFrame\n",
    "data = [\n",
    "    (1, \"Abbot\", 4),\n",
    "    (2, \"Doris\", 7),\n",
    "    (3, \"Emerson\", 8),\n",
    "    (4, \"Green\", 9),\n",
    "    (5, \"Jeames\", 10)\n",
    "]\n",
    "\n",
    "df = spark.createDataFrame(data, schema=schema)"
   ]
  },
  {
   "cell_type": "code",
   "execution_count": 17,
   "id": "b257dcda-bb80-4cd9-80c2-c38c55e7e96b",
   "metadata": {
    "tags": []
   },
   "outputs": [],
   "source": [
    "rdd_map = df.rdd.map(lambda x: (x[0], x[1], x[2]*2))\n",
    "df_res = rdd_map.toDF(['id', 'name', 'marks'])"
   ]
  },
  {
   "cell_type": "code",
   "execution_count": 20,
   "id": "aad83b8e-6fe8-4f4d-9f49-202458c68034",
   "metadata": {
    "tags": []
   },
   "outputs": [],
   "source": [
    "def myFunc(x):\n",
    "    firstName = x.student\n",
    "    id = x.id\n",
    "    return (firstName, id)\n",
    "rdd_map = df.rdd.map(lambda x: myFunc(x))"
   ]
  },
  {
   "cell_type": "code",
   "execution_count": 22,
   "id": "2726e8ca-f7cc-4ae8-a701-5a6a9962244f",
   "metadata": {
    "tags": []
   },
   "outputs": [],
   "source": [
    "df_res = rdd_map.toDF(['name', 'id'])"
   ]
  },
  {
   "cell_type": "code",
   "execution_count": 33,
   "id": "1e5f2ed7-a430-4309-afd0-6a10a3bf3ce9",
   "metadata": {
    "tags": []
   },
   "outputs": [],
   "source": [
    "range_rdd = spark.sparkContext.range(1,5)"
   ]
  },
  {
   "cell_type": "code",
   "execution_count": 35,
   "id": "edba995f-a03a-4fb9-8ce3-0d4eaba530d1",
   "metadata": {
    "tags": []
   },
   "outputs": [
    {
     "data": {
      "text/plain": [
       "[1, 2, 2, 3, 3, 4, 4, 5]"
      ]
     },
     "execution_count": 35,
     "metadata": {},
     "output_type": "execute_result"
    }
   ],
   "source": [
    "range_rdd.flatMap(lambda x : (x, x+1)).collect()"
   ]
  },
  {
   "cell_type": "code",
   "execution_count": 36,
   "id": "34dd0215-c2de-40fc-ae8c-58e17c24987c",
   "metadata": {
    "tags": []
   },
   "outputs": [],
   "source": [
    "rdd_text = spark.sparkContext.parallelize([\"if you want to split a text file\"])"
   ]
  },
  {
   "cell_type": "code",
   "execution_count": 39,
   "id": "3f1fa4be-0e64-476c-979d-24ddf138b49b",
   "metadata": {
    "tags": []
   },
   "outputs": [
    {
     "data": {
      "text/plain": [
       "['if', 'you', 'want', 'to', 'split', 'a', 'text', 'file']"
      ]
     },
     "execution_count": 39,
     "metadata": {},
     "output_type": "execute_result"
    }
   ],
   "source": [
    "rdd_text.flatMap(lambda x: x.split(\" \")).collect()"
   ]
  },
  {
   "cell_type": "code",
   "execution_count": 42,
   "id": "38a2d543-7536-453c-a30b-a85407e4e05a",
   "metadata": {
    "tags": []
   },
   "outputs": [],
   "source": [
    "rdd_no = spark.sparkContext.parallelize([1,2,3,4,5,6])"
   ]
  },
  {
   "cell_type": "code",
   "execution_count": 45,
   "id": "d2ceb860-7c90-482c-a007-1cf1467fd076",
   "metadata": {
    "tags": []
   },
   "outputs": [
    {
     "data": {
      "text/plain": [
       "6"
      ]
     },
     "execution_count": 45,
     "metadata": {},
     "output_type": "execute_result"
    }
   ],
   "source": [
    "rdd_no.reduce(lambda x, y: max(x,y))"
   ]
  },
  {
   "cell_type": "code",
   "execution_count": 48,
   "id": "53fcd50c-a7b5-412f-8935-2f5f0540f2a5",
   "metadata": {
    "tags": []
   },
   "outputs": [],
   "source": [
    "rdd_map = rdd.map(lambda x: (x,1))"
   ]
  },
  {
   "cell_type": "code",
   "execution_count": 49,
   "id": "8ccb80b8-e8cb-4495-ab82-976cfa5dfaf8",
   "metadata": {
    "tags": []
   },
   "outputs": [
    {
     "data": {
      "text/plain": [
       "[('Gutenberg’s', 3),\n",
       " ('Adventures', 2),\n",
       " ('Wonderland', 2),\n",
       " ('Alice’s', 1),\n",
       " ('in', 2),\n",
       " ('Project', 3)]"
      ]
     },
     "execution_count": 49,
     "metadata": {},
     "output_type": "execute_result"
    }
   ],
   "source": [
    "rdd_redbykey = rdd_map.reduceByKey(lambda x, y: x+y)\n",
    "rdd_redbykey.collect()"
   ]
  },
  {
   "cell_type": "code",
   "execution_count": null,
   "id": "cedcc579-68d4-4619-8beb-66075125f3ef",
   "metadata": {},
   "outputs": [],
   "source": []
  }
 ],
 "metadata": {
  "kernelspec": {
   "display_name": "Python 3 (ipykernel)",
   "language": "python",
   "name": "python3"
  },
  "language_info": {
   "codemirror_mode": {
    "name": "ipython",
    "version": 3
   },
   "file_extension": ".py",
   "mimetype": "text/x-python",
   "name": "python",
   "nbconvert_exporter": "python",
   "pygments_lexer": "ipython3",
   "version": "3.7.17"
  }
 },
 "nbformat": 4,
 "nbformat_minor": 5
}
