{
 "cells": [
  {
   "cell_type": "code",
   "execution_count": 2,
   "id": "43b5a089-a6e1-4f08-be7c-15ab50942885",
   "metadata": {
    "tags": []
   },
   "outputs": [
    {
     "name": "stdout",
     "output_type": "stream",
     "text": [
      "+---+-----------+--------------+----------+------+---+---------+----------+------+\n",
      "|age| department|employee_title|first_name|gender| id|last_name|manager_id|salary|\n",
      "+---+-----------+--------------+----------+------+---+---------+----------+------+\n",
      "| 30|Engineering|      Engineer|     Alice|     F|  1|    Smith|         4|  9000|\n",
      "| 32|Engineering|      Engineer|       Bob|     M|  2|    Brown|         4|  8500|\n",
      "| 29|Engineering|      Engineer|   Charlie|     M|  3|    Davis|         4|  8800|\n",
      "| 45|Engineering|       Manager|     David|     M|  4|   Wilson|      null| 12000|\n",
      "| 25|         HR| HR Specialist|       Eve|     F|  5|   Taylor|         6|  6000|\n",
      "| 26|         HR| HR Specialist|     Frank|     M|  6|    Moore|      null|  7500|\n",
      "| 28|  Marketing|      Marketer|     Grace|     F|  7| Anderson|         8|  6700|\n",
      "| 35|  Marketing|       Manager|     Henry|     M|  8|   Thomas|      null|  9000|\n",
      "+---+-----------+--------------+----------+------+---+---------+----------+------+\n",
      "\n"
     ]
    }
   ],
   "source": [
    "from pyspark.sql import SparkSession\n",
    "from pyspark.sql.types import StructType, StructField, LongType, StringType\n",
    "from pyspark.sql.functions import col, avg, round\n",
    "\n",
    "# Start SparkSession\n",
    "spark = SparkSession.builder.appName(\"SalaryComparison\").getOrCreate()\n",
    "\n",
    "# Define schema\n",
    "schema = StructType([\n",
    "    StructField(\"age\", LongType(), True),\n",
    "    StructField(\"department\", StringType(), True),\n",
    "    StructField(\"employee_title\", StringType(), True),\n",
    "    StructField(\"first_name\", StringType(), True),\n",
    "    StructField(\"gender\", StringType(), True),\n",
    "    StructField(\"id\", LongType(), False),  # employee ID\n",
    "    StructField(\"last_name\", StringType(), True),\n",
    "    StructField(\"manager_id\", LongType(), True),\n",
    "    StructField(\"salary\", LongType(), True)\n",
    "])\n",
    "\n",
    "# Sample data\n",
    "data = [\n",
    "    (30, \"Engineering\", \"Engineer\", \"Alice\", \"F\", 1, \"Smith\", 4, 9000),\n",
    "    (32, \"Engineering\", \"Engineer\", \"Bob\", \"M\", 2, \"Brown\", 4, 8500),\n",
    "    (29, \"Engineering\", \"Engineer\", \"Charlie\", \"M\", 3, \"Davis\", 4, 8800),\n",
    "    (45, \"Engineering\", \"Manager\", \"David\", \"M\", 4, \"Wilson\", None, 12000),\n",
    "    (25, \"HR\", \"HR Specialist\", \"Eve\", \"F\", 5, \"Taylor\", 6, 6000),\n",
    "    (26, \"HR\", \"HR Specialist\", \"Frank\", \"M\", 6, \"Moore\", None, 7500),\n",
    "    (28, \"Marketing\", \"Marketer\", \"Grace\", \"F\", 7, \"Anderson\", 8, 6700),\n",
    "    (35, \"Marketing\", \"Manager\", \"Henry\", \"M\", 8, \"Thomas\", None, 9000)\n",
    "]\n",
    "\n",
    "# Create DataFrame\n",
    "df = spark.createDataFrame(data, schema)\n",
    "\n",
    "# Show the dataset\n",
    "\n",
    "df.createOrReplaceTempView(\"Employees\")\n",
    "\n",
    "df.show()\n"
   ]
  },
  {
   "cell_type": "code",
   "execution_count": 5,
   "id": "977f0373-27f7-456d-9791-df967c696595",
   "metadata": {
    "tags": []
   },
   "outputs": [],
   "source": [
    "# md Oracle is comparing the monthly wages of their employees in each department to those of their managers and co-workers.\n",
    "# You have been tasked with creating a table that compares an employee's salary to that of their manager and to the average salary of their department.\n",
    "# It is expected that the department manager's salary and the average salary of employee's from that department are in their own separate column.\n",
    "# Order the employee's salary from highest to lowest based on their department.\n",
    "# Your output should contain the department, employee id, salary of that employee, salary of that employee's manager and the average salary from employee's within that department rounded to the nearest whole number.\n"
   ]
  },
  {
   "cell_type": "code",
   "execution_count": 9,
   "id": "61f0eb98-3b1e-4621-86de-b116c6bdef0a",
   "metadata": {
    "tags": []
   },
   "outputs": [
    {
     "name": "stdout",
     "output_type": "stream",
     "text": [
      "+-----------+-----------+---------------+--------------+---------------------+\n",
      "| department|employee_id|employee_salary|manager_salary|avg_department_salary|\n",
      "+-----------+-----------+---------------+--------------+---------------------+\n",
      "|Engineering|          1|           9000|         12000|               9575.0|\n",
      "|Engineering|          2|           8500|         12000|               9575.0|\n",
      "|Engineering|          3|           8800|         12000|               9575.0|\n",
      "|Engineering|          4|          12000|          null|               9575.0|\n",
      "|         HR|          5|           6000|          7500|               6750.0|\n",
      "|         HR|          6|           7500|          null|               6750.0|\n",
      "|  Marketing|          7|           6700|          9000|               7850.0|\n",
      "|  Marketing|          8|           9000|          null|               7850.0|\n",
      "+-----------+-----------+---------------+--------------+---------------------+\n",
      "\n"
     ]
    }
   ],
   "source": [
    "spark.sql(\"\"\"\n",
    "    SELECT \n",
    "        e1.department, \n",
    "        e1.id AS employee_id, \n",
    "        e1.salary AS employee_salary, \n",
    "        e2.salary AS manager_salary,\n",
    "        ROUND(AVG(e1.salary) OVER(PARTITION BY e1.department)) AS avg_department_salary\n",
    "    FROM Employees e1\n",
    "    LEFT JOIN Employees e2\n",
    "        ON e1.manager_id = e2.id\n",
    "\"\"\").show()\n"
   ]
  },
  {
   "cell_type": "code",
   "execution_count": null,
   "id": "0627df7b-7521-4ff7-84f9-2121cafe8c43",
   "metadata": {},
   "outputs": [],
   "source": []
  }
 ],
 "metadata": {
  "kernelspec": {
   "display_name": "Python 3 (ipykernel)",
   "language": "python",
   "name": "python3"
  },
  "language_info": {
   "codemirror_mode": {
    "name": "ipython",
    "version": 3
   },
   "file_extension": ".py",
   "mimetype": "text/x-python",
   "name": "python",
   "nbconvert_exporter": "python",
   "pygments_lexer": "ipython3",
   "version": "3.7.17"
  }
 },
 "nbformat": 4,
 "nbformat_minor": 5
}
