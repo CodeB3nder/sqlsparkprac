{
 "cells": [
  {
   "cell_type": "code",
   "execution_count": 1,
   "id": "40d8a9da-8f83-4426-8577-8c5c979c7ff4",
   "metadata": {
    "tags": []
   },
   "outputs": [],
   "source": [
    "from pyspark.sql.types import StructType, StructField, IntegerType\n",
    "from pyspark.sql import SparkSession\n",
    "from pyspark.sql.types import StructType, StructField, IntegerType, StringType\n",
    "spark = SparkSession.builder.appName(\"PySparkTables\").getOrCreate()\n",
    "# Data for users_friends\n",
    "users_friends_data = [\n",
    "    (1, 2),\n",
    "    (1, 3),\n",
    "    (2, 3),\n",
    "    (3, 1)\n",
    "]\n",
    "\n",
    "users_friends_schema = StructType([\n",
    "    StructField(\"user_id\", IntegerType(), False),\n",
    "    StructField(\"friend_id\", IntegerType(), False)\n",
    "])\n",
    "\n",
    "users_friends_df = spark.createDataFrame(users_friends_data, users_friends_schema)\n",
    "users_friends_df.createOrReplaceTempView(\"users_friends\")\n",
    "\n",
    "# Data for users_pages\n",
    "users_pages_data = [\n",
    "    (1, 10),\n",
    "    (2, 20),\n",
    "    (2, 30),\n",
    "    (3, 10),\n",
    "    (3, 40)\n",
    "]\n",
    "\n",
    "users_pages_schema = StructType([\n",
    "    StructField(\"user_id\", IntegerType(), False),\n",
    "    StructField(\"page_id\", IntegerType(), False)\n",
    "])\n",
    "\n",
    "users_pages_df = spark.createDataFrame(users_pages_data, users_pages_schema)\n",
    "users_pages_df.createOrReplaceTempView(\"users_pages\")\n",
    "\n"
   ]
  },
  {
   "cell_type": "code",
   "execution_count": 11,
   "id": "cfedb8e4-2dd7-4b32-87d1-fef9c55b4463",
   "metadata": {
    "tags": []
   },
   "outputs": [
    {
     "name": "stdout",
     "output_type": "stream",
     "text": [
      "+-------+-------+\n",
      "|user_id|page_id|\n",
      "+-------+-------+\n",
      "|      2|     40|\n",
      "|      1|     20|\n",
      "|      1|     30|\n",
      "|      2|     10|\n",
      "|      1|     40|\n",
      "+-------+-------+\n",
      "\n"
     ]
    }
   ],
   "source": [
    "spark.sql(\n",
    "    \"\"\"\n",
    "        select DISTINCT f.user_id, p.page_id from users_pages p join users_friends as f on p.user_id = f.friend_id\n",
    "        where NOT EXISTS (\n",
    "            select 1 from users_pages u where f.user_id = u.user_id AND p.page_id = u.page_id\n",
    "        )\n",
    "    \"\"\").show()"
   ]
  },
  {
   "cell_type": "code",
   "execution_count": null,
   "id": "0cb99499-09d8-42e3-8784-959a23048277",
   "metadata": {},
   "outputs": [],
   "source": [
    "from pyspark.sql import functions as F\n",
    "\n",
    "\n",
    "friend_pages_df = users_friends_df.alias(\"f\") \\\n",
    "    .join(users_pages_df.alias(\"p\"), F.col(\"f.friend_id\") == F.col(\"p.user_id\")) \\\n",
    "    .select(F.col(\"f.user_id\").alias(\"user_id\"), F.col(\"p.page_id\").alias(\"page_id\"))\n",
    "\n",
    "user_pages_df = users_pages_df.select(\"user_id\", \"page_id\")\n",
    "\n",
    "recommend_df = friend_pages_df.join(\n",
    "    user_pages_df,\n",
    "    on=[\"user_id\", \"page_id\"],\n",
    "    how=\"left_anti\"  \n",
    ").distinct()\n",
    "\n",
    "recommend_df.show()"
   ]
  },
  {
   "cell_type": "code",
   "execution_count": 16,
   "id": "5ead5db3-4128-4d51-9cfe-156d6aeb11a1",
   "metadata": {
    "tags": []
   },
   "outputs": [
    {
     "name": "stdout",
     "output_type": "stream",
     "text": [
      "+-------+-------+-------+\n",
      "|user_id|page_id|user_id|\n",
      "+-------+-------+-------+\n",
      "|      2|     40|   null|\n",
      "|      1|     20|   null|\n",
      "|      1|     30|   null|\n",
      "|      2|     10|   null|\n",
      "|      1|     40|   null|\n",
      "+-------+-------+-------+\n",
      "\n"
     ]
    }
   ],
   "source": [
    "spark.sql(\n",
    "\"\"\"\n",
    "SELECT DISTINCT uf.user_id, fp.page_id, up.user_id\n",
    "FROM users_friends uf\n",
    "JOIN users_pages fp\n",
    "  ON uf.friend_id = fp.user_id  \n",
    "LEFT JOIN users_pages up\n",
    "    on up.user_id = uf.user_id AND up.page_id = fp.page_id\n",
    "WHERE up.user_id is NULL\n",
    "\"\"\").show()"
   ]
  },
  {
   "cell_type": "code",
   "execution_count": 18,
   "id": "662d579f-0dbf-4a97-8f78-e843697f2c61",
   "metadata": {
    "tags": []
   },
   "outputs": [
    {
     "name": "stdout",
     "output_type": "stream",
     "text": [
      "+-------+-------+\n",
      "|user_id|page_id|\n",
      "+-------+-------+\n",
      "|      2|     40|\n",
      "|      1|     20|\n",
      "|      1|     30|\n",
      "|      2|     10|\n",
      "|      1|     40|\n",
      "+-------+-------+\n",
      "\n"
     ]
    }
   ],
   "source": [
    "spark.sql(\"\"\"\n",
    "    SELECT DISTINCT uf.user_id, fp.page_id\n",
    "    FROM users_friends uf\n",
    "    JOIN users_pages fp\n",
    "    ON uf.friend_id = fp.user_id\n",
    "    WHERE (uf.user_id, fp.page_id) NOT IN (\n",
    "        select user_id, page_id from users_pages\n",
    "    )\n",
    "    \"\"\").show()"
   ]
  },
  {
   "cell_type": "code",
   "execution_count": null,
   "id": "316f2228-50f5-4f00-b6f6-701dd569c205",
   "metadata": {},
   "outputs": [],
   "source": []
  }
 ],
 "metadata": {
  "kernelspec": {
   "display_name": "Python 3 (ipykernel)",
   "language": "python",
   "name": "python3"
  },
  "language_info": {
   "codemirror_mode": {
    "name": "ipython",
    "version": 3
   },
   "file_extension": ".py",
   "mimetype": "text/x-python",
   "name": "python",
   "nbconvert_exporter": "python",
   "pygments_lexer": "ipython3",
   "version": "3.7.17"
  }
 },
 "nbformat": 4,
 "nbformat_minor": 5
}
