{
 "cells": [
  {
   "cell_type": "code",
   "execution_count": null,
   "id": "40d8a9da-8f83-4426-8577-8c5c979c7ff4",
   "metadata": {},
   "outputs": [],
   "source": [
    "from pyspark.sql.types import StructType, StructField, IntegerType\n",
    "\n",
    "# Data for users_friends\n",
    "users_friends_data = [\n",
    "    (1, 2),\n",
    "    (1, 3),\n",
    "    (2, 3),\n",
    "    (3, 1)\n",
    "]\n",
    "\n",
    "users_friends_schema = StructType([\n",
    "    StructField(\"user_id\", IntegerType(), False),\n",
    "    StructField(\"friend_id\", IntegerType(), False)\n",
    "])\n",
    "\n",
    "users_friends_df = spark.createDataFrame(users_friends_data, users_friends_schema)\n",
    "users_friends_df.createOrReplaceTempView(\"users_friends\")\n"
   ]
  }
 ],
 "metadata": {
  "kernelspec": {
   "display_name": "Python 3 (ipykernel)",
   "language": "python",
   "name": "python3"
  },
  "language_info": {
   "codemirror_mode": {
    "name": "ipython",
    "version": 3
   },
   "file_extension": ".py",
   "mimetype": "text/x-python",
   "name": "python",
   "nbconvert_exporter": "python",
   "pygments_lexer": "ipython3",
   "version": "3.7.17"
  }
 },
 "nbformat": 4,
 "nbformat_minor": 5
}
