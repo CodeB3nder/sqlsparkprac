{
 "cells": [
  {
   "cell_type": "code",
   "execution_count": 1,
   "id": "fde11d24-b4f5-475f-815d-710209b2c204",
   "metadata": {
    "tags": []
   },
   "outputs": [
    {
     "name": "stdout",
     "output_type": "stream",
     "text": [
      "+---------+---------+------------+--------+-----------+---------+----------+--------------+\n",
      "|invoiceno|stockcode| description|quantity|invoicedate|unitprice|customerid|       country|\n",
      "+---------+---------+------------+--------+-----------+---------+----------+--------------+\n",
      "|    10001|     1001|    RED LAMP|       5| 2011-01-15|     20.0|     12345|United Kingdom|\n",
      "|    10002|     1002|   BLUE LAMP|       3| 2011-01-20|     25.0|     12346|United Kingdom|\n",
      "|    10003|     1003| GREEN TABLE|       2| 2011-01-25|     50.0|     12347|        France|\n",
      "|    10004|     1001|    RED LAMP|       6| 2011-02-05|     20.0|     12348|       Germany|\n",
      "|    10005|     1002|   BLUE LAMP|       7| 2011-02-10|     25.0|     12349|       Germany|\n",
      "|    10006|     1004| WHITE CHAIR|       4| 2011-02-15|     30.0|     12350|         Spain|\n",
      "|    10007|     1004| WHITE CHAIR|       2| 2011-03-05|     30.0|     12351|        France|\n",
      "|    10008|     1002|   BLUE LAMP|       8| 2011-03-10|     25.0|     12352|            UK|\n",
      "|    10009|     1005|ORANGE COUCH|       1| 2011-03-12|    100.0|     12353|            UK|\n",
      "|    10010|     1001|    RED LAMP|      10| 2011-03-15|     20.0|     12354|       Germany|\n",
      "+---------+---------+------------+--------+-----------+---------+----------+--------------+\n",
      "\n"
     ]
    }
   ],
   "source": [
    "from pyspark.sql.types import StructType, StructField, StringType, IntegerType, DoubleType, DateType\n",
    "from datetime import datetime\n",
    "from pyspark.sql.types import StructType, StructField, IntegerType, StringType\n",
    "from pyspark.sql import SparkSession\n",
    "\n",
    "spark = SparkSession.builder.appName(\"PySparkTables\").getOrCreate()\n",
    "# Define sample data\n",
    "data = [\n",
    "    (\"10001\", \"1001\", \"RED LAMP\", 5, \"2011-01-15\", 20.00, \"12345\", \"United Kingdom\"),\n",
    "    (\"10002\", \"1002\", \"BLUE LAMP\", 3, \"2011-01-20\", 25.00, \"12346\", \"United Kingdom\"),\n",
    "    (\"10003\", \"1003\", \"GREEN TABLE\", 2, \"2011-01-25\", 50.00, \"12347\", \"France\"),\n",
    "    (\"10004\", \"1001\", \"RED LAMP\", 6, \"2011-02-05\", 20.00, \"12348\", \"Germany\"),\n",
    "    (\"10005\", \"1002\", \"BLUE LAMP\", 7, \"2011-02-10\", 25.00, \"12349\", \"Germany\"),\n",
    "    (\"10006\", \"1004\", \"WHITE CHAIR\", 4, \"2011-02-15\", 30.00, \"12350\", \"Spain\"),\n",
    "    (\"10007\", \"1004\", \"WHITE CHAIR\", 2, \"2011-03-05\", 30.00, \"12351\", \"France\"),\n",
    "    (\"10008\", \"1002\", \"BLUE LAMP\", 8, \"2011-03-10\", 25.00, \"12352\", \"UK\"),\n",
    "    (\"10009\", \"1005\", \"ORANGE COUCH\", 1, \"2011-03-12\", 100.00, \"12353\", \"UK\"),\n",
    "    (\"10010\", \"1001\", \"RED LAMP\", 10, \"2011-03-15\", 20.00, \"12354\", \"Germany\")\n",
    "]\n",
    "\n",
    "# Convert date strings to datetime.date\n",
    "for i in range(len(data)):\n",
    "    data[i] = list(data[i])\n",
    "    data[i][4] = datetime.strptime(data[i][4], \"%Y-%m-%d\").date()\n",
    "    data[i] = tuple(data[i])\n",
    "\n",
    "# Define schema\n",
    "schema = StructType([\n",
    "    StructField(\"invoiceno\", StringType(), True),\n",
    "    StructField(\"stockcode\", StringType(), True),\n",
    "    StructField(\"description\", StringType(), True),\n",
    "    StructField(\"quantity\", IntegerType(), True),\n",
    "    StructField(\"invoicedate\", DateType(), True),   # Converted to proper DateType\n",
    "    StructField(\"unitprice\", DoubleType(), True),\n",
    "    StructField(\"customerid\", StringType(), True),\n",
    "    StructField(\"country\", StringType(), True),\n",
    "])\n",
    "\n",
    "# Create DataFrame\n",
    "df = spark.createDataFrame(data, schema)\n",
    "\n",
    "# Register as temporary view for SQL\n",
    "df.createOrReplaceTempView(\"invoices\")\n",
    "\n",
    "# Show DataFrame\n",
    "df.show()\n",
    "from pyspark.sql import SparkSession\n",
    "from pyspark.sql.types import StructType, StructField, IntegerType, StringType\n",
    "spark = SparkSession.builder.appName(\"PySparkTables\").getOrCreate()"
   ]
  },
  {
   "cell_type": "code",
   "execution_count": 5,
   "id": "a7134e50-62ab-4dad-af30-3410541ddd78",
   "metadata": {
    "tags": []
   },
   "outputs": [
    {
     "name": "stdout",
     "output_type": "stream",
     "text": [
      "+---+------------+---------------------------+\n",
      "|mnt| description|sum((quantity * unitprice))|\n",
      "+---+------------+---------------------------+\n",
      "|  1|    RED LAMP|                      100.0|\n",
      "|  1|   BLUE LAMP|                       75.0|\n",
      "|  1| GREEN TABLE|                      100.0|\n",
      "|  2|    RED LAMP|                      120.0|\n",
      "|  2|   BLUE LAMP|                      175.0|\n",
      "|  2| WHITE CHAIR|                      120.0|\n",
      "|  3| WHITE CHAIR|                       60.0|\n",
      "|  3|   BLUE LAMP|                      200.0|\n",
      "|  3|    RED LAMP|                      200.0|\n",
      "|  3|ORANGE COUCH|                      100.0|\n",
      "+---+------------+---------------------------+\n",
      "\n"
     ]
    }
   ],
   "source": [
    "spark.sql(\"\"\"\n",
    "select month(invoicedate) as mnt, description, SUM(quantity*unitprice)\n",
    "from invoices\n",
    "group by month(invoicedate), description\n",
    "\"\"\").show()"
   ]
  },
  {
   "cell_type": "code",
   "execution_count": null,
   "id": "4d7e10b1-7c03-4bf4-ad24-4e5f7dbce946",
   "metadata": {},
   "outputs": [],
   "source": []
  }
 ],
 "metadata": {
  "kernelspec": {
   "display_name": "Python 3 (ipykernel)",
   "language": "python",
   "name": "python3"
  },
  "language_info": {
   "codemirror_mode": {
    "name": "ipython",
    "version": 3
   },
   "file_extension": ".py",
   "mimetype": "text/x-python",
   "name": "python",
   "nbconvert_exporter": "python",
   "pygments_lexer": "ipython3",
   "version": "3.7.17"
  }
 },
 "nbformat": 4,
 "nbformat_minor": 5
}
