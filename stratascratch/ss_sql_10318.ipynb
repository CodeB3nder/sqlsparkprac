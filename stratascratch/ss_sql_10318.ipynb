{
 "cells": [
  {
   "cell_type": "code",
   "execution_count": 1,
   "id": "c0cd3c4e-6787-46fa-b218-0531c33bf5ed",
   "metadata": {
    "tags": []
   },
   "outputs": [],
   "source": [
    "from pyspark.sql.types import StructType, StructField, IntegerType, StringType\n",
    "from pyspark.sql import SparkSession\n",
    "\n",
    "from pyspark.sql.types import StructType, StructField, IntegerType, StringType, DoubleType\n",
    "spark = SparkSession.builder.appName(\"PySparkTables\").getOrCreate()\n",
    "# Raw data\n",
    "cars_data = [\n",
    "    (2019, \"Toyota\", \"Avalon\"),\n",
    "    (2019, \"Toyota\", \"Camry\"),\n",
    "    (2020, \"Toyota\", \"Corolla\"),\n",
    "    (2019, \"Honda\", \"Accord\"),\n",
    "    (2019, \"Honda\", \"Passport\"),\n",
    "    (2019, \"Honda\", \"CR-V\"),\n",
    "    (2020, \"Honda\", \"Pilot\"),\n",
    "    (2019, \"Honda\", \"Civic\"),\n",
    "    (2020, \"Chevrolet\", \"Trailblazer\"),\n",
    "    (2020, \"Chevrolet\", \"Trax\"),\n",
    "    (2019, \"Chevrolet\", \"Traverse\"),\n",
    "    (2020, \"Chevrolet\", \"Blazer\"),\n",
    "    (2019, \"Ford\", \"Figo\"),\n",
    "    (2020, \"Ford\", \"Aspire\"),\n",
    "    (2019, \"Ford\", \"Endeavour\"),\n",
    "    (2020, \"Jeep\", \"Wrangler\"),\n",
    "    (2020, \"Jeep\", \"Cherokee\"),\n",
    "    (2020, \"Jeep\", \"Compass\"),\n",
    "    (2019, \"Jeep\", \"Renegade\"),\n",
    "    (2019, \"Jeep\", \"Gladiator\"),\n",
    "]\n",
    "\n",
    "# Schema\n",
    "cars_schema = StructType([\n",
    "    StructField(\"year\", IntegerType(), False),\n",
    "    StructField(\"company_name\", StringType(), False),\n",
    "    StructField(\"product_name\", StringType(), False),\n",
    "])\n",
    "\n",
    "# Create DataFrame\n",
    "cars_df = spark.createDataFrame(cars_data, schema=cars_schema)\n",
    "\n",
    "# Register as temporary view\n",
    "cars_df.createOrReplaceTempView(\"cars\")\n"
   ]
  },
  {
   "cell_type": "code",
   "execution_count": 6,
   "id": "50e1e5e8-d3e7-42c6-986f-532cc0df6c71",
   "metadata": {
    "tags": []
   },
   "outputs": [
    {
     "name": "stdout",
     "output_type": "stream",
     "text": [
      "+------------+---+\n",
      "|company_name| sm|\n",
      "+------------+---+\n",
      "|      Toyota|  1|\n",
      "|       Honda|  3|\n",
      "|   Chevrolet| -2|\n",
      "|        Ford|  1|\n",
      "|        Jeep| -1|\n",
      "+------------+---+\n",
      "\n"
     ]
    }
   ],
   "source": [
    "spark.sql(\"\"\"\n",
    "    select company_name,\n",
    "    SUM(CASE WHEN year = 2020 THEN 1 ELSE 0 END) - SUM(CASE WHEN year = 2019 THEN 1 ELSE 0 END) as sm\n",
    "    from cars\n",
    "    group by company_name\n",
    "\"\"\").show()"
   ]
  },
  {
   "cell_type": "code",
   "execution_count": null,
   "id": "a4886112-230b-44e1-b8f5-7deca04c54e1",
   "metadata": {},
   "outputs": [],
   "source": []
  }
 ],
 "metadata": {
  "kernelspec": {
   "display_name": "Python 3 (ipykernel)",
   "language": "python",
   "name": "python3"
  },
  "language_info": {
   "codemirror_mode": {
    "name": "ipython",
    "version": 3
   },
   "file_extension": ".py",
   "mimetype": "text/x-python",
   "name": "python",
   "nbconvert_exporter": "python",
   "pygments_lexer": "ipython3",
   "version": "3.7.17"
  }
 },
 "nbformat": 4,
 "nbformat_minor": 5
}
