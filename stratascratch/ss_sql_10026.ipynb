select winery from winemag_p1
where description REGEXP '\\b(plum|cherry|rose|hazelnut)\\b'
