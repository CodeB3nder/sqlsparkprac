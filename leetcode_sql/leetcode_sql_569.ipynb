{
 "cells": [
  {
   "cell_type": "code",
   "execution_count": 3,
   "id": "1949eadb-b48d-4153-b199-5bce9ac59bef",
   "metadata": {
    "tags": []
   },
   "outputs": [],
   "source": [
    "from pyspark.sql.types import StructType, StructField, IntegerType, StringType\n",
    "from pyspark.sql import SparkSession\n",
    "from pyspark.sql.types import StructType, StructField, IntegerType, StringType\n",
    "spark = SparkSession.builder.appName(\"PySparkTables\").getOrCreate()\n",
    "\n",
    "# Sample data\n",
    "employee_data = [\n",
    "    (1, 'A', 100),\n",
    "    (2, 'A', 200),\n",
    "    (3, 'A', 300),\n",
    "    (4, 'B', 400),\n",
    "    (5, 'B', 500),\n",
    "]\n",
    "\n",
    "# Define schema\n",
    "employee_schema = StructType([\n",
    "    StructField(\"id\", IntegerType(), False),\n",
    "    StructField(\"company\", StringType(), False),\n",
    "    StructField(\"salary\", IntegerType(), False),\n",
    "])\n",
    "\n",
    "# Create DataFrame\n",
    "employee_df = spark.createDataFrame(employee_data, employee_schema)\n",
    "\n",
    "# Register as temporary view\n",
    "employee_df.createOrReplaceTempView(\"Employee\")\n"
   ]
  },
  {
   "cell_type": "code",
   "execution_count": 15,
   "id": "ccff28d4-f7aa-4a69-9718-ad3e827318fc",
   "metadata": {
    "tags": []
   },
   "outputs": [
    {
     "name": "stdout",
     "output_type": "stream",
     "text": [
      "+-------+-------------+\n",
      "|company|median_salary|\n",
      "+-------+-------------+\n",
      "|      A|        200.0|\n",
      "|      B|        500.0|\n",
      "+-------+-------------+\n",
      "\n"
     ]
    }
   ],
   "source": [
    "spark.sql(\n",
    "\"\"\"\n",
    "SELECT company, \n",
    "       ROUND(AVG(salary), 0) AS median_salary\n",
    "FROM (\n",
    "    SELECT company, salary,\n",
    "           ROW_NUMBER() OVER (PARTITION BY company ORDER BY salary) AS rn,\n",
    "           COUNT(*) OVER (PARTITION BY company) AS cnt\n",
    "    FROM Employee\n",
    ") AS ranked\n",
    "WHERE rn = (cnt + 1) / 2      -- For odd count: middle element\n",
    "   OR rn = (cnt + 2) / 2      -- For even count: average of middle two\n",
    "GROUP BY company;\n",
    "\"\"\").show()"
   ]
  },
  {
   "cell_type": "code",
   "execution_count": null,
   "id": "ce3692cb-0f0f-450c-b04c-cb95ff4de6e2",
   "metadata": {},
   "outputs": [],
   "source": []
  }
 ],
 "metadata": {
  "kernelspec": {
   "display_name": "Python 3 (ipykernel)",
   "language": "python",
   "name": "python3"
  },
  "language_info": {
   "codemirror_mode": {
    "name": "ipython",
    "version": 3
   },
   "file_extension": ".py",
   "mimetype": "text/x-python",
   "name": "python",
   "nbconvert_exporter": "python",
   "pygments_lexer": "ipython3",
   "version": "3.7.17"
  }
 },
 "nbformat": 4,
 "nbformat_minor": 5
}
