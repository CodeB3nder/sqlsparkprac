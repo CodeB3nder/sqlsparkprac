{
 "cells": [
  {
   "cell_type": "code",
   "execution_count": 1,
   "id": "7117d97f-448a-4681-957d-3c320c7fe11f",
   "metadata": {
    "tags": []
   },
   "outputs": [],
   "source": [
    "from pyspark.sql.types import StructType, StructField, IntegerType, StringType\n",
    "from pyspark.sql import SparkSession\n",
    "from pyspark.sql.types import StructType, StructField, IntegerType, StringType\n",
    "spark = SparkSession.builder.appName(\"PySparkTables\").getOrCreate()\n",
    "# Define data\n",
    "employees_data = [\n",
    "    (101, 'John',  'A', None),\n",
    "    (102, 'Dan',   'A', 101),\n",
    "    (103, 'James', 'A', 101),\n",
    "    (104, 'Amy',   'A', 101),\n",
    "    (105, 'Anne',  'A', 101),\n",
    "    (106, 'Ron',   'B', 101),\n",
    "]\n",
    "\n",
    "# Define schema\n",
    "employees_schema = StructType([\n",
    "    StructField(\"id\", IntegerType(), False),\n",
    "    StructField(\"name\", StringType(), False),\n",
    "    StructField(\"department\", StringType(), False),\n",
    "    StructField(\"managerId\", IntegerType(), True),\n",
    "])\n",
    "\n",
    "# Create DataFrame\n",
    "employees_df = spark.createDataFrame(employees_data, employees_schema)\n",
    "\n",
    "# Register temporary view\n",
    "employees_df.createOrReplaceTempView(\"Employees\")\n"
   ]
  },
  {
   "cell_type": "code",
   "execution_count": 3,
   "id": "c870d54b-b304-4826-8ec1-21fc137a0b2f",
   "metadata": {
    "tags": []
   },
   "outputs": [
    {
     "name": "stdout",
     "output_type": "stream",
     "text": [
      "+----+\n",
      "|name|\n",
      "+----+\n",
      "|John|\n",
      "+----+\n",
      "\n"
     ]
    }
   ],
   "source": [
    "spark.sql(\"\"\"\n",
    "    select name \n",
    "from Employees\n",
    "where id in (\n",
    " select managerid from Employees\n",
    " group by managerid\n",
    " having count(managerid) >= 5\n",
    "); \n",
    "\"\"\").show()"
   ]
  },
  {
   "cell_type": "code",
   "execution_count": null,
   "id": "5bf8f08d-e01e-41bf-afbd-589131f42c2b",
   "metadata": {},
   "outputs": [],
   "source": []
  }
 ],
 "metadata": {
  "kernelspec": {
   "display_name": "Python 3 (ipykernel)",
   "language": "python",
   "name": "python3"
  },
  "language_info": {
   "codemirror_mode": {
    "name": "ipython",
    "version": 3
   },
   "file_extension": ".py",
   "mimetype": "text/x-python",
   "name": "python",
   "nbconvert_exporter": "python",
   "pygments_lexer": "ipython3",
   "version": "3.7.17"
  }
 },
 "nbformat": 4,
 "nbformat_minor": 5
}
