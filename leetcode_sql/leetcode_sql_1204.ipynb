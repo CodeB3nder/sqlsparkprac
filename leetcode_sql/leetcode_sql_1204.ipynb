{
 "cells": [
  {
   "cell_type": "code",
   "execution_count": 2,
   "id": "6c3dca9f-773c-46d1-afe0-9509048294bd",
   "metadata": {
    "tags": []
   },
   "outputs": [],
   "source": [
    "from pyspark.sql import SparkSession\n",
    "from pyspark.sql.types import StructType, StructField, IntegerType, DateType, StringType\n",
    "from pyspark.sql.functions import to_date\n",
    "\n",
    "spark = SparkSession.builder.appName(\"ProductsTable\").getOrCreate()\n",
    "\n",
    "schema_queue = StructType([\n",
    "    StructField(\"person_id\", IntegerType(), True),\n",
    "    StructField(\"person_name\", StringType(), True),\n",
    "    StructField(\"weight\", IntegerType(), True),\n",
    "    StructField(\"turn\", IntegerType(), True)\n",
    "])\n",
    "\n",
    "# Create data for Queue table\n",
    "data_queue = [\n",
    "    (5, \"Alice\", 250, 1),\n",
    "    (4, \"Bob\", 175, 5),\n",
    "    (3, \"Alex\", 350, 2),\n",
    "    (6, \"John Cena\", 400, 3),\n",
    "    (1, \"Winston\", 500, 6),\n",
    "    (2, \"Marie\", 200, 4)\n",
    "]\n",
    "\n",
    "# Create DataFrame for Queue\n",
    "df_queue = spark.createDataFrame(data_queue, schema=schema_queue)\n",
    "\n",
    "# Register DataFrame as a SQL temporary table\n",
    "df_queue.createOrReplaceTempView(\"Queue\")"
   ]
  },
  {
   "cell_type": "code",
   "execution_count": 16,
   "id": "207f47ef-fea5-47ec-9e9d-2e8164c2fb06",
   "metadata": {
    "tags": []
   },
   "outputs": [
    {
     "name": "stdout",
     "output_type": "stream",
     "text": [
      "+-----------+\n",
      "|person_name|\n",
      "+-----------+\n",
      "|  John Cena|\n",
      "+-----------+\n",
      "\n"
     ]
    }
   ],
   "source": [
    "spark.sql(\"\"\"\n",
    "    with cum_sum as (select person_id, person_name, turn,\n",
    "    SUM(Weight) OVER(ORDER BY turn range between unbounded preceding and current row) AS total_weight\n",
    "    from Queue)\n",
    "    SELECT person_name\n",
    "    FROM cum_sum\n",
    "    WHERE total_weight <= 1000\n",
    "    ORDER BY total_weight DESC\n",
    "    LIMIT 1\n",
    "\"\"\").show()"
   ]
  },
  {
   "cell_type": "code",
   "execution_count": 20,
   "id": "57b60a55-4609-4565-81bd-60d680302a81",
   "metadata": {
    "tags": []
   },
   "outputs": [],
   "source": [
    "from pyspark.sql.functions import *\n",
    "from pyspark.sql import Window\n",
    "windowSpec = Window.orderBy(\"turn\").rangeBetween(Window.unboundedPreceding, Window.currentRow)\n",
    "cum_sum  = df_queue.withColumn('cum_weight', sum(col('Weight')).over(windowSpec))"
   ]
  },
  {
   "cell_type": "code",
   "execution_count": 26,
   "id": "0c1b4298-191c-4cce-8e2d-f2303d1c2cca",
   "metadata": {
    "tags": []
   },
   "outputs": [
    {
     "name": "stdout",
     "output_type": "stream",
     "text": [
      "+-----------+\n",
      "|person_name|\n",
      "+-----------+\n",
      "|  John Cena|\n",
      "+-----------+\n",
      "\n"
     ]
    }
   ],
   "source": [
    "cum_sum.filter(col(\"cum_weight\")<=1000).orderBy(col(\"cum_weight\").desc()).select(\"person_name\").limit(1).show()"
   ]
  },
  {
   "cell_type": "code",
   "execution_count": null,
   "id": "81a0b611-67e1-4fd5-8105-9d0fb351788a",
   "metadata": {},
   "outputs": [],
   "source": []
  }
 ],
 "metadata": {
  "kernelspec": {
   "display_name": "Python 3 (ipykernel)",
   "language": "python",
   "name": "python3"
  },
  "language_info": {
   "codemirror_mode": {
    "name": "ipython",
    "version": 3
   },
   "file_extension": ".py",
   "mimetype": "text/x-python",
   "name": "python",
   "nbconvert_exporter": "python",
   "pygments_lexer": "ipython3",
   "version": "3.7.17"
  }
 },
 "nbformat": 4,
 "nbformat_minor": 5
}
