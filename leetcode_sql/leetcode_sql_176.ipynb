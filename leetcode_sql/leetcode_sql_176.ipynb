{
 "cells": [
  {
   "cell_type": "code",
   "execution_count": 7,
   "id": "0558e641-ed76-4655-bd67-e514b2247cc8",
   "metadata": {
    "tags": []
   },
   "outputs": [],
   "source": [
    "from pyspark.sql.types import StructType, StructField, IntegerType, StringType\n",
    "from pyspark.sql import SparkSession\n",
    "from pyspark.sql.types import StructType, StructField, IntegerType, StringType\n",
    "spark = SparkSession.builder.appName(\"PySparkTables\").getOrCreate()\n",
    "\n",
    "# Sample data\n",
    "employee_data = [\n",
    "    (1, 'A', 100),\n",
    "    (2, 'A', 200),\n",
    "    (3, 'A', 300),\n",
    "    (4, 'B', 400),\n",
    "    (5, 'B', 500),\n",
    "    (6, 'C', 100)\n",
    "]\n",
    "\n",
    "# Define schema\n",
    "employee_schema = StructType([\n",
    "    StructField(\"id\", IntegerType(), False),\n",
    "    StructField(\"company\", StringType(), False),\n",
    "    StructField(\"salary\", IntegerType(), False),\n",
    "])\n",
    "\n",
    "# Create DataFrame\n",
    "employee_df = spark.createDataFrame(employee_data, employee_schema)\n",
    "\n",
    "# Register as temporary view\n",
    "employee_df.createOrReplaceTempView(\"Employee\")\n"
   ]
  },
  {
   "cell_type": "code",
   "execution_count": 22,
   "id": "c792133f-bd09-4f89-a58a-304f79702a27",
   "metadata": {
    "tags": []
   },
   "outputs": [
    {
     "name": "stdout",
     "output_type": "stream",
     "text": [
      "+-------+------+\n",
      "|company|salary|\n",
      "+-------+------+\n",
      "|      A|   200|\n",
      "|      B|   400|\n",
      "|      C|  null|\n",
      "+-------+------+\n",
      "\n"
     ]
    },
    {
     "name": "stderr",
     "output_type": "stream",
     "text": [
      "----------------------------------------\n",
      "Exception happened during processing of request from ('127.0.0.1', 55296)\n",
      "Traceback (most recent call last):\n",
      "  File \"/usr/local/lib/python3.7/socketserver.py\", line 316, in _handle_request_noblock\n",
      "    self.process_request(request, client_address)\n",
      "  File \"/usr/local/lib/python3.7/socketserver.py\", line 347, in process_request\n",
      "    self.finish_request(request, client_address)\n",
      "  File \"/usr/local/lib/python3.7/socketserver.py\", line 360, in finish_request\n",
      "    self.RequestHandlerClass(request, client_address, self)\n",
      "  File \"/usr/local/lib/python3.7/socketserver.py\", line 720, in __init__\n",
      "    self.handle()\n",
      "  File \"/spark/python/pyspark/accumulators.py\", line 281, in handle\n",
      "    poll(accum_updates)\n",
      "  File \"/spark/python/pyspark/accumulators.py\", line 253, in poll\n",
      "    if func():\n",
      "  File \"/spark/python/pyspark/accumulators.py\", line 257, in accum_updates\n",
      "    num_updates = read_int(self.rfile)\n",
      "  File \"/spark/python/pyspark/serializers.py\", line 595, in read_int\n",
      "    raise EOFError\n",
      "EOFError\n",
      "----------------------------------------\n"
     ]
    }
   ],
   "source": [
    "spark.sql(\"\"\"\n",
    "    with cte as (\n",
    "    select *,\n",
    "    row_number() over(partition by company order by salary desc) as rn\n",
    "    from Employee),\n",
    "     \n",
    "    second_highest as (select company, salary\n",
    "    from cte where rn = 2)\n",
    "    \n",
    "    select DISTINCT e.company, s.salary from Employee as e left join second_highest as s on e.company = s.company\n",
    "\"\"\").show()"
   ]
  },
  {
   "cell_type": "code",
   "execution_count": null,
   "id": "2462847a-6836-4015-a90d-bb7b72a8302f",
   "metadata": {},
   "outputs": [],
   "source": []
  },
  {
   "cell_type": "code",
   "execution_count": null,
   "id": "e4ac0216-f9e1-4fea-bfc9-ef6097bb856e",
   "metadata": {},
   "outputs": [],
   "source": []
  }
 ],
 "metadata": {
  "kernelspec": {
   "display_name": "Python 3 (ipykernel)",
   "language": "python",
   "name": "python3"
  },
  "language_info": {
   "codemirror_mode": {
    "name": "ipython",
    "version": 3
   },
   "file_extension": ".py",
   "mimetype": "text/x-python",
   "name": "python",
   "nbconvert_exporter": "python",
   "pygments_lexer": "ipython3",
   "version": "3.7.17"
  }
 },
 "nbformat": 4,
 "nbformat_minor": 5
}
