{
 "cells": [
  {
   "cell_type": "code",
   "execution_count": 32,
   "id": "1317e182-ace6-4b40-9779-a84219db378f",
   "metadata": {
    "tags": []
   },
   "outputs": [
    {
     "name": "stdout",
     "output_type": "stream",
     "text": [
      "Employees table and view created successfully.\n"
     ]
    }
   ],
   "source": [
    "from pyspark.sql import SparkSession\n",
    "from pyspark.sql.types import StructType, StructField, IntegerType, StringType\n",
    "spark = SparkSession.builder.appName(\"PySparkTables\").getOrCreate()\n",
    "\n",
    "# Define schema\n",
    "schema = StructType([\n",
    "    StructField(\"employee_id\", IntegerType(), True),\n",
    "    StructField(\"name\", StringType(), True),\n",
    "    StructField(\"manager_id\", IntegerType(), True),\n",
    "    StructField(\"salary\", IntegerType(), True)\n",
    "])\n",
    "\n",
    "# Create DataFrame\n",
    "data = [\n",
    "    (3, \"Mila\", 9, 60301),\n",
    "    (12, \"Antonella\", None, 31000),\n",
    "    (13, \"Emery\", None, 67084),\n",
    "    (1, \"Kalel\", 11, 21241),\n",
    "    (9, \"Mikaela\", None, 50937),\n",
    "    (11, \"Joziah\", 6, 28485)\n",
    "]\n",
    "\n",
    "df = spark.createDataFrame(data, schema=schema)\n",
    "\n",
    "# Create a temporary view for SQL queries\n",
    "df.createOrReplaceTempView(\"Employees\")\n",
    "\n",
    "\n",
    "print(\"Employees table and view created successfully.\")\n"
   ]
  },
  {
   "cell_type": "code",
   "execution_count": null,
   "id": "0397f97d-5c1a-4558-98b0-3c5fc8f90406",
   "metadata": {},
   "outputs": [],
   "source": [
    "Find the IDs of the employees whose salary is strictly less than $30000 and \n",
    "whose manager left the company."
   ]
  },
  {
   "cell_type": "code",
   "execution_count": 14,
   "id": "6fd2c9ba-b2d1-4bc9-90f9-169d35e5820c",
   "metadata": {
    "tags": []
   },
   "outputs": [
    {
     "name": "stdout",
     "output_type": "stream",
     "text": [
      "+-----------+\n",
      "|employee_id|\n",
      "+-----------+\n",
      "|          1|\n",
      "|         11|\n",
      "+-----------+\n",
      "\n"
     ]
    }
   ],
   "source": [
    "spark.sql(\"\"\"\n",
    "    SELECT employee_id\n",
    "    FROM Employees\n",
    "    WHERE salary < 30000\n",
    "    AND manager_id IS NOT NULL\n",
    "    AND manager_id NOT IN (SELECT employee_id FROM Employees)\n",
    "    ORDER BY employee_id;\n",
    "\"\"\").show()"
   ]
  },
  {
   "cell_type": "code",
   "execution_count": 15,
   "id": "74056a78-dbc5-4df7-99ef-58461689f896",
   "metadata": {
    "tags": []
   },
   "outputs": [
    {
     "name": "stdout",
     "output_type": "stream",
     "text": [
      "+----------+\n",
      "|manager_id|\n",
      "+----------+\n",
      "|         6|\n",
      "+----------+\n",
      "\n"
     ]
    }
   ],
   "source": [
    "spark.sql(\"\"\"select manager_id from Employees where manager_id NOT IN (SELECT employee_id FROM Employees)\"\"\").show()"
   ]
  },
  {
   "cell_type": "code",
   "execution_count": 33,
   "id": "942268e6-2062-42a3-8216-8b4ba9b637da",
   "metadata": {
    "tags": []
   },
   "outputs": [],
   "source": [
    "from pyspark.sql.functions import *\n",
    "df_filtered = df.filter(col('salary') < 30000). \\\n",
    "                    filter(col('manager_id').isNotNull())"
   ]
  },
  {
   "cell_type": "code",
   "execution_count": 36,
   "id": "028ef1d8-6fc2-41a2-9e09-52172638859a",
   "metadata": {
    "tags": []
   },
   "outputs": [],
   "source": [
    "result_df = df_filtered.alias(\"f\").join(\n",
    "    df.alias(\"e\"), \n",
    "    col(\"f.manager_id\") == col(\"e.employee_id\"), \n",
    "    \"left_anti\"\n",
    ")"
   ]
  },
  {
   "cell_type": "code",
   "execution_count": 37,
   "id": "81fc5a02-4b42-48bf-9b78-d5dab8750889",
   "metadata": {
    "tags": []
   },
   "outputs": [
    {
     "name": "stdout",
     "output_type": "stream",
     "text": [
      "+-----------+------+----------+------+\n",
      "|employee_id|  name|manager_id|salary|\n",
      "+-----------+------+----------+------+\n",
      "|         11|Joziah|         6| 28485|\n",
      "+-----------+------+----------+------+\n",
      "\n"
     ]
    },
    {
     "name": "stderr",
     "output_type": "stream",
     "text": [
      "----------------------------------------\n",
      "Exception happened during processing of request from ('127.0.0.1', 55106)\n",
      "Traceback (most recent call last):\n",
      "  File \"/usr/local/lib/python3.7/socketserver.py\", line 316, in _handle_request_noblock\n",
      "    self.process_request(request, client_address)\n",
      "  File \"/usr/local/lib/python3.7/socketserver.py\", line 347, in process_request\n",
      "    self.finish_request(request, client_address)\n",
      "  File \"/usr/local/lib/python3.7/socketserver.py\", line 360, in finish_request\n",
      "    self.RequestHandlerClass(request, client_address, self)\n",
      "  File \"/usr/local/lib/python3.7/socketserver.py\", line 720, in __init__\n",
      "    self.handle()\n",
      "  File \"/spark/python/pyspark/accumulators.py\", line 281, in handle\n",
      "    poll(accum_updates)\n",
      "  File \"/spark/python/pyspark/accumulators.py\", line 253, in poll\n",
      "    if func():\n",
      "  File \"/spark/python/pyspark/accumulators.py\", line 257, in accum_updates\n",
      "    num_updates = read_int(self.rfile)\n",
      "  File \"/spark/python/pyspark/serializers.py\", line 595, in read_int\n",
      "    raise EOFError\n",
      "EOFError\n",
      "----------------------------------------\n"
     ]
    }
   ],
   "source": [
    "result_df.show()"
   ]
  },
  {
   "cell_type": "code",
   "execution_count": null,
   "id": "8a1d1e02-157b-4832-b57b-c3a13c3609f5",
   "metadata": {},
   "outputs": [],
   "source": []
  }
 ],
 "metadata": {
  "kernelspec": {
   "display_name": "Python 3 (ipykernel)",
   "language": "python",
   "name": "python3"
  },
  "language_info": {
   "codemirror_mode": {
    "name": "ipython",
    "version": 3
   },
   "file_extension": ".py",
   "mimetype": "text/x-python",
   "name": "python",
   "nbconvert_exporter": "python",
   "pygments_lexer": "ipython3",
   "version": "3.7.17"
  }
 },
 "nbformat": 4,
 "nbformat_minor": 5
}
