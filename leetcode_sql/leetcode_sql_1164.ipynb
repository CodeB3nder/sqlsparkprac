{
 "cells": [
  {
   "cell_type": "code",
   "execution_count": 7,
   "id": "c921c484-a359-4cb9-a3c7-a2048a063fef",
   "metadata": {
    "tags": []
   },
   "outputs": [
    {
     "name": "stdout",
     "output_type": "stream",
     "text": [
      "+----------+---------+-----------+\n",
      "|product_id|new_price|change_date|\n",
      "+----------+---------+-----------+\n",
      "|         1|       20| 2019-08-14|\n",
      "|         2|       50| 2019-08-14|\n",
      "|         1|       30| 2019-08-15|\n",
      "|         1|       35| 2019-08-16|\n",
      "|         2|       65| 2019-08-17|\n",
      "|         3|       20| 2019-08-18|\n",
      "+----------+---------+-----------+\n",
      "\n"
     ]
    }
   ],
   "source": [
    "from pyspark.sql import SparkSession\n",
    "from pyspark.sql.types import StructType, StructField, IntegerType, DateType, StringType\n",
    "from pyspark.sql.functions import to_date\n",
    "\n",
    "\n",
    "# Initialize Spark Session\n",
    "spark = SparkSession.builder.appName(\"ProductsTable\").getOrCreate()\n",
    "\n",
    "# Define schema for Products table\n",
    "schema = StructType([\n",
    "    StructField(\"product_id\", IntegerType(), True),\n",
    "    StructField(\"new_price\", IntegerType(), True),\n",
    "    StructField(\"change_date\", StringType(), True)\n",
    "])\n",
    "\n",
    "# Create data\n",
    "data = [\n",
    "    (1, 20, \"2019-08-14\"),\n",
    "    (2, 50, \"2019-08-14\"),\n",
    "    (1, 30, \"2019-08-15\"),\n",
    "    (1, 35, \"2019-08-16\"),\n",
    "    (2, 65, \"2019-08-17\"),\n",
    "    (3, 20, \"2019-08-18\")\n",
    "]\n",
    "\n",
    "# Create DataFrame\n",
    "products_df = spark.createDataFrame(data, schema=schema)\n",
    "products_df = products_df.withColumn(\"change_date\", to_date(\"change_date\"))\n",
    "\n",
    "# Register DataFrame as a SQL temporary table\n",
    "products_df.createOrReplaceTempView(\"Products\")\n",
    "\n",
    "# Display the table\n",
    "spark.sql(\"SELECT * FROM Products\").show()\n"
   ]
  },
  {
   "cell_type": "code",
   "execution_count": 40,
   "id": "1ec2e190-0059-491b-a1c3-f722adae363c",
   "metadata": {
    "tags": []
   },
   "outputs": [
    {
     "name": "stdout",
     "output_type": "stream",
     "text": [
      "+----------+-----+\n",
      "|product_id|price|\n",
      "+----------+-----+\n",
      "|         1|   35|\n",
      "|         2|   50|\n",
      "|         3|   10|\n",
      "+----------+-----+\n",
      "\n"
     ]
    }
   ],
   "source": [
    "spark.sql(\"\"\"\n",
    "    with cte as (select * from \n",
    "    (select *,\n",
    "    last_value(new_price) over (partition by product_id order by change_date range between unbounded preceding and unbounded following) as last_value\n",
    "    from products\n",
    "    where change_date <= '2019-08-16'))\n",
    "    \n",
    "    select distinct p.product_id, coalesce(c.last_value,10) as price \n",
    "    from products p left join cte c on p.product_id=c.product_id\n",
    "\"\"\").show()"
   ]
  },
  {
   "cell_type": "code",
   "execution_count": 46,
   "id": "d9777706-c177-4599-8784-5a2fc7952d66",
   "metadata": {
    "tags": []
   },
   "outputs": [],
   "source": [
    "from pyspark.sql.functions import *\n",
    "from pyspark.sql import Window\n",
    "windowSpec  = Window.partitionBy(\"product_id\").orderBy(\"change_date\").rowsBetween(Window.unboundedPreceding, Window.unboundedFollowing)\n",
    "cte = (\n",
    "    products_df\n",
    "    .filter(col(\"change_date\") <= \"2019-08-16\")\n",
    "    .withColumn(\"last_value\", last(\"new_price\").over(windowSpec))\n",
    ")"
   ]
  },
  {
   "cell_type": "code",
   "execution_count": 62,
   "id": "24a21b9a-f8d8-4bea-a78b-e185b180e0d2",
   "metadata": {
    "tags": []
   },
   "outputs": [
    {
     "name": "stdout",
     "output_type": "stream",
     "text": [
      "+----------+-----+\n",
      "|product_id|price|\n",
      "+----------+-----+\n",
      "|         1|   35|\n",
      "|         2|   50|\n",
      "|         3|   10|\n",
      "+----------+-----+\n",
      "\n"
     ]
    }
   ],
   "source": [
    "products_df.alias(\"p\").join(cte.alias(\"c\"), on = col('p.product_id') == col('c.product_id'), how = \"left\").select(\n",
    "    col(\"p.product_id\"), \n",
    "    coalesce(col(\"c.last_value\"),lit(10)).alias(\"price\")\n",
    ").distinct().show()"
   ]
  },
  {
   "cell_type": "code",
   "execution_count": null,
   "id": "6d715a61-8930-46e2-ad9f-6d52fcc9e473",
   "metadata": {},
   "outputs": [],
   "source": []
  }
 ],
 "metadata": {
  "kernelspec": {
   "display_name": "Python 3 (ipykernel)",
   "language": "python",
   "name": "python3"
  },
  "language_info": {
   "codemirror_mode": {
    "name": "ipython",
    "version": 3
   },
   "file_extension": ".py",
   "mimetype": "text/x-python",
   "name": "python",
   "nbconvert_exporter": "python",
   "pygments_lexer": "ipython3",
   "version": "3.7.17"
  }
 },
 "nbformat": 4,
 "nbformat_minor": 5
}
