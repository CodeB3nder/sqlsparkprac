{
 "cells": [
  {
   "cell_type": "code",
   "execution_count": 2,
   "id": "3168034f-9b11-434f-8566-eb91aba67a46",
   "metadata": {
    "tags": []
   },
   "outputs": [],
   "source": [
    "from pyspark.sql.types import StructType, StructField, IntegerType, DateType\n",
    "from datetime import datetime\n",
    "from pyspark.sql import SparkSession\n",
    "from pyspark.sql.types import StructType, StructField, IntegerType, StringType\n",
    "spark = SparkSession.builder.appName(\"PySparkTables\").getOrCreate()\n",
    "\n",
    "# Define data\n",
    "activity_data = [\n",
    "    (1, 2, '2016-03-01', 5),\n",
    "    (1, 2, '2016-03-02', 6),\n",
    "    (2, 3, '2017-06-25', 1),\n",
    "    (3, 1, '2016-03-02', 0),\n",
    "    (3, 4, '2018-07-03', 5),\n",
    "]\n",
    "\n",
    "# Convert string dates to date type\n",
    "activity_data_typed = [\n",
    "    (player_id, device_id, datetime.strptime(event_date, \"%Y-%m-%d\").date(), games_played)\n",
    "    for player_id, device_id, event_date, games_played in activity_data\n",
    "]\n",
    "\n",
    "# Define schema\n",
    "activity_schema = StructType([\n",
    "    StructField(\"player_id\", IntegerType(), False),\n",
    "    StructField(\"device_id\", IntegerType(), False),\n",
    "    StructField(\"event_date\", DateType(), False),\n",
    "    StructField(\"games_played\", IntegerType(), False),\n",
    "])\n",
    "\n",
    "# Create DataFrame and register view\n",
    "activity_df = spark.createDataFrame(activity_data_typed, activity_schema)\n",
    "activity_df.createOrReplaceTempView(\"Activity\")\n"
   ]
  },
  {
   "cell_type": "code",
   "execution_count": 8,
   "id": "229c992e-fab6-460a-9c57-64e9de6fd078",
   "metadata": {
    "tags": []
   },
   "outputs": [
    {
     "name": "stdout",
     "output_type": "stream",
     "text": [
      "+---------+---------+----------+------------+----------+----------------+\n",
      "|player_id|device_id|event_date|games_played|  min_date|max_games_played|\n",
      "+---------+---------+----------+------------+----------+----------------+\n",
      "|        2|        3|2017-06-25|           1|2017-06-25|               1|\n",
      "+---------+---------+----------+------------+----------+----------------+\n",
      "\n"
     ]
    }
   ],
   "source": [
    "spark.sql(\"\"\"\n",
    "    with cte as (\n",
    "    select *,\n",
    "    min(event_date) over(partition by player_id order by event_date) as min_date,\n",
    "    max(games_played) over(partition by player_id) as max_games_played\n",
    "    from Activity)\n",
    "    \n",
    "    select * from cte where event_date = min_date and games_played = max_games_played\n",
    "\"\"\").show()"
   ]
  },
  {
   "cell_type": "code",
   "execution_count": 12,
   "id": "c3be2d89-84b2-4b92-b2b1-0dff1d62d75d",
   "metadata": {
    "tags": []
   },
   "outputs": [
    {
     "name": "stdout",
     "output_type": "stream",
     "text": [
      "+---------+---------+----------+------------+\n",
      "|player_id|device_id|event_date|games_played|\n",
      "+---------+---------+----------+------------+\n",
      "|        2|        3|2017-06-25|           1|\n",
      "+---------+---------+----------+------------+\n",
      "\n"
     ]
    }
   ],
   "source": [
    "spark.sql(\n",
    "    \"\"\"\n",
    "        select * from Activity\n",
    "        where (player_id, event_date) IN (\n",
    "            select player_id, min(event_date) from Activity \n",
    "            group by player_id\n",
    "        )\n",
    "        AND (player_id, games_played) IN (\n",
    "            SELECT player_id, MAX(games_played)\n",
    "            FROM Activity\n",
    "            GROUP BY player_id\n",
    ");\n",
    "    \"\"\"\n",
    ").show()"
   ]
  },
  {
   "cell_type": "code",
   "execution_count": null,
   "id": "8b23774c-c47e-4086-ac60-1fa8406ece56",
   "metadata": {},
   "outputs": [],
   "source": []
  }
 ],
 "metadata": {
  "kernelspec": {
   "display_name": "Python 3 (ipykernel)",
   "language": "python",
   "name": "python3"
  },
  "language_info": {
   "codemirror_mode": {
    "name": "ipython",
    "version": 3
   },
   "file_extension": ".py",
   "mimetype": "text/x-python",
   "name": "python",
   "nbconvert_exporter": "python",
   "pygments_lexer": "ipython3",
   "version": "3.7.17"
  }
 },
 "nbformat": 4,
 "nbformat_minor": 5
}
