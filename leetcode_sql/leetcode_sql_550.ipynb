{
 "cells": [
  {
   "cell_type": "code",
   "execution_count": 1,
   "id": "f0fdfa42-a24d-4642-ab1e-86c9dd3d7700",
   "metadata": {
    "tags": []
   },
   "outputs": [],
   "source": [
    "from pyspark.sql.types import StructType, StructField, IntegerType, DateType\n",
    "from datetime import datetime\n",
    "from pyspark.sql import SparkSession\n",
    "from pyspark.sql.types import StructType, StructField, IntegerType, StringType\n",
    "spark = SparkSession.builder.appName(\"PySparkTables\").getOrCreate()\n",
    "\n",
    "# Define data\n",
    "activity_data = [\n",
    "    (1, 2, '2016-03-01', 5),\n",
    "    (1, 2, '2016-03-02', 6),\n",
    "    (2, 3, '2017-06-25', 1),\n",
    "    (3, 1, '2016-03-02', 0),\n",
    "    (3, 4, '2018-07-03', 5),\n",
    "]\n",
    "\n",
    "# Convert string dates to date type\n",
    "activity_data_typed = [\n",
    "    (player_id, device_id, datetime.strptime(event_date, \"%Y-%m-%d\").date(), games_played)\n",
    "    for player_id, device_id, event_date, games_played in activity_data\n",
    "]\n",
    "\n",
    "# Define schema\n",
    "activity_schema = StructType([\n",
    "    StructField(\"player_id\", IntegerType(), False),\n",
    "    StructField(\"device_id\", IntegerType(), False),\n",
    "    StructField(\"event_date\", DateType(), False),\n",
    "    StructField(\"games_played\", IntegerType(), False),\n",
    "])\n",
    "\n",
    "# Create DataFrame and register view\n",
    "activity_df = spark.createDataFrame(activity_data_typed, activity_schema)\n",
    "activity_df.createOrReplaceTempView(\"Activity\")\n"
   ]
  },
  {
   "cell_type": "code",
   "execution_count": 2,
   "id": "9e7cc0a2-c5a0-4e98-b475-b0000d79d02b",
   "metadata": {
    "tags": []
   },
   "outputs": [
    {
     "name": "stdout",
     "output_type": "stream",
     "text": [
      "+------------------------------------------------------------------------------------------------------------+\n",
      "|((sum(CASE WHEN (datediff(next_date, event_date) = 1) THEN 1 ELSE 0 END) * 1.0) / count(DISTINCT player_id))|\n",
      "+------------------------------------------------------------------------------------------------------------+\n",
      "|                                                                                          0.3333333333333333|\n",
      "+------------------------------------------------------------------------------------------------------------+\n",
      "\n"
     ]
    }
   ],
   "source": [
    "spark.sql(\"\"\"\n",
    "    with cte as (\n",
    "    select *,\n",
    "    row_number() over(partition by player_id order by event_date) as rn,\n",
    "    lead(event_date) over(partition by player_id order by event_date) as next_date\n",
    "    from Activity)\n",
    "    \n",
    "    select\n",
    "    SUM(CASE WHEN DATEDIFF(next_date, event_date) = 1 THEN 1 ELSE 0 END) * 1.0 / COUNT(DISTINCT player_id)\n",
    "    from cte\n",
    "    where rn = 1\n",
    "    \n",
    "    \n",
    "\"\"\").show()"
   ]
  },
  {
   "cell_type": "code",
   "execution_count": 3,
   "id": "4e44f652-74f6-47cc-9b79-cf414af288a3",
   "metadata": {
    "tags": []
   },
   "outputs": [],
   "source": [
    "from pyspark.sql import Window\n",
    "from pyspark.sql.functions import col, row_number, lead, datediff, sum as spark_sum, countDistinct, round\n",
    "\n",
    "window_spec = Window.partitionBy('player_id').orderBy('event_date')"
   ]
  },
  {
   "cell_type": "code",
   "execution_count": 4,
   "id": "0462e5ab-23f2-43e3-a3b1-038a8da9f035",
   "metadata": {
    "tags": []
   },
   "outputs": [],
   "source": [
    "activity_with_flags = activity_df.withColumn('rn', row_number().over(window_spec)) \\\n",
    "            .withColumn('next_date', lead(col('event_date')).over(window_spec))\n",
    "first_login = activity_with_flags.filter(col(\"rn\") == 1)"
   ]
  },
  {
   "cell_type": "code",
   "execution_count": 5,
   "id": "287570f9-45f9-46f0-84a7-ce54d30e952c",
   "metadata": {
    "tags": []
   },
   "outputs": [],
   "source": [
    "result = first_login.select(\n",
    "    round(\n",
    "        spark_sum((datediff(\"next_date\", \"event_date\") == 1).cast(\"int\")) * 1.0\n",
    "        / countDistinct(\"player_id\"),\n",
    "        2\n",
    "    ).alias(\"fraction\")\n",
    ")"
   ]
  },
  {
   "cell_type": "code",
   "execution_count": 6,
   "id": "600851e7-f041-4b8f-80a7-63e8ca92b783",
   "metadata": {
    "tags": []
   },
   "outputs": [
    {
     "name": "stdout",
     "output_type": "stream",
     "text": [
      "+--------+\n",
      "|fraction|\n",
      "+--------+\n",
      "|    0.33|\n",
      "+--------+\n",
      "\n"
     ]
    }
   ],
   "source": [
    "result.show()"
   ]
  }
 ],
 "metadata": {
  "kernelspec": {
   "display_name": "Python 3 (ipykernel)",
   "language": "python",
   "name": "python3"
  },
  "language_info": {
   "codemirror_mode": {
    "name": "ipython",
    "version": 3
   },
   "file_extension": ".py",
   "mimetype": "text/x-python",
   "name": "python",
   "nbconvert_exporter": "python",
   "pygments_lexer": "ipython3",
   "version": "3.7.17"
  }
 },
 "nbformat": 4,
 "nbformat_minor": 5
}
