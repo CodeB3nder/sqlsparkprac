{
 "cells": [
  {
   "cell_type": "code",
   "execution_count": 1,
   "id": "0450eac1-8b5e-4780-adb4-5f5a8bcd8dc5",
   "metadata": {
    "tags": []
   },
   "outputs": [
    {
     "name": "stdout",
     "output_type": "stream",
     "text": [
      "Tables and views created successfully.\n"
     ]
    }
   ],
   "source": [
    "from pyspark.sql import SparkSession\n",
    "from pyspark.sql.types import StructType, StructField, IntegerType, StringType, DateType\n",
    "\n",
    "# Define Spark session (if needed)\n",
    "spark = SparkSession.builder.appName(\"PySparkTables\").getOrCreate()\n",
    "\n",
    "# Define schemas\n",
    "movies_schema = StructType([\n",
    "    StructField(\"movie_id\", IntegerType(), True),\n",
    "    StructField(\"title\", StringType(), True)\n",
    "])\n",
    "\n",
    "users_schema = StructType([\n",
    "    StructField(\"user_id\", IntegerType(), True),\n",
    "    StructField(\"name\", StringType(), True)\n",
    "])\n",
    "\n",
    "movie_rating_schema = StructType([\n",
    "    StructField(\"movie_id\", IntegerType(), True),\n",
    "    StructField(\"user_id\", IntegerType(), True),\n",
    "    StructField(\"rating\", IntegerType(), True),\n",
    "    StructField(\"created_at\", StringType(), True)  # Using StringType to avoid date parsing issues\n",
    "])\n",
    "\n",
    "# Create DataFrames\n",
    "movies_df = spark.createDataFrame([\n",
    "    (1, \"Avengers\"),\n",
    "    (2, \"Frozen 2\"),\n",
    "    (3, \"Joker\")\n",
    "], schema=movies_schema)\n",
    "\n",
    "users_df = spark.createDataFrame([\n",
    "    (1, \"Daniel\"),\n",
    "    (2, \"Monica\"),\n",
    "    (3, \"Maria\"),\n",
    "    (4, \"James\")\n",
    "], schema=users_schema)\n",
    "\n",
    "movie_rating_df = spark.createDataFrame([\n",
    "    (1, 1, 3, \"2020-01-12\"),\n",
    "    (1, 2, 4, \"2020-02-11\"),\n",
    "    (1, 3, 2, \"2020-02-12\"),\n",
    "    (1, 4, 1, \"2020-01-01\"),\n",
    "    (2, 1, 5, \"2020-02-17\"),\n",
    "    (2, 2, 2, \"2020-02-01\"),\n",
    "    (2, 3, 2, \"2020-03-01\"),\n",
    "    (3, 1, 3, \"2020-02-22\"),\n",
    "    (3, 2, 4, \"2020-02-25\")\n",
    "], schema=movie_rating_schema)\n",
    "\n",
    "# Convert 'created_at' column to DateType\n",
    "movie_rating_df = movie_rating_df.withColumn(\"created_at\", movie_rating_df.created_at.cast(DateType()))\n",
    "\n",
    "# Create temporary views for SQL queries\n",
    "movies_df.createOrReplaceTempView(\"Movies\")\n",
    "users_df.createOrReplaceTempView(\"Users\")\n",
    "movie_rating_df.createOrReplaceTempView(\"MovieRating\")\n",
    "\n",
    "print(\"Tables and views created successfully.\")\n"
   ]
  },
  {
   "cell_type": "code",
   "execution_count": 27,
   "id": "70fe5d07-f09b-4ae2-a9eb-0693301ff230",
   "metadata": {
    "tags": []
   },
   "outputs": [],
   "source": [
    "spark.conf.set(\"spark.sql.legacy.timeParserPolicy\", \"LEGACY\")"
   ]
  },
  {
   "cell_type": "code",
   "execution_count": 40,
   "id": "876b5acf-c5d2-4824-bc1f-d611e66067a7",
   "metadata": {
    "tags": []
   },
   "outputs": [
    {
     "name": "stdout",
     "output_type": "stream",
     "text": [
      "+--------+\n",
      "|movie_id|\n",
      "+--------+\n",
      "|       3|\n",
      "+--------+\n",
      "\n"
     ]
    }
   ],
   "source": [
    "spark.sql(\"\"\"select movie_id from MovieRating group by movie_id having AVG(rating) = (select max(avg_rating) from (select movie_id, AVG(rating) as avg_rating\n",
    "from MovieRating \n",
    "where DATE_FORMAT(created_at, 'YYYY-MM') = '2020-02'\n",
    "group by movie_id))\"\"\").show()"
   ]
  },
  {
   "cell_type": "code",
   "execution_count": 21,
   "id": "92523927-5723-4fa2-a25d-a96b3e9162db",
   "metadata": {
    "tags": []
   },
   "outputs": [
    {
     "name": "stdout",
     "output_type": "stream",
     "text": [
      "+---------+\n",
      "|min(name)|\n",
      "+---------+\n",
      "|   Daniel|\n",
      "+---------+\n",
      "\n"
     ]
    }
   ],
   "source": [
    "spark.sql(\"\"\"\n",
    "with highestnoofrating as (\n",
    "    select name from Users where user_id in (\n",
    "    select user_id from MovieRating group by user_id  \n",
    "    having count(*) = (select max(count1) from (select count(*) as count1 from MovieRating group by user_id))))\n",
    "\n",
    "\n",
    "\"\"\").show()"
   ]
  },
  {
   "cell_type": "code",
   "execution_count": null,
   "id": "c41432f3-0385-4ad5-ab81-9ac53f098dcf",
   "metadata": {},
   "outputs": [],
   "source": []
  }
 ],
 "metadata": {
  "kernelspec": {
   "display_name": "Python 3 (ipykernel)",
   "language": "python",
   "name": "python3"
  },
  "language_info": {
   "codemirror_mode": {
    "name": "ipython",
    "version": 3
   },
   "file_extension": ".py",
   "mimetype": "text/x-python",
   "name": "python",
   "nbconvert_exporter": "python",
   "pygments_lexer": "ipython3",
   "version": "3.7.17"
  }
 },
 "nbformat": 4,
 "nbformat_minor": 5
}
