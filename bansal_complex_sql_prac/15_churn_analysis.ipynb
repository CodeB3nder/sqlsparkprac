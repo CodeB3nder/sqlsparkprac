{
 "cells": [
  {
   "cell_type": "code",
   "execution_count": 26,
   "id": "96538a5a-524c-4c8c-97e6-4dde425af56e",
   "metadata": {
    "tags": []
   },
   "outputs": [
    {
     "name": "stdout",
     "output_type": "stream",
     "text": [
      "+--------+-------+----------+------+\n",
      "|order_id|cust_id|order_date|amount|\n",
      "+--------+-------+----------+------+\n",
      "|       1|      1|2020-01-15|   150|\n",
      "|       2|      1|2020-02-10|   150|\n",
      "|       3|      2|2020-01-16|   150|\n",
      "|       4|      2|2020-02-25|   150|\n",
      "|       5|      3|2020-01-10|   150|\n",
      "|       6|      3|2020-02-20|   150|\n",
      "|       7|      4|2020-01-20|   150|\n",
      "|       8|      5|2020-02-20|   150|\n",
      "|       9|      5|2020-03-20|   150|\n",
      "+--------+-------+----------+------+\n",
      "\n"
     ]
    }
   ],
   "source": [
    "from pyspark.sql import SparkSession\n",
    "from pyspark.sql.types import StructType, StructField, IntegerType, DateType\n",
    "from datetime import datetime\n",
    "from pyspark.sql.functions import *\n",
    "from pyspark.sql.window import Window\n",
    "# Initialize Spark Session\n",
    "spark = SparkSession.builder.appName(\"PySparkTransactions\").getOrCreate()\n",
    "\n",
    "# Function to Convert String to Date\n",
    "def parse_date(date_str):\n",
    "    return datetime.strptime(date_str, \"%Y-%m-%d\").date()\n",
    "\n",
    "# Define Schema for Transactions Table\n",
    "transactions_schema = StructType([\n",
    "    StructField(\"order_id\", IntegerType(), True),\n",
    "    StructField(\"cust_id\", IntegerType(), True),\n",
    "    StructField(\"order_date\", DateType(), True),\n",
    "    StructField(\"amount\", IntegerType(), True)\n",
    "])\n",
    "\n",
    "# Transactions Data with Converted Dates\n",
    "transactions_data = [\n",
    "    (1, 1, parse_date('2020-01-15'), 150),\n",
    "    (2, 1, parse_date('2020-02-10'), 150),\n",
    "    (3, 2, parse_date('2020-01-16'), 150),\n",
    "    (4, 2, parse_date('2020-02-25'), 150),\n",
    "    (5, 3, parse_date('2020-01-10'), 150),\n",
    "    (6, 3, parse_date('2020-02-20'), 150),\n",
    "    (7, 4, parse_date('2020-01-20'), 150),\n",
    "    (8, 5, parse_date('2020-02-20'), 150),\n",
    "    (9, 5, parse_date('2020-03-20'), 150)\n",
    "\n",
    "]\n",
    "\n",
    "# Create Transactions DataFrame\n",
    "transactions_df = spark.createDataFrame(transactions_data, schema=transactions_schema)\n",
    "transactions_df.createOrReplaceTempView(\"transactions\")\n",
    "\n",
    "# Verify Transactions Table\n",
    "spark.sql(\"SELECT * FROM transactions\").show()\n"
   ]
  },
  {
   "cell_type": "code",
   "execution_count": 23,
   "id": "ce4d8a51-9a70-457c-ac29-42ed03c42046",
   "metadata": {
    "tags": []
   },
   "outputs": [
    {
     "name": "stdout",
     "output_type": "stream",
     "text": [
      "+----------+--------+\n",
      "|post_month|count(1)|\n",
      "+----------+--------+\n",
      "|         3|       1|\n",
      "|         2|       3|\n",
      "+----------+--------+\n",
      "\n"
     ]
    }
   ],
   "source": [
    "spark.sql(\n",
    "\"\"\"\n",
    "    select post_month, count(*) from (select *, post_month - month as diff from (\n",
    "    select *, month(order_date) as month,\n",
    "    lead(month(order_date)) over(partition by cust_id order by order_date) as post_month\n",
    "    from transactions)) where diff = 1\n",
    "    group by post_month\n",
    "    \n",
    "\"\"\").show()"
   ]
  },
  {
   "cell_type": "code",
   "execution_count": 41,
   "id": "8914c516-8169-465a-9fe2-3ce1129f7941",
   "metadata": {
    "tags": []
   },
   "outputs": [
    {
     "name": "stdout",
     "output_type": "stream",
     "text": [
      "+----------+------------------+\n",
      "|post_month|retained_customers|\n",
      "+----------+------------------+\n",
      "|         2|                 3|\n",
      "|         3|                 1|\n",
      "+----------+------------------+\n",
      "\n"
     ]
    }
   ],
   "source": [
    "spark.sql(\n",
    "\"\"\"\n",
    "WITH monthly_orders AS (\n",
    "    SELECT \n",
    "        cust_id, \n",
    "        month(order_date) AS month,\n",
    "        LEAD(month(order_date)) OVER (PARTITION BY cust_id ORDER BY order_date) AS post_month\n",
    "    FROM transactions\n",
    ")\n",
    "SELECT \n",
    "    post_month, \n",
    "    COUNT(*) AS retained_customers\n",
    "FROM monthly_orders\n",
    "WHERE post_month - month = 1\n",
    "GROUP BY post_month\n",
    "ORDER BY post_month;\n",
    "\n",
    "\"\"\").show()"
   ]
  },
  {
   "cell_type": "code",
   "execution_count": 37,
   "id": "77819317-bf74-4036-b4fd-24a16729d229",
   "metadata": {},
   "outputs": [],
   "source": [
    "window_spec = Window.partitionBy(col(\"cust_id\")).orderBy(col(\"order_date\"))\n",
    "monthly_orders = transactions_df.select(\"cust_id\", \n",
    "                        month(col(\"order_date\")).alias(\"month\"), \n",
    "                        lead(month(col(\"order_date\"))).over(window_spec).alias(\"post_month\"))\n",
    "                                        "
   ]
  },
  {
   "cell_type": "code",
   "execution_count": 40,
   "id": "e3c62314-7930-4234-8155-5fca6cb6ddd6",
   "metadata": {
    "tags": []
   },
   "outputs": [
    {
     "name": "stdout",
     "output_type": "stream",
     "text": [
      "+----------+------------------+\n",
      "|post_month|retained_customers|\n",
      "+----------+------------------+\n",
      "|         3|                 1|\n",
      "|         2|                 3|\n",
      "+----------+------------------+\n",
      "\n"
     ]
    }
   ],
   "source": [
    "monthly_orders.filter(col(\"post_month\") - col(\"month\") == 1).groupBy(col(\"post_month\")).agg(\n",
    "    count(\"*\").alias(\"retained_customers\")\n",
    ").show()"
   ]
  },
  {
   "cell_type": "code",
   "execution_count": null,
   "id": "e616c551-4557-4e43-95df-7cb9b847a565",
   "metadata": {},
   "outputs": [],
   "source": []
  }
 ],
 "metadata": {
  "kernelspec": {
   "display_name": "Python 3 (ipykernel)",
   "language": "python",
   "name": "python3"
  },
  "language_info": {
   "codemirror_mode": {
    "name": "ipython",
    "version": 3
   },
   "file_extension": ".py",
   "mimetype": "text/x-python",
   "name": "python",
   "nbconvert_exporter": "python",
   "pygments_lexer": "ipython3",
   "version": "3.7.17"
  }
 },
 "nbformat": 4,
 "nbformat_minor": 5
}
