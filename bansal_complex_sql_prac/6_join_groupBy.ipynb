{
 "cells": [
  {
   "cell_type": "code",
   "execution_count": null,
   "id": "fa5ea80a-a5f4-45eb-9a9e-3f5e2c995149",
   "metadata": {},
   "outputs": [],
   "source": [
    "https://www.youtube.com/watch?v=SfzbR69LquU&list=PLBTZqjSKn0IeKBQDjLmzisazhqQy4iGkb&index=6"
   ]
  },
  {
   "cell_type": "code",
   "execution_count": 4,
   "id": "6e04d3b3-a312-4727-84f2-91bcad6eaff9",
   "metadata": {
    "tags": []
   },
   "outputs": [
    {
     "name": "stdout",
     "output_type": "stream",
     "text": [
      "Friendship and Person tables and views created successfully.\n"
     ]
    }
   ],
   "source": [
    "from pyspark.sql import SparkSession\n",
    "from pyspark.sql.types import StructType, StructField, IntegerType, DateType, StringType\n",
    "from pyspark.sql.functions import *\n",
    "from pyspark.sql.window import Window\n",
    "spark = SparkSession.builder.appName(\"PySparkTables\").getOrCreate()\n",
    "\n",
    "# Define schema for Friendship table\n",
    "friendship_schema = StructType([\n",
    "    StructField(\"PersonID\", IntegerType(), True),\n",
    "    StructField(\"FriendID\", IntegerType(), True)\n",
    "])\n",
    "\n",
    "# Define schema for Person table\n",
    "person_schema = StructType([\n",
    "    StructField(\"PersonID\", IntegerType(), True),\n",
    "    StructField(\"Name\", StringType(), True),\n",
    "    StructField(\"Email\", StringType(), True),\n",
    "    StructField(\"Score\", IntegerType(), True)\n",
    "])\n",
    "\n",
    "# Create Friendship DataFrame\n",
    "friendship_data = [\n",
    "    (1, 2), (1, 3), (2, 1), (2, 3),\n",
    "    (3, 5), (4, 2), (4, 3), (4, 5)\n",
    "]\n",
    "\n",
    "friendship_df = spark.createDataFrame(friendship_data, schema=friendship_schema)\n",
    "\n",
    "# Create Person DataFrame\n",
    "person_data = [\n",
    "    (1, \"Alice\", \"alice2018@hotmail.com\", 88),\n",
    "    (2, \"Bob\", \"bob2018@hotmail.com\", 11),\n",
    "    (3, \"Davis\", \"davis2018@hotmail.com\", 27),\n",
    "    (4, \"Tara\", \"tara2018@hotmail.com\", 45),\n",
    "    (5, \"John\", \"john2018@hotmail.com\", 63)\n",
    "]\n",
    "\n",
    "person_df = spark.createDataFrame(person_data, schema=person_schema)\n",
    "\n",
    "# Create temporary views for SQL queries\n",
    "friendship_df.createOrReplaceTempView(\"Friendship\")\n",
    "person_df.createOrReplaceTempView(\"Person\")\n",
    "\n",
    "\n",
    "print(\"Friendship and Person tables and views created successfully.\")\n"
   ]
  },
  {
   "cell_type": "code",
   "execution_count": 19,
   "id": "ff71513d-840e-4a12-a333-cd587cb19b09",
   "metadata": {
    "tags": []
   },
   "outputs": [
    {
     "name": "stdout",
     "output_type": "stream",
     "text": [
      "+--------+------------------+------------+----+\n",
      "|PersonID|total_friend_score|no_of_friend|name|\n",
      "+--------+------------------+------------+----+\n",
      "|       2|               115|           2| Bob|\n",
      "|       4|               101|           3|Tara|\n",
      "+--------+------------------+------------+----+\n",
      "\n"
     ]
    }
   ],
   "source": [
    "spark.sql(\"\"\"\n",
    "with score_details as (\n",
    "    select f.PersonID, sum(p.Score) as total_friend_score,\n",
    "    count(*) as no_of_friend from Friendship f join Person p on f.friendID = p.PersonID\n",
    "    group by f.PersonID\n",
    "    having total_friend_score > 100)\n",
    "    \n",
    "select s.*, p.name from person p inner join score_details s on p.PersonID = s.PersonID\n",
    "\"\"\").show()"
   ]
  },
  {
   "cell_type": "code",
   "execution_count": 43,
   "id": "c132985f-483c-40dd-9aa2-4c4d1ff0e526",
   "metadata": {
    "tags": []
   },
   "outputs": [],
   "source": [
    "df = friendship_df.alias(\"f\").join(person_df.alias(\"p\"), col(\"p.PersonID\") == col(\"f.FriendID\"), \"inner\").select(\"f.PersonID\", \"p.score\")"
   ]
  },
  {
   "cell_type": "code",
   "execution_count": 44,
   "id": "0ca96c2a-bc73-4083-98f2-adc688521aec",
   "metadata": {
    "tags": []
   },
   "outputs": [
    {
     "name": "stdout",
     "output_type": "stream",
     "text": [
      "+--------+-----+\n",
      "|PersonID|score|\n",
      "+--------+-----+\n",
      "|       2|   88|\n",
      "|       1|   11|\n",
      "|       4|   11|\n",
      "|       1|   27|\n",
      "|       2|   27|\n",
      "|       4|   27|\n",
      "|       3|   63|\n",
      "|       4|   63|\n",
      "+--------+-----+\n",
      "\n"
     ]
    }
   ],
   "source": [
    "df.show()"
   ]
  },
  {
   "cell_type": "code",
   "execution_count": 45,
   "id": "7e100512-5631-4c3a-b3e7-4025a9cff833",
   "metadata": {
    "tags": []
   },
   "outputs": [
    {
     "name": "stdout",
     "output_type": "stream",
     "text": [
      "+--------+-----------+-------------+\n",
      "|PersonID|Total_Score|Total friends|\n",
      "+--------+-----------+-------------+\n",
      "|       1|         38|            2|\n",
      "|       3|         63|            1|\n",
      "|       4|        101|            3|\n",
      "|       2|        115|            2|\n",
      "+--------+-----------+-------------+\n",
      "\n"
     ]
    }
   ],
   "source": [
    "df.groupBy(\"PersonID\").agg(\n",
    "        sum(col(\"score\")).alias(\"Total_Score\"),\n",
    "        count(\"*\").alias(\"Total friends\")\n",
    "        \n",
    ").show()"
   ]
  },
  {
   "cell_type": "code",
   "execution_count": null,
   "id": "f6672c00-bf80-45e1-8750-8102604442c6",
   "metadata": {},
   "outputs": [],
   "source": []
  }
 ],
 "metadata": {
  "kernelspec": {
   "display_name": "Python 3 (ipykernel)",
   "language": "python",
   "name": "python3"
  },
  "language_info": {
   "codemirror_mode": {
    "name": "ipython",
    "version": 3
   },
   "file_extension": ".py",
   "mimetype": "text/x-python",
   "name": "python",
   "nbconvert_exporter": "python",
   "pygments_lexer": "ipython3",
   "version": "3.7.17"
  }
 },
 "nbformat": 4,
 "nbformat_minor": 5
}
