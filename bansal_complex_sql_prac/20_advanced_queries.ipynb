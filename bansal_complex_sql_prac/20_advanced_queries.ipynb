{
 "cells": [
  {
   "cell_type": "code",
   "execution_count": 2,
   "id": "bb4a69ee-1023-45be-8800-035c138066a6",
   "metadata": {
    "tags": []
   },
   "outputs": [],
   "source": [
    "from pyspark.sql import SparkSession\n",
    "from pyspark.sql.functions import col\n",
    "from pyspark.sql.functions import *\n",
    "from pyspark.sql.window import Window\n",
    "# Initialize Spark Session\n",
    "spark = SparkSession.builder.appName(\"BMS\").getOrCreate()\n",
    "\n",
    "# Create Schema and Data\n",
    "data = [\n",
    "    (1, 'N'), (2, 'Y'), (3, 'N'), (4, 'Y'), (5, 'Y'),\n",
    "    (6, 'Y'), (7, 'N'), (8, 'Y'), (9, 'Y'), (10, 'Y'),\n",
    "    (11, 'Y'), (12, 'N'), (13, 'Y'), (14, 'Y')\n",
    "]\n",
    "\n",
    "columns = [\"seat_no\", \"is_empty\"]\n",
    "\n",
    "# Create DataFrame\n",
    "bms_df = spark.createDataFrame(data, columns)\n",
    "\n",
    "# Show Data\n",
    "bms_df.createOrReplaceTempView(\"bms\")\n"
   ]
  },
  {
   "cell_type": "code",
   "execution_count": 8,
   "id": "b9d28207-95f3-4248-8316-115df4df6e6a",
   "metadata": {
    "tags": []
   },
   "outputs": [
    {
     "name": "stdout",
     "output_type": "stream",
     "text": [
      "+-------+--------+------+------+------+------+\n",
      "|seat_no|is_empty|prev_1|prev_1|prev_1|prev_2|\n",
      "+-------+--------+------+------+------+------+\n",
      "|      1|       N|  null|  null|     Y|  null|\n",
      "|      2|       Y|     N|  null|     N|  null|\n",
      "|      3|       N|     Y|     N|     Y|     N|\n",
      "|      4|       Y|     N|     Y|     Y|     Y|\n",
      "|      5|       Y|     Y|     N|     Y|     N|\n",
      "|      6|       Y|     Y|     Y|     N|     Y|\n",
      "|      7|       N|     Y|     Y|     Y|     Y|\n",
      "|      8|       Y|     N|     Y|     Y|     Y|\n",
      "|      9|       Y|     Y|     N|     Y|     N|\n",
      "|     10|       Y|     Y|     Y|     Y|     Y|\n",
      "|     11|       Y|     Y|     Y|     N|     Y|\n",
      "|     12|       N|     Y|     Y|     Y|     Y|\n",
      "|     13|       Y|     N|     Y|     Y|     Y|\n",
      "|     14|       Y|     Y|     N|  null|     N|\n",
      "+-------+--------+------+------+------+------+\n",
      "\n"
     ]
    }
   ],
   "source": [
    "spark.sql(\n",
    "\"\"\"\n",
    "    with seats as (\n",
    "    select \n",
    "    seat_no,\n",
    "    is_empty,\n",
    "    lag(is_empty, 1) over(order by seat_no) as prev_1,\n",
    "    lag(is_empty, 2) over(order by seat_no) as prev_2,\n",
    "    lead(is_empty, 1) over(order by seat_no) as next_1,\n",
    "    lag(is_empty, 2) over(order by seat_no) as next_2\n",
    "    from bms)\n",
    "    \n",
    "    select * from seats where\n",
    "    (is_empty = 'Y' and prev_1 = 'Y' and prev_2 = 'Y') or \n",
    "    (is_empty = 'Y' and prev_1 = 'Y' and prev_2 = 'Y') or \n",
    "    (is_empty = 'Y' and prev_1 = 'Y' and prev_2 = 'Y')\n",
    "    \n",
    "    \n",
    "\"\"\").show()"
   ]
  },
  {
   "cell_type": "code",
   "execution_count": null,
   "id": "162cd3f3-12a9-444d-854c-d60f5e3d6f19",
   "metadata": {},
   "outputs": [],
   "source": []
  }
 ],
 "metadata": {
  "kernelspec": {
   "display_name": "Python 3 (ipykernel)",
   "language": "python",
   "name": "python3"
  },
  "language_info": {
   "codemirror_mode": {
    "name": "ipython",
    "version": 3
   },
   "file_extension": ".py",
   "mimetype": "text/x-python",
   "name": "python",
   "nbconvert_exporter": "python",
   "pygments_lexer": "ipython3",
   "version": "3.7.17"
  }
 },
 "nbformat": 4,
 "nbformat_minor": 5
}
