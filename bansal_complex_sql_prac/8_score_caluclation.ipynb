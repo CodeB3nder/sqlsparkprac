{
 "cells": [
  {
   "cell_type": "code",
   "execution_count": 1,
   "id": "64da8c81-bdad-42cf-a6ec-a82de7f3bb15",
   "metadata": {
    "tags": []
   },
   "outputs": [
    {
     "name": "stdout",
     "output_type": "stream",
     "text": [
      "Players and Matches tables and views created successfully.\n"
     ]
    }
   ],
   "source": [
    "from pyspark.sql import SparkSession\n",
    "from pyspark.sql.types import StructType, StructField, IntegerType, DateType, StringType\n",
    "from pyspark.sql.functions import *\n",
    "from pyspark.sql.window import Window\n",
    "spark = SparkSession.builder.appName(\"PySparkTables\").getOrCreate()\n",
    "\n",
    "# Define schema for Players table\n",
    "players_schema = StructType([\n",
    "    StructField(\"player_id\", IntegerType(), True),\n",
    "    StructField(\"group_id\", IntegerType(), True)\n",
    "])\n",
    "\n",
    "# Define schema for Matches table\n",
    "matches_schema = StructType([\n",
    "    StructField(\"match_id\", IntegerType(), True),\n",
    "    StructField(\"first_player\", IntegerType(), True),\n",
    "    StructField(\"second_player\", IntegerType(), True),\n",
    "    StructField(\"first_score\", IntegerType(), True),\n",
    "    StructField(\"second_score\", IntegerType(), True)\n",
    "])\n",
    "\n",
    "# Create Players DataFrame\n",
    "players_data = [\n",
    "    (15, 1), (25, 1), (30, 1), (45, 1),\n",
    "    (10, 2), (35, 2), (50, 2),\n",
    "    (20, 3), (40, 3)\n",
    "]\n",
    "\n",
    "players_df = spark.createDataFrame(players_data, schema=players_schema)\n",
    "\n",
    "# Create Matches DataFrame\n",
    "matches_data = [\n",
    "    (1, 15, 45, 3, 0),\n",
    "    (2, 30, 25, 1, 2),\n",
    "    (3, 30, 15, 2, 0),\n",
    "    (4, 40, 20, 5, 2),\n",
    "    (5, 35, 50, 1, 1)\n",
    "]\n",
    "\n",
    "matches_df = spark.createDataFrame(matches_data, schema=matches_schema)\n",
    "\n",
    "# Create temporary views for SQL queries\n",
    "players_df.createOrReplaceTempView(\"Players\")\n",
    "matches_df.createOrReplaceTempView(\"Matches\")\n",
    "\n",
    "print(\"Players and Matches tables and views created successfully.\")\n"
   ]
  },
  {
   "cell_type": "code",
   "execution_count": 11,
   "id": "bf93db49-63df-4290-abe5-d43ddfb2c4ad",
   "metadata": {
    "tags": []
   },
   "outputs": [
    {
     "name": "stdout",
     "output_type": "stream",
     "text": [
      "+---------+--------+-----+---+\n",
      "|player_id|group_id|score| rn|\n",
      "+---------+--------+-----+---+\n",
      "|       15|       1|    3|  1|\n",
      "|       35|       2|    1|  1|\n",
      "|       40|       3|    5|  1|\n",
      "+---------+--------+-----+---+\n",
      "\n"
     ]
    }
   ],
   "source": [
    "spark.sql(\"\"\"\n",
    "with player_scores as (\n",
    "    select first_player as player_id, first_score as score from Matches\n",
    "    union all\n",
    "    select second_player as player_id, second_score as score from Matches\n",
    "    ),\n",
    "    \n",
    "final_table as (select p.player_id, p.group_id, sum(score) as score\n",
    "from player_scores ps inner join Players p on ps.player_id = p.player_id\n",
    "group by p.player_id, p.group_id)\n",
    "\n",
    "select * from  (select *,\n",
    "rank() over(partition by group_id order by score desc, player_id asc) as rn\n",
    "from final_table) where rn = 1\n",
    "\n",
    "\"\"\").show()"
   ]
  },
  {
   "cell_type": "code",
   "execution_count": 12,
   "id": "09318c3b-f0de-40c6-af73-526e99c7c765",
   "metadata": {
    "tags": []
   },
   "outputs": [
    {
     "name": "stdout",
     "output_type": "stream",
     "text": [
      "+---------+--------+-----+---+\n",
      "|player_id|group_id|score| rn|\n",
      "+---------+--------+-----+---+\n",
      "|       15|       1|    3|  1|\n",
      "|       35|       2|    1|  1|\n",
      "|       40|       3|    5|  1|\n",
      "+---------+--------+-----+---+\n",
      "\n"
     ]
    }
   ],
   "source": [
    "# ---------------- Step 1: Create `player_scores` ----------------\n",
    "player_scores_df = (\n",
    "    matches_df.select(col(\"first_player\").alias(\"player_id\"), col(\"first_score\").alias(\"score\"))\n",
    "    .unionAll(\n",
    "        matches_df.select(col(\"second_player\").alias(\"player_id\"), col(\"second_score\").alias(\"score\"))\n",
    "    )\n",
    ")\n",
    "\n",
    "# ---------------- Step 2: Compute total scores per player in `final_table` ----------------\n",
    "final_table_df = (\n",
    "    player_scores_df.alias(\"ps\")\n",
    "    .join(players_df.alias(\"p\"), col(\"ps.player_id\") == col(\"p.player_id\"), \"inner\")\n",
    "    .groupBy(col(\"p.player_id\"), col(\"p.group_id\"))\n",
    "    .agg(sum(\"score\").alias(\"score\"))\n",
    ")\n",
    "\n",
    "# ---------------- Step 3: Apply Ranking and Filter Top Players Per Group ----------------\n",
    "window_spec = Window.partitionBy(\"group_id\").orderBy(col(\"score\").desc(), col(\"player_id\").asc())\n",
    "\n",
    "ranked_df = final_table_df.withColumn(\"rn\", rank().over(window_spec)).filter(col(\"rn\") == 1)\n",
    "\n",
    "# ---------------- Show Result ----------------\n",
    "ranked_df.show()"
   ]
  },
  {
   "cell_type": "code",
   "execution_count": null,
   "id": "056fcf06-fece-44fd-882d-77e2351a569b",
   "metadata": {},
   "outputs": [],
   "source": []
  }
 ],
 "metadata": {
  "kernelspec": {
   "display_name": "Python 3 (ipykernel)",
   "language": "python",
   "name": "python3"
  },
  "language_info": {
   "codemirror_mode": {
    "name": "ipython",
    "version": 3
   },
   "file_extension": ".py",
   "mimetype": "text/x-python",
   "name": "python",
   "nbconvert_exporter": "python",
   "pygments_lexer": "ipython3",
   "version": "3.7.17"
  }
 },
 "nbformat": 4,
 "nbformat_minor": 5
}
