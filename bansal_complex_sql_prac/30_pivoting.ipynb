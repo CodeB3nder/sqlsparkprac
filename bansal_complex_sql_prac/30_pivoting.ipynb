{
 "cells": [
  {
   "cell_type": "code",
   "execution_count": 2,
   "id": "e0425c54-5978-4c83-9fcb-a21749f67abb",
   "metadata": {
    "tags": []
   },
   "outputs": [
    {
     "name": "stdout",
     "output_type": "stream",
     "text": [
      "+------+---------+\n",
      "|  name|     city|\n",
      "+------+---------+\n",
      "|Sachin|   Mumbai|\n",
      "| Virat|    Delhi|\n",
      "| Rahul|Bangalore|\n",
      "| Rohit|   Mumbai|\n",
      "|Mayank|Bangalore|\n",
      "+------+---------+\n",
      "\n"
     ]
    }
   ],
   "source": [
    "from pyspark.sql import SparkSession\n",
    "from pyspark.sql.types import StructType, StructField, StringType\n",
    "from datetime import datetime\n",
    "from pyspark.sql.functions import *\n",
    "from pyspark.sql.window import Window\n",
    "# Initialize Spark Session\n",
    "spark = SparkSession.builder.appName(\"PlayersLocation\").getOrCreate()\n",
    "\n",
    "# Define Schema for players_location Table\n",
    "players_schema = StructType([\n",
    "    StructField(\"name\", StringType(), False),\n",
    "    StructField(\"city\", StringType(), False)\n",
    "])\n",
    "\n",
    "# Define Data for players_location Table\n",
    "players_data = [\n",
    "    ('Sachin', 'Mumbai'), ('Virat', 'Delhi'),\n",
    "    ('Rahul', 'Bangalore'), ('Rohit', 'Mumbai'),\n",
    "    ('Mayank', 'Bangalore')\n",
    "]\n",
    "\n",
    "# Create players_location DataFrame\n",
    "players_df = spark.createDataFrame(players_data, schema=players_schema)\n",
    "players_df.createOrReplaceTempView(\"players\")\n",
    "\n",
    "# Show DataFrame\n",
    "players_df.show()\n"
   ]
  },
  {
   "cell_type": "code",
   "execution_count": 3,
   "id": "952efa2b-2c5d-4bd0-9013-a56310d9dcae",
   "metadata": {
    "tags": []
   },
   "outputs": [],
   "source": [
    "window_spec = Window.partitionBy(\"city\").orderBy(\"name\")\n",
    "players_df = players_df.withColumn(\"row_num\", row_number().over(window_spec))\n",
    "\n",
    "# Pivot the table\n",
    "pivot_df = players_df.groupBy(\"row_num\").pivot(\"city\").agg(first(\"name\")).orderBy(\"row_num\")"
   ]
  },
  {
   "cell_type": "code",
   "execution_count": 4,
   "id": "06e93b01-042b-4597-9d2f-a614d9812947",
   "metadata": {
    "tags": []
   },
   "outputs": [
    {
     "name": "stdout",
     "output_type": "stream",
     "text": [
      "+-------+---------+-----+------+\n",
      "|row_num|Bangalore|Delhi|Mumbai|\n",
      "+-------+---------+-----+------+\n",
      "|      1|   Mayank|Virat| Rohit|\n",
      "|      2|    Rahul| null|Sachin|\n",
      "+-------+---------+-----+------+\n",
      "\n"
     ]
    }
   ],
   "source": [
    "pivot_df.show()"
   ]
  },
  {
   "cell_type": "code",
   "execution_count": 9,
   "id": "3981ff82-d1e9-4a27-994e-e417a4d05393",
   "metadata": {
    "tags": []
   },
   "outputs": [
    {
     "name": "stdout",
     "output_type": "stream",
     "text": [
      "+-------------+---------+------+-----+\n",
      "|player_groups|Bangalore|Mumbai|Delhi|\n",
      "+-------------+---------+------+-----+\n",
      "|            1|   Mayank| Rohit|Virat|\n",
      "|            2|    Rahul|Sachin| null|\n",
      "+-------------+---------+------+-----+\n",
      "\n"
     ]
    }
   ],
   "source": [
    "spark.sql(\n",
    "'''\n",
    "\n",
    "    with cte as (\n",
    "    select *,\n",
    "    row_number() over(partition by city order by name asc) as player_groups\n",
    "    from players)\n",
    "    \n",
    "    select player_groups ,\n",
    "    max(case when city = 'Bangalore' then name end) as Bangalore,\n",
    "    max(case when city = 'Mumbai' then name end) as Mumbai,\n",
    "    max(case when city = 'Delhi' then name end) as Delhi\n",
    "    from cte\n",
    "    group by player_groups\n",
    "''').show()"
   ]
  },
  {
   "cell_type": "code",
   "execution_count": null,
   "id": "27b97f64-efff-4655-ad49-0d5a192a0fed",
   "metadata": {},
   "outputs": [],
   "source": []
  }
 ],
 "metadata": {
  "kernelspec": {
   "display_name": "Python 3 (ipykernel)",
   "language": "python",
   "name": "python3"
  },
  "language_info": {
   "codemirror_mode": {
    "name": "ipython",
    "version": 3
   },
   "file_extension": ".py",
   "mimetype": "text/x-python",
   "name": "python",
   "nbconvert_exporter": "python",
   "pygments_lexer": "ipython3",
   "version": "3.7.17"
  }
 },
 "nbformat": 4,
 "nbformat_minor": 5
}
