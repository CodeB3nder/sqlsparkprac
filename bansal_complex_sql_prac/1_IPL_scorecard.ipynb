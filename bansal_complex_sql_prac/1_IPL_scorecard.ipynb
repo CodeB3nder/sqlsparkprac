{
 "cells": [
  {
   "cell_type": "code",
   "execution_count": null,
   "id": "3f533695-ea24-4f4b-bc14-9016f43ec893",
   "metadata": {},
   "outputs": [],
   "source": [
    "https://www.youtube.com/watch?v=qyAgWL066Vo&list=PLBTZqjSKn0IeKBQDjLmzisazhqQy4iGkb"
   ]
  },
  {
   "cell_type": "code",
   "execution_count": null,
   "id": "365a9a5e-bb9e-4455-a6a8-bc3e968f96fb",
   "metadata": {},
   "outputs": [],
   "source": []
  },
  {
   "cell_type": "code",
   "execution_count": 5,
   "id": "5cea247a-0bd5-482f-b583-b48f7c8fa409",
   "metadata": {
    "tags": []
   },
   "outputs": [
    {
     "name": "stdout",
     "output_type": "stream",
     "text": [
      "icc_world_cup table and view created successfully.\n"
     ]
    }
   ],
   "source": [
    "from pyspark.sql import SparkSession\n",
    "from pyspark.sql.types import StructType, StructField, StringType\n",
    "\n",
    "# Define schema for icc_world_cup table\n",
    "icc_schema = StructType([\n",
    "    StructField(\"team1\", StringType(), True),\n",
    "    StructField(\"team2\", StringType(), True),\n",
    "    StructField(\"winner\", StringType(), True)\n",
    "])\n",
    "\n",
    "# Create DataFrame with initial data\n",
    "icc_data = [\n",
    "    (\"India\", \"SL\", \"India\"),\n",
    "    (\"SL\", \"Aus\", \"Aus\"),\n",
    "    (\"SA\", \"Eng\", \"Eng\"),\n",
    "    (\"Eng\", \"NZ\", \"NZ\"),\n",
    "    (\"Aus\", \"India\", \"India\")\n",
    "]\n",
    "\n",
    "icc_df = spark.createDataFrame(icc_data, schema=icc_schema)\n",
    "\n",
    "# Create a temporary view for SQL queries\n",
    "icc_df.createOrReplaceTempView(\"data\")\n",
    "\n",
    "# Create a persistent table (Delta format)\n",
    "print(\"icc_world_cup table and view created successfully.\")\n"
   ]
  },
  {
   "cell_type": "code",
   "execution_count": 10,
   "id": "e5f526f6-5383-44e8-a86a-77fee59862c1",
   "metadata": {
    "tags": []
   },
   "outputs": [
    {
     "data": {
      "text/plain": [
       "DataFrame[team_name: string, win_flag: int]"
      ]
     },
     "execution_count": 10,
     "metadata": {},
     "output_type": "execute_result"
    }
   ],
   "source": [
    "spark.sql(\"\"\"\n",
    "    select team1 as team_name,\n",
    "    case when team1=winner then 1 else 0 end as win_flag\n",
    "    from data\"\"\")"
   ]
  },
  {
   "cell_type": "code",
   "execution_count": 17,
   "id": "37f85a21-3090-4bdf-8093-7e8c618500f2",
   "metadata": {
    "tags": []
   },
   "outputs": [
    {
     "name": "stdout",
     "output_type": "stream",
     "text": [
      "+---------+--------------------+----------+------------+\n",
      "|team_name|no_of_matches_played|no_of_wins|no_of_losses|\n",
      "+---------+--------------------+----------+------------+\n",
      "|    India|                   2|         2|           0|\n",
      "|       SL|                   2|         0|           2|\n",
      "|       SA|                   1|         0|           1|\n",
      "|      Eng|                   2|         1|           1|\n",
      "|      Aus|                   2|         1|           1|\n",
      "|       NZ|                   1|         1|           0|\n",
      "+---------+--------------------+----------+------------+\n",
      "\n"
     ]
    }
   ],
   "source": [
    "spark.sql(\"\"\"\n",
    "    with cte as (select team1 as team_name,\n",
    "    case when team1=winner then 1 else 0 end as win_flag\n",
    "    from data\n",
    "    union all\n",
    "    select team2 as team_name,\n",
    "    case when team2=winner then 1 else 0  end as win_flag\n",
    "    from data)\n",
    "    \n",
    "    select team_name, \n",
    "           count(*) as no_of_matches_played,\n",
    "           sum(win_flag) as no_of_wins,\n",
    "           count(*) - sum(win_flag) as no_of_losses\n",
    "    from cte group by team_name\n",
    "\"\"\").show()\n"
   ]
  },
  {
   "cell_type": "code",
   "execution_count": 21,
   "id": "957e60bc-cb52-496e-8d3d-e6273c354a2d",
   "metadata": {
    "tags": []
   },
   "outputs": [],
   "source": [
    "from pyspark.sql.functions import *\n",
    "\n",
    "cte_df = icc_df.select(\n",
    "    col(\"team1\").alias(\"team_name\"),\n",
    "    when(col(\"team1\") == col(\"winner\"), 1).otherwise(0).alias(\"win_flag\")\n",
    ").unionAll(\n",
    "    icc_df.select(\n",
    "        col(\"team2\").alias(\"team_name\"),\n",
    "        when(col(\"team2\") == col(\"winner\"), 1).otherwise(0).alias(\"win_flag\")\n",
    "    )\n",
    ")\n"
   ]
  },
  {
   "cell_type": "code",
   "execution_count": 24,
   "id": "82bbf9e3-a314-46e0-8a4f-2d2ab417283c",
   "metadata": {
    "tags": []
   },
   "outputs": [
    {
     "name": "stdout",
     "output_type": "stream",
     "text": [
      "+---------+--------+-------------+--------------------------+\n",
      "|team_name|count(1)|sum(win_flag)|(count(1) - sum(win_flag))|\n",
      "+---------+--------+-------------+--------------------------+\n",
      "|    India|       2|            2|                         0|\n",
      "|       SL|       2|            0|                         2|\n",
      "|       SA|       1|            0|                         1|\n",
      "|      Eng|       2|            1|                         1|\n",
      "|      Aus|       2|            1|                         1|\n",
      "|       NZ|       1|            1|                         0|\n",
      "+---------+--------+-------------+--------------------------+\n",
      "\n"
     ]
    }
   ],
   "source": [
    "cte_df.groupBy(col(\"team_name\")).agg(\n",
    "        count(\"*\"),\n",
    "        sum(\"win_flag\"),\n",
    "        count(\"*\") - sum(\"win_flag\")\n",
    ").show()"
   ]
  },
  {
   "cell_type": "code",
   "execution_count": null,
   "id": "25a45e48-d8f1-4165-bcbd-0a9c141109d4",
   "metadata": {},
   "outputs": [],
   "source": []
  }
 ],
 "metadata": {
  "kernelspec": {
   "display_name": "Python 3 (ipykernel)",
   "language": "python",
   "name": "python3"
  },
  "language_info": {
   "codemirror_mode": {
    "name": "ipython",
    "version": 3
   },
   "file_extension": ".py",
   "mimetype": "text/x-python",
   "name": "python",
   "nbconvert_exporter": "python",
   "pygments_lexer": "ipython3",
   "version": "3.7.17"
  }
 },
 "nbformat": 4,
 "nbformat_minor": 5
}
