{
 "cells": [
  {
   "cell_type": "code",
   "execution_count": 1,
   "id": "7f999894-2e97-4066-8f13-79ecc91de7df",
   "metadata": {
    "tags": []
   },
   "outputs": [
    {
     "name": "stdout",
     "output_type": "stream",
     "text": [
      "+----------+-------+--------+------+\n",
      "|  sms_date| sender|receiver|sms_no|\n",
      "+----------+-------+--------+------+\n",
      "|2020-04-01|Avinash|  Vibhor|    10|\n",
      "|2020-04-01| Vibhor| Avinash|    20|\n",
      "|2020-04-01|Avinash|   Pawan|    30|\n",
      "|2020-04-01|  Pawan| Avinash|    20|\n",
      "|2020-04-01| Vibhor|   Pawan|     5|\n",
      "|2020-04-01|  Pawan|  Vibhor|     8|\n",
      "|2020-04-01| Vibhor|  Deepak|    50|\n",
      "+----------+-------+--------+------+\n",
      "\n"
     ]
    }
   ],
   "source": [
    "from pyspark.sql import SparkSession\n",
    "from pyspark.sql.types import StructType, StructField, IntegerType, StringType, DateType\n",
    "from datetime import datetime\n",
    "from pyspark.sql.functions import *\n",
    "from pyspark.sql.window import Window\n",
    "# Initialize Spark Session\n",
    "spark = SparkSession.builder.appName(\"SubscriberTable\").getOrCreate()\n",
    "\n",
    "# Define Schema for Subscriber Table\n",
    "subscriber_schema = StructType([\n",
    "    StructField(\"sms_date\", DateType(), True),\n",
    "    StructField(\"sender\", StringType(), True),\n",
    "    StructField(\"receiver\", StringType(), True),\n",
    "    StructField(\"sms_no\", IntegerType(), True)\n",
    "])\n",
    "\n",
    "# Define Data for Subscriber Table\n",
    "subscriber_data = [\n",
    "    (datetime.strptime('2020-04-01', '%Y-%m-%d'), 'Avinash', 'Vibhor', 10),\n",
    "    (datetime.strptime('2020-04-01', '%Y-%m-%d'), 'Vibhor', 'Avinash', 20),\n",
    "    (datetime.strptime('2020-04-01', '%Y-%m-%d'), 'Avinash', 'Pawan', 30),\n",
    "    (datetime.strptime('2020-04-01', '%Y-%m-%d'), 'Pawan', 'Avinash', 20),\n",
    "    (datetime.strptime('2020-04-01', '%Y-%m-%d'), 'Vibhor', 'Pawan', 5),\n",
    "    (datetime.strptime('2020-04-01', '%Y-%m-%d'), 'Pawan', 'Vibhor', 8),\n",
    "    (datetime.strptime('2020-04-01', '%Y-%m-%d'), 'Vibhor', 'Deepak', 50)\n",
    "]\n",
    "\n",
    "# Create Subscriber DataFrame\n",
    "subscriber_df = spark.createDataFrame(subscriber_data, schema=subscriber_schema)\n",
    "\n",
    "# Show DataFrame\n",
    "subscriber_df.show()\n",
    "subscriber_df.createOrReplaceTempView(\"Subscriber\")\n"
   ]
  },
  {
   "cell_type": "code",
   "execution_count": 10,
   "id": "96eeeee1-1b3a-4eac-b363-b6e08bd543c5",
   "metadata": {
    "tags": []
   },
   "outputs": [
    {
     "name": "stdout",
     "output_type": "stream",
     "text": [
      "+----------+-------+------+-----------+\n",
      "|  sms_date|     p1|    p2|sum(sms_no)|\n",
      "+----------+-------+------+-----------+\n",
      "|2020-04-01|Avinash|Vibhor|         30|\n",
      "|2020-04-01|Avinash| Pawan|         50|\n",
      "|2020-04-01|  Pawan|Vibhor|         13|\n",
      "|2020-04-01| Deepak|Vibhor|         50|\n",
      "+----------+-------+------+-----------+\n",
      "\n"
     ]
    }
   ],
   "source": [
    "spark.sql(\n",
    "\"\"\"\n",
    "    with cte as (select *,\n",
    "        Case when sender < receiver then sender else receiver end as p1,\n",
    "        Case when sender > receiver then sender else receiver end as p2\n",
    "    from Subscriber)\n",
    "    \n",
    "    select sms_date, p1, p2, sum(sms_no) from cte group by sms_date, p1, p2\n",
    "\"\"\").show()"
   ]
  },
  {
   "cell_type": "code",
   "execution_count": 12,
   "id": "703afe7d-1eab-44c6-84d2-ffb474903fc4",
   "metadata": {
    "tags": []
   },
   "outputs": [
    {
     "name": "stdout",
     "output_type": "stream",
     "text": [
      "+----------+-------+------+---------+\n",
      "|  sms_date|     p1|    p2|total_sms|\n",
      "+----------+-------+------+---------+\n",
      "|2020-04-01|Avinash|Vibhor|       30|\n",
      "|2020-04-01|Avinash| Pawan|       50|\n",
      "|2020-04-01|  Pawan|Vibhor|       13|\n",
      "|2020-04-01| Deepak|Vibhor|       50|\n",
      "+----------+-------+------+---------+\n",
      "\n"
     ]
    }
   ],
   "source": [
    "df_cte = subscriber_df.withColumn(\n",
    "    \"p1\", when(col(\"sender\") < col(\"receiver\"), col(\"sender\")).otherwise(col(\"receiver\"))\n",
    ").withColumn(\n",
    "    \"p2\", when(col(\"sender\") > col(\"receiver\"), col(\"sender\")).otherwise(col(\"receiver\"))\n",
    ")\n",
    "\n",
    "# Group by sms_date, p1, p2 and sum sms_no\n",
    "df_result = df_cte.groupBy(\"sms_date\", \"p1\", \"p2\").agg(sum(\"sms_no\").alias(\"total_sms\"))\n",
    "\n",
    "# Show results\n",
    "df_result.show()"
   ]
  },
  {
   "cell_type": "code",
   "execution_count": null,
   "id": "e599e663-c4a0-4f35-a5b8-02757762f535",
   "metadata": {},
   "outputs": [],
   "source": []
  }
 ],
 "metadata": {
  "kernelspec": {
   "display_name": "Python 3 (ipykernel)",
   "language": "python",
   "name": "python3"
  },
  "language_info": {
   "codemirror_mode": {
    "name": "ipython",
    "version": 3
   },
   "file_extension": ".py",
   "mimetype": "text/x-python",
   "name": "python",
   "nbconvert_exporter": "python",
   "pygments_lexer": "ipython3",
   "version": "3.7.17"
  }
 },
 "nbformat": 4,
 "nbformat_minor": 5
}
