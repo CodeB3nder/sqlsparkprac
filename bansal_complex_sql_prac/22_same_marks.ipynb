{
 "cells": [
  {
   "cell_type": "code",
   "execution_count": 1,
   "id": "6202c406-5f45-4625-9e2c-cb4d582c3825",
   "metadata": {
    "tags": []
   },
   "outputs": [
    {
     "name": "stdout",
     "output_type": "stream",
     "text": [
      "+----------+---------+-----+\n",
      "|student_id|  subject|marks|\n",
      "+----------+---------+-----+\n",
      "|         1|Chemistry|   91|\n",
      "|         1|  Physics|   91|\n",
      "|         2|Chemistry|   80|\n",
      "|         2|  Physics|   90|\n",
      "|         3|Chemistry|   80|\n",
      "|         4|Chemistry|   71|\n",
      "|         4|  Physics|   54|\n",
      "+----------+---------+-----+\n",
      "\n"
     ]
    }
   ],
   "source": [
    "from pyspark.sql import SparkSession\n",
    "from pyspark.sql.functions import *\n",
    "# Initialize Spark Session\n",
    "spark = SparkSession.builder.appName(\"Exams\").getOrCreate()\n",
    "\n",
    "# Define Data\n",
    "data = [\n",
    "    (1, 'Chemistry', 91), (1, 'Physics', 91),\n",
    "    (2, 'Chemistry', 80), (2, 'Physics', 90),\n",
    "    (3, 'Chemistry', 80),\n",
    "    (4, 'Chemistry', 71), (4, 'Physics', 54)\n",
    "]\n",
    "\n",
    "columns = [\"student_id\", \"subject\", \"marks\"]\n",
    "\n",
    "# Create DataFrame\n",
    "exams_df = spark.createDataFrame(data, columns)\n",
    "\n",
    "# Show Data\n",
    "exams_df.show()\n",
    "\n",
    "exams_df.createOrReplaceTempView(\"exams\")\n",
    "\n"
   ]
  },
  {
   "cell_type": "code",
   "execution_count": 10,
   "id": "69dad789-7de9-47c1-84b6-9f7f8b57eb02",
   "metadata": {
    "tags": []
   },
   "outputs": [
    {
     "name": "stdout",
     "output_type": "stream",
     "text": [
      "+----------+---+\n",
      "|student_id| s1|\n",
      "+----------+---+\n",
      "|         1|  2|\n",
      "+----------+---+\n",
      "\n"
     ]
    }
   ],
   "source": [
    "spark.sql(\n",
    "\"\"\"\n",
    "    select student_id, count(subject) as s1 from exams\n",
    "    where subject in ('Chemistry', 'Physics')\n",
    "    group by student_id\n",
    "    having s1 = 2 and count(distinct marks) = 1\n",
    "\"\"\").show()"
   ]
  },
  {
   "cell_type": "code",
   "execution_count": 8,
   "id": "cb07f3e8-35fc-4099-a7d1-e5fb69a408ef",
   "metadata": {
    "tags": []
   },
   "outputs": [],
   "source": [
    "\n",
    "filtered_df = exams_df.filter(col(\"subject\").isin([\"Chemistry\", \"Physics\"]))\n",
    "\n",
    "# Grouping and applying conditions\n",
    "result_df = (\n",
    "    filtered_df.groupBy(\"student_id\")\n",
    "    .agg(\n",
    "        countDistinct(\"subject\").alias(\"distinct_subject_count\"),\n",
    "        countDistinct(\"marks\").alias(\"distinct_marks_count\")\n",
    "    )\n",
    "    .filter((col(\"distinct_subject_count\") == 1) & (col(\"distinct_marks_count\") == 1))\n",
    "    .select(\"student_id\")\n",
    ")\n"
   ]
  },
  {
   "cell_type": "code",
   "execution_count": null,
   "id": "6b2d9bcb-63d8-4735-b164-bccd54f9ea22",
   "metadata": {},
   "outputs": [],
   "source": []
  }
 ],
 "metadata": {
  "kernelspec": {
   "display_name": "Python 3 (ipykernel)",
   "language": "python",
   "name": "python3"
  },
  "language_info": {
   "codemirror_mode": {
    "name": "ipython",
    "version": 3
   },
   "file_extension": ".py",
   "mimetype": "text/x-python",
   "name": "python",
   "nbconvert_exporter": "python",
   "pygments_lexer": "ipython3",
   "version": "3.7.17"
  }
 },
 "nbformat": 4,
 "nbformat_minor": 5
}
