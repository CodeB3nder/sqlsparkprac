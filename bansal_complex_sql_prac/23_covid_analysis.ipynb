{
 "cells": [
  {
   "cell_type": "code",
   "execution_count": 1,
   "id": "c35aaf8f-df25-4910-be1a-de3b50ce692f",
   "metadata": {
    "tags": []
   },
   "outputs": [
    {
     "name": "stdout",
     "output_type": "stream",
     "text": [
      "+---------+----------+-----+\n",
      "|     city|      days|cases|\n",
      "+---------+----------+-----+\n",
      "|    DELHI|2022-01-01|  100|\n",
      "|    DELHI|2022-01-02|  200|\n",
      "|    DELHI|2022-01-03|  300|\n",
      "|   MUMBAI|2022-01-01|  100|\n",
      "|   MUMBAI|2022-01-02|  100|\n",
      "|   MUMBAI|2022-01-03|  300|\n",
      "|  CHENNAI|2022-01-01|  100|\n",
      "|  CHENNAI|2022-01-02|  200|\n",
      "|  CHENNAI|2022-01-03|  150|\n",
      "|BANGALORE|2022-01-01|  100|\n",
      "|BANGALORE|2022-01-02|  300|\n",
      "|BANGALORE|2022-01-03|  200|\n",
      "|BANGALORE|2022-01-04|  400|\n",
      "+---------+----------+-----+\n",
      "\n"
     ]
    }
   ],
   "source": [
    "from pyspark.sql import SparkSession\n",
    "from pyspark.sql.types import StructType, StructField, StringType, IntegerType, DateType\n",
    "from datetime import datetime\n",
    "from pyspark.sql.window import Window\n",
    "\n",
    "# Initialize Spark Session\n",
    "spark = SparkSession.builder.appName(\"CovidData\").getOrCreate()\n",
    "\n",
    "# Define Schema\n",
    "schema = StructType([\n",
    "    StructField(\"city\", StringType(), True),\n",
    "    StructField(\"days\", DateType(), True),\n",
    "    StructField(\"cases\", IntegerType(), True)\n",
    "])\n",
    "\n",
    "# Define Data\n",
    "data = [\n",
    "    (\"DELHI\", \"2022-01-01\", 100), (\"DELHI\", \"2022-01-02\", 200), (\"DELHI\", \"2022-01-03\", 300),\n",
    "    (\"MUMBAI\", \"2022-01-01\", 100), (\"MUMBAI\", \"2022-01-02\", 100), (\"MUMBAI\", \"2022-01-03\", 300),\n",
    "    (\"CHENNAI\", \"2022-01-01\", 100), (\"CHENNAI\", \"2022-01-02\", 200), (\"CHENNAI\", \"2022-01-03\", 150),\n",
    "    (\"BANGALORE\", \"2022-01-01\", 100), (\"BANGALORE\", \"2022-01-02\", 300), (\"BANGALORE\", \"2022-01-03\", 200),\n",
    "    (\"BANGALORE\", \"2022-01-04\", 400)\n",
    "]\n",
    "\n",
    "# Convert Date Strings to DateType using list comprehension\n",
    "formatted_data = [(city, datetime.strptime(date, \"%Y-%m-%d\").date(), cases) for city, date, cases in data]\n",
    "\n",
    "# Create DataFrame\n",
    "covid_df = spark.createDataFrame(formatted_data, schema=schema)\n",
    "\n",
    "# Show Data\n",
    "covid_df.show()\n",
    "\n",
    "covid_df.createOrReplaceTempView(\"covid\")\n",
    "\n"
   ]
  },
  {
   "cell_type": "code",
   "execution_count": 12,
   "id": "087304ed-aa13-4832-80d5-faa047463c3c",
   "metadata": {
    "tags": []
   },
   "outputs": [
    {
     "name": "stdout",
     "output_type": "stream",
     "text": [
      "+-----+\n",
      "| city|\n",
      "+-----+\n",
      "|DELHI|\n",
      "+-----+\n",
      "\n"
     ]
    }
   ],
   "source": [
    "spark.sql(\n",
    "    \"\"\"\n",
    "        with cte as (select *,\n",
    "        rank() over(partition by City Order by days) as rn_days,\n",
    "        rank() over(partition by City Order by cases) as rn_cases,\n",
    "        rank() over(partition by City Order by days) - rank() over(partition by City Order by cases) as diff\n",
    "        from covid order by city, days)\n",
    "        \n",
    "        select city from cte\n",
    "        group by City \n",
    "        having count(distinct diff) = 1\n",
    "    \"\"\"\n",
    ").show()"
   ]
  },
  {
   "cell_type": "code",
   "execution_count": 15,
   "id": "f27eb000-91be-4690-8033-7a952631a72c",
   "metadata": {
    "tags": []
   },
   "outputs": [],
   "source": [
    "from pyspark.sql.functions import *"
   ]
  },
  {
   "cell_type": "code",
   "execution_count": 24,
   "id": "eb1396de-af73-44a1-ae24-61e38edc52ea",
   "metadata": {
    "tags": []
   },
   "outputs": [
    {
     "name": "stdout",
     "output_type": "stream",
     "text": [
      "+-----+---+\n",
      "| City|cnt|\n",
      "+-----+---+\n",
      "|DELHI|  1|\n",
      "+-----+---+\n",
      "\n"
     ]
    }
   ],
   "source": [
    "window_days = Window.partitionBy(\"City\").orderBy(\"days\")\n",
    "window_cases = Window.partitionBy(\"City\").orderBy(\"cases\")\n",
    "\n",
    "covid_df. \\\n",
    "    withColumn(\"diff\", rank().over(window_days) -rank().over(window_cases)) .\\\n",
    "    groupBy(col(\"City\")).agg(\n",
    "        count_distinct(col(\"diff\")).alias(\"cnt\")\n",
    "    ).filter(col(\"cnt\") == 1).show()\n",
    "\n"
   ]
  },
  {
   "cell_type": "code",
   "execution_count": null,
   "id": "e9d43a52-1db3-4430-a60b-65bea59bede6",
   "metadata": {},
   "outputs": [],
   "source": []
  }
 ],
 "metadata": {
  "kernelspec": {
   "display_name": "Python 3 (ipykernel)",
   "language": "python",
   "name": "python3"
  },
  "language_info": {
   "codemirror_mode": {
    "name": "ipython",
    "version": 3
   },
   "file_extension": ".py",
   "mimetype": "text/x-python",
   "name": "python",
   "nbconvert_exporter": "python",
   "pygments_lexer": "ipython3",
   "version": "3.7.17"
  }
 },
 "nbformat": 4,
 "nbformat_minor": 5
}
