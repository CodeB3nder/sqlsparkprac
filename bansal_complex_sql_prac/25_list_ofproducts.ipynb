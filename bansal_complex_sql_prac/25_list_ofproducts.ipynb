{
 "cells": [
  {
   "cell_type": "code",
   "execution_count": 1,
   "id": "bc516c1a-511e-4075-b875-9e7638dbfeeb",
   "metadata": {
    "tags": []
   },
   "outputs": [
    {
     "name": "stdout",
     "output_type": "stream",
     "text": [
      "Products Table:\n",
      "+----------+----+\n",
      "|product_id|cost|\n",
      "+----------+----+\n",
      "|        P1| 200|\n",
      "|        P2| 300|\n",
      "|        P3| 500|\n",
      "|        P4| 800|\n",
      "+----------+----+\n",
      "\n",
      "Customer Budget Table:\n",
      "+-----------+------+\n",
      "|customer_id|budget|\n",
      "+-----------+------+\n",
      "|        100|   400|\n",
      "|        200|   800|\n",
      "|        300|  1500|\n",
      "+-----------+------+\n",
      "\n"
     ]
    }
   ],
   "source": [
    "from pyspark.sql import SparkSession\n",
    "from pyspark.sql.types import StructType, StructField, IntegerType, StringType\n",
    "from datetime import datetime\n",
    "from pyspark.sql.window import Window\n",
    "\n",
    "# Initialize Spark Session\n",
    "spark = SparkSession.builder.appName(\"ProductsAndBudget\").getOrCreate()\n",
    "\n",
    "# Define Schema for Products Table\n",
    "products_schema = StructType([\n",
    "    StructField(\"product_id\", StringType(), True),\n",
    "    StructField(\"cost\", IntegerType(), True)\n",
    "])\n",
    "\n",
    "# Define Data for Products\n",
    "products_data = [\n",
    "    ('P1', 200), ('P2', 300), ('P3', 500), ('P4', 800)\n",
    "]\n",
    "\n",
    "# Create Products DataFrame\n",
    "products_df = spark.createDataFrame(products_data, schema=products_schema)\n",
    "\n",
    "# Define Schema for Customer Budget Table\n",
    "customer_budget_schema = StructType([\n",
    "    StructField(\"customer_id\", IntegerType(), True),\n",
    "    StructField(\"budget\", IntegerType(), True)\n",
    "])\n",
    "\n",
    "# Define Data for Customer Budget\n",
    "customer_budget_data = [\n",
    "    (100, 400), (200, 800), (300, 1500)\n",
    "]\n",
    "\n",
    "# Create Customer Budget DataFrame\n",
    "customer_budget_df = spark.createDataFrame(customer_budget_data, schema=customer_budget_schema)\n",
    "\n",
    "# Show DataFrames\n",
    "print(\"Products Table:\")\n",
    "products_df.show()\n",
    "\n",
    "print(\"Customer Budget Table:\")\n",
    "customer_budget_df.show()\n",
    "\n",
    "products_df.createOrReplaceTempView(\"Products\")\n",
    "customer_budget_df.createOrReplaceTempView(\"Customer_budget\")\n"
   ]
  },
  {
   "cell_type": "code",
   "execution_count": 2,
   "id": "88e55165-a797-47b5-9e6d-bbf1cec89286",
   "metadata": {
    "tags": []
   },
   "outputs": [
    {
     "name": "stdout",
     "output_type": "stream",
     "text": [
      "+-----------+------+--------------+----------------+\n",
      "|customer_id|budget|no_of_products|list_of_products|\n",
      "+-----------+------+--------------+----------------+\n",
      "|        100|   400|             1|            [P1]|\n",
      "|        200|   800|             2|        [P1, P2]|\n",
      "|        300|  1500|             3|    [P1, P2, P3]|\n",
      "+-----------+------+--------------+----------------+\n",
      "\n"
     ]
    }
   ],
   "source": [
    "spark.sql(\n",
    "\"\"\"\n",
    "    with running_cost as\n",
    "    (\n",
    "    select *,\n",
    "    sum(cost) over (rows between unbounded preceding and current row) as running\n",
    "    from products\n",
    "    )\n",
    "    \n",
    "    select customer_id, min(budget) as budget, \n",
    "    count(*) as no_of_products,\n",
    "    array_agg(product_id) as list_of_products\n",
    "    from customer_budget c join running_cost p\n",
    "    on p.running <= c.budget\n",
    "    group by customer_id\n",
    "    order by customer_id\n",
    "\"\"\").show()"
   ]
  },
  {
   "cell_type": "code",
   "execution_count": 6,
   "id": "5ecf42c7-8704-4480-b912-37325c0d6614",
   "metadata": {
    "tags": []
   },
   "outputs": [],
   "source": [
    "from pyspark.sql.functions import *"
   ]
  },
  {
   "cell_type": "code",
   "execution_count": 8,
   "id": "14385ab2-132d-4084-8d06-897d7f4841c5",
   "metadata": {},
   "outputs": [],
   "source": [
    "window_spec = Window.rowsBetween(Window.unboundedPreceding, Window.currentRow)\n",
    "\n",
    "df_running_cost = products_df.withColumn(\"running\", sum(col(\"cost\")).over(window_spec))\n",
    "\n",
    "df_result = (\n",
    "    customer_budget_df.alias(\"c\")\n",
    "    .join(df_running_cost.alias(\"p\"), col(\"p.running\") <= col(\"c.budget\"), \"inner\")\n",
    "    .groupBy(\"customer_id\")\n",
    "    .agg(\n",
    "        min(col(\"budget\")).alias(\"budget\"),\n",
    "        count(\"*\").alias(\"no_of_products\"),\n",
    "        collect_list(col(\"product_id\")).alias(\"list_of_products\")\n",
    "    )\n",
    "    .orderBy(\"customer_id\")\n",
    ")\n"
   ]
  },
  {
   "cell_type": "code",
   "execution_count": 9,
   "id": "11a735fb-e23d-4b75-984e-ec638211deaa",
   "metadata": {
    "tags": []
   },
   "outputs": [
    {
     "name": "stdout",
     "output_type": "stream",
     "text": [
      "+-----------+------+--------------+----------------+\n",
      "|customer_id|budget|no_of_products|list_of_products|\n",
      "+-----------+------+--------------+----------------+\n",
      "|        100|   400|             1|            [P1]|\n",
      "|        200|   800|             2|        [P1, P2]|\n",
      "|        300|  1500|             3|    [P1, P2, P3]|\n",
      "+-----------+------+--------------+----------------+\n",
      "\n"
     ]
    }
   ],
   "source": [
    "df_result.show()"
   ]
  },
  {
   "cell_type": "code",
   "execution_count": null,
   "id": "11862573-0afe-4785-b4dd-2981a25a986f",
   "metadata": {},
   "outputs": [],
   "source": []
  }
 ],
 "metadata": {
  "kernelspec": {
   "display_name": "Python 3 (ipykernel)",
   "language": "python",
   "name": "python3"
  },
  "language_info": {
   "codemirror_mode": {
    "name": "ipython",
    "version": 3
   },
   "file_extension": ".py",
   "mimetype": "text/x-python",
   "name": "python",
   "nbconvert_exporter": "python",
   "pygments_lexer": "ipython3",
   "version": "3.7.17"
  }
 },
 "nbformat": 4,
 "nbformat_minor": 5
}
