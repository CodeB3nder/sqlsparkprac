{
 "cells": [
  {
   "cell_type": "code",
   "execution_count": 1,
   "id": "636f779d-4c95-4f09-863a-e94b1212d3c0",
   "metadata": {
    "tags": []
   },
   "outputs": [
    {
     "name": "stdout",
     "output_type": "stream",
     "text": [
      "+----------+-------+--------+\n",
      "|company_id|user_id|language|\n",
      "+----------+-------+--------+\n",
      "|         1|      1| English|\n",
      "|         1|      1|  German|\n",
      "|         1|      2| English|\n",
      "|         1|      3|  German|\n",
      "|         1|      3| English|\n",
      "|         1|      4| English|\n",
      "|         2|      5| English|\n",
      "|         2|      5|  German|\n",
      "|         2|      5| Spanish|\n",
      "|         2|      6|  German|\n",
      "|         2|      6| Spanish|\n",
      "|         2|      7| English|\n",
      "+----------+-------+--------+\n",
      "\n"
     ]
    }
   ],
   "source": [
    "from pyspark.sql import SparkSession\n",
    "from pyspark.sql.types import StructType, StructField, IntegerType, StringType\n",
    "from datetime import datetime\n",
    "from pyspark.sql.window import Window\n",
    "\n",
    "# Initialize Spark Session\n",
    "spark = SparkSession.builder.appName(\"CompanyUsers\").getOrCreate()\n",
    "\n",
    "# Define Schema\n",
    "schema = StructType([\n",
    "    StructField(\"company_id\", IntegerType(), True),\n",
    "    StructField(\"user_id\", IntegerType(), True),\n",
    "    StructField(\"language\", StringType(), True)\n",
    "])\n",
    "\n",
    "# Define Data\n",
    "data = [\n",
    "    (1, 1, 'English'), (1, 1, 'German'), (1, 2, 'English'),\n",
    "    (1, 3, 'German'), (1, 3, 'English'), (1, 4, 'English'),\n",
    "    (2, 5, 'English'), (2, 5, 'German'), (2, 5, 'Spanish'),\n",
    "    (2, 6, 'German'), (2, 6, 'Spanish'), (2, 7, 'English')\n",
    "]\n",
    "\n",
    "# Create DataFrame\n",
    "company_users_df = spark.createDataFrame(data, schema=schema)\n",
    "\n",
    "# Show Data\n",
    "company_users_df.show()\n",
    "\n",
    "company_users_df.createOrReplaceTempView(\"users\")\n",
    "\n"
   ]
  },
  {
   "cell_type": "code",
   "execution_count": 9,
   "id": "9a1b0233-df0e-4228-90c7-d4d22a59b246",
   "metadata": {
    "tags": []
   },
   "outputs": [
    {
     "name": "stdout",
     "output_type": "stream",
     "text": [
      "+----------+--------+\n",
      "|company_id|count(1)|\n",
      "+----------+--------+\n",
      "|         1|       2|\n",
      "+----------+--------+\n",
      "\n"
     ]
    }
   ],
   "source": [
    "spark.sql(\n",
    "\"\"\"\n",
    "    select company_id, count(1) from (\n",
    "    select company_id, user_id, count(*)\n",
    "    from users\n",
    "    where language in ('English', 'German')\n",
    "    group by company_id, user_id\n",
    "    having count(1) = 2)\n",
    "    group by company_id\n",
    "    having count(1) >= 2\n",
    "\"\"\").show()"
   ]
  },
  {
   "cell_type": "code",
   "execution_count": null,
   "id": "f03a2d92-1b22-4d01-9cd5-ab784ce0276e",
   "metadata": {},
   "outputs": [],
   "source": []
  }
 ],
 "metadata": {
  "kernelspec": {
   "display_name": "Python 3 (ipykernel)",
   "language": "python",
   "name": "python3"
  },
  "language_info": {
   "codemirror_mode": {
    "name": "ipython",
    "version": 3
   },
   "file_extension": ".py",
   "mimetype": "text/x-python",
   "name": "python",
   "nbconvert_exporter": "python",
   "pygments_lexer": "ipython3",
   "version": "3.7.17"
  }
 },
 "nbformat": 4,
 "nbformat_minor": 5
}
