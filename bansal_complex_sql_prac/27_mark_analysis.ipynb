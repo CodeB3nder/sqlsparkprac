{
 "cells": [
  {
   "cell_type": "code",
   "execution_count": 1,
   "id": "dd0a8750-d09c-4f69-92ff-9be7e532f3c2",
   "metadata": {
    "tags": []
   },
   "outputs": [],
   "source": [
    "from pyspark.sql import SparkSession\n",
    "from pyspark.sql.types import StructType, StructField, IntegerType, StringType, DateType\n",
    "from datetime import datetime\n",
    "from datetime import datetime\n",
    "from pyspark.sql.functions import *\n",
    "from pyspark.sql.window import Window\n",
    "# Initialize Spark Session\n",
    "spark = SparkSession.builder.appName(\"StudentsTable\").getOrCreate()\n",
    "\n",
    "# Define Schema for Students Table\n",
    "students_schema = StructType([\n",
    "    StructField(\"studentid\", IntegerType(), True),\n",
    "    StructField(\"studentname\", StringType(), True),\n",
    "    StructField(\"subject\", StringType(), True),\n",
    "    StructField(\"marks\", IntegerType(), True),\n",
    "    StructField(\"testid\", IntegerType(), True),\n",
    "    StructField(\"testdate\", DateType(), True)\n",
    "])\n",
    "\n",
    "# Define Data for Students Table\n",
    "students_data = [\n",
    "    (2, 'Max Ruin', 'Subject1', 63, 1, datetime.strptime('2022-01-02', '%Y-%m-%d')),\n",
    "    (3, 'Arnold', 'Subject1', 95, 1, datetime.strptime('2022-01-02', '%Y-%m-%d')),\n",
    "    (4, 'Krish Star', 'Subject1', 61, 1, datetime.strptime('2022-01-02', '%Y-%m-%d')),\n",
    "    (5, 'John Mike', 'Subject1', 91, 1, datetime.strptime('2022-01-02', '%Y-%m-%d')),\n",
    "    (4, 'Krish Star', 'Subject2', 71, 1, datetime.strptime('2022-01-02', '%Y-%m-%d')),\n",
    "    (3, 'Arnold', 'Subject2', 32, 1, datetime.strptime('2022-01-02', '%Y-%m-%d')),\n",
    "    (5, 'John Mike', 'Subject2', 61, 2, datetime.strptime('2022-11-02', '%Y-%m-%d')),\n",
    "    (1, 'John Deo', 'Subject2', 60, 1, datetime.strptime('2022-01-02', '%Y-%m-%d')),\n",
    "    (2, 'Max Ruin', 'Subject2', 84, 1, datetime.strptime('2022-01-02', '%Y-%m-%d')),\n",
    "    (2, 'Max Ruin', 'Subject3', 29, 3, datetime.strptime('2022-01-03', '%Y-%m-%d')),\n",
    "    (5, 'John Mike', 'Subject3', 98, 2, datetime.strptime('2022-11-02', '%Y-%m-%d'))\n",
    "]\n",
    "\n",
    "# Create Students DataFrame\n",
    "students_df = spark.createDataFrame(students_data, schema=students_schema)\n",
    "\n",
    "# Show DataFrame\n",
    "students_df.createOrReplaceTempView(\"Students\")\n"
   ]
  },
  {
   "cell_type": "code",
   "execution_count": 2,
   "id": "f6055075-48f4-4837-9cbc-864761389532",
   "metadata": {
    "tags": []
   },
   "outputs": [
    {
     "name": "stdout",
     "output_type": "stream",
     "text": [
      "+---------+-----------+--------+-----+------+----------+\n",
      "|studentid|studentname| subject|marks|testid|  testdate|\n",
      "+---------+-----------+--------+-----+------+----------+\n",
      "|        2|   Max Ruin|Subject1|   63|     1|2022-01-02|\n",
      "|        3|     Arnold|Subject1|   95|     1|2022-01-02|\n",
      "|        4| Krish Star|Subject1|   61|     1|2022-01-02|\n",
      "|        5|  John Mike|Subject1|   91|     1|2022-01-02|\n",
      "|        4| Krish Star|Subject2|   71|     1|2022-01-02|\n",
      "|        3|     Arnold|Subject2|   32|     1|2022-01-02|\n",
      "|        5|  John Mike|Subject2|   61|     2|2022-11-02|\n",
      "|        1|   John Deo|Subject2|   60|     1|2022-01-02|\n",
      "|        2|   Max Ruin|Subject2|   84|     1|2022-01-02|\n",
      "|        2|   Max Ruin|Subject3|   29|     3|2022-01-03|\n",
      "|        5|  John Mike|Subject3|   98|     2|2022-11-02|\n",
      "+---------+-----------+--------+-----+------+----------+\n",
      "\n"
     ]
    }
   ],
   "source": [
    "students_df.show()"
   ]
  },
  {
   "cell_type": "code",
   "execution_count": 7,
   "id": "4482bed7-545e-4270-aad8-91f43232a469",
   "metadata": {
    "tags": []
   },
   "outputs": [
    {
     "name": "stdout",
     "output_type": "stream",
     "text": [
      "+-----------+\n",
      "|studentname|\n",
      "+-----------+\n",
      "|   Max Ruin|\n",
      "|     Arnold|\n",
      "| Krish Star|\n",
      "|  John Mike|\n",
      "+-----------+\n",
      "\n"
     ]
    }
   ],
   "source": [
    "spark.sql(\n",
    "\"\"\"\n",
    "    with cte as (select *,\n",
    "        avg(marks) over(order by studentid rows between unbounded preceding and unbounded following) as avg_marks\n",
    "    from Students)\n",
    "    \n",
    "    select distinct studentname from cte\n",
    "    where marks > avg_marks\n",
    "    \n",
    "\"\"\").show()"
   ]
  },
  {
   "cell_type": "code",
   "execution_count": null,
   "id": "a6c72fac-d71a-4245-bd8f-80d9c87b56e0",
   "metadata": {},
   "outputs": [],
   "source": [
    "spark.sql(\n",
    "\"\"\"\n",
    "    with cte as (select *,\n",
    "        avg(marks) over(order by studentid rows between unbounded preceding and unbounded following) as avg_marks\n",
    "    from Students)\n",
    "    \n",
    "    select distinct studentname from cte\n",
    "    where marks > avg_marks\n",
    "    \n",
    "\"\"\").show()"
   ]
  },
  {
   "cell_type": "code",
   "execution_count": 19,
   "id": "a5e56177-511f-4aa2-9f95-567f132ae972",
   "metadata": {
    "tags": []
   },
   "outputs": [
    {
     "name": "stdout",
     "output_type": "stream",
     "text": [
      "+-------------------------------------------------------------------------------------------------+\n",
      "|(count(DISTINCT CASE WHEN (marks > 90) THEN studentid ELSE NULL END) / count(DISTINCT studentid))|\n",
      "+-------------------------------------------------------------------------------------------------+\n",
      "|                                                                                              0.4|\n",
      "+-------------------------------------------------------------------------------------------------+\n",
      "\n"
     ]
    }
   ],
   "source": [
    "spark.sql(\n",
    "\"\"\"\n",
    "    select \n",
    "    count(distinct case when marks > 90 then studentid else null end)/count(distinct studentid)\n",
    "    from students\n",
    "\"\"\").show()"
   ]
  },
  {
   "cell_type": "code",
   "execution_count": 30,
   "id": "dae130d0-a95c-4225-8306-ec3d3eb3989b",
   "metadata": {
    "tags": []
   },
   "outputs": [
    {
     "name": "stdout",
     "output_type": "stream",
     "text": [
      "+--------+---------------------------------------------------+---------------------------------------------------+\n",
      "| subject|sum(CASE WHEN (rank1 = 2) THEN marks ELSE NULL END)|sum(CASE WHEN (rank2 = 2) THEN marks ELSE NULL END)|\n",
      "+--------+---------------------------------------------------+---------------------------------------------------+\n",
      "|Subject1|                                                 63|                                                 91|\n",
      "|Subject2|                                                 60|                                                 71|\n",
      "|Subject3|                                                 98|                                                 29|\n",
      "+--------+---------------------------------------------------+---------------------------------------------------+\n",
      "\n"
     ]
    }
   ],
   "source": [
    "spark.sql(\n",
    "\"\"\"\n",
    "    with cte as (select subject, marks,\n",
    "    rank(marks) over(partition by subject order by marks) as rank1,\n",
    "    rank(marks) over(partition by subject order by marks desc) as rank2\n",
    "    from students)\n",
    "    \n",
    "    select subject, \n",
    "        sum(case when rank1 = 2 then marks else null end),\n",
    "        sum(case when rank2 = 2 then marks else null end)\n",
    "    from cte\n",
    "    group by subject\n",
    "\n",
    "\"\"\").show()"
   ]
  },
  {
   "cell_type": "code",
   "execution_count": null,
   "id": "c7675e80-6602-4ce6-880e-2dd384df1b12",
   "metadata": {},
   "outputs": [],
   "source": []
  }
 ],
 "metadata": {
  "kernelspec": {
   "display_name": "Python 3 (ipykernel)",
   "language": "python",
   "name": "python3"
  },
  "language_info": {
   "codemirror_mode": {
    "name": "ipython",
    "version": 3
   },
   "file_extension": ".py",
   "mimetype": "text/x-python",
   "name": "python",
   "nbconvert_exporter": "python",
   "pygments_lexer": "ipython3",
   "version": "3.7.17"
  }
 },
 "nbformat": 4,
 "nbformat_minor": 5
}
