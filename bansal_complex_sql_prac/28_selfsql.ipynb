{
 "cells": [
  {
   "cell_type": "code",
   "execution_count": 1,
   "id": "5044f453-fc1f-4d30-92cf-f2462b38d5e0",
   "metadata": {
    "tags": []
   },
   "outputs": [
    {
     "name": "stdout",
     "output_type": "stream",
     "text": [
      "+------------+----------+-------+--------------+------+\n",
      "|order_number|order_date|cust_id|salesperson_id|amount|\n",
      "+------------+----------+-------+--------------+------+\n",
      "|          30|1995-07-14|      9|             1| 460.0|\n",
      "|          10|1996-08-02|      4|             2| 540.0|\n",
      "|          40|1998-01-29|      7|             2|2400.0|\n",
      "|          50|1998-02-03|      6|             7| 600.0|\n",
      "|          60|1998-03-02|      6|             7| 720.0|\n",
      "|          70|1998-05-06|      9|             7| 150.0|\n",
      "|          20|1999-01-30|      4|             8|1800.0|\n",
      "+------------+----------+-------+--------------+------+\n",
      "\n"
     ]
    }
   ],
   "source": [
    "from pyspark.sql import SparkSession\n",
    "from pyspark.sql.types import StructType, StructField, IntegerType, DateType, FloatType\n",
    "from datetime import datetime\n",
    "from pyspark.sql.functions import *\n",
    "from pyspark.sql.window import Window\n",
    "\n",
    "# Initialize Spark Session\n",
    "spark = SparkSession.builder.appName(\"OrdersTable\").getOrCreate()\n",
    "\n",
    "# Define Schema for int_orders Table\n",
    "int_orders_schema = StructType([\n",
    "    StructField(\"order_number\", IntegerType(), False),\n",
    "    StructField(\"order_date\", DateType(), False),\n",
    "    StructField(\"cust_id\", IntegerType(), False),\n",
    "    StructField(\"salesperson_id\", IntegerType(), False),\n",
    "    StructField(\"amount\", FloatType(), False)\n",
    "])\n",
    "\n",
    "# Define Data for int_orders Table\n",
    "int_orders_data = [\n",
    "    (30, datetime.strptime('1995-07-14', '%Y-%m-%d'), 9, 1, 460.0),\n",
    "    (10, datetime.strptime('1996-08-02', '%Y-%m-%d'), 4, 2, 540.0),\n",
    "    (40, datetime.strptime('1998-01-29', '%Y-%m-%d'), 7, 2, 2400.0),\n",
    "    (50, datetime.strptime('1998-02-03', '%Y-%m-%d'), 6, 7, 600.0),\n",
    "    (60, datetime.strptime('1998-03-02', '%Y-%m-%d'), 6, 7, 720.0),\n",
    "    (70, datetime.strptime('1998-05-06', '%Y-%m-%d'), 9, 7, 150.0),\n",
    "    (20, datetime.strptime('1999-01-30', '%Y-%m-%d'), 4, 8, 1800.0)\n",
    "]\n",
    "\n",
    "# Create int_orders DataFrame\n",
    "int_orders_df = spark.createDataFrame(int_orders_data, schema=int_orders_schema)\n",
    "\n",
    "# Show DataFrame\n",
    "int_orders_df.show()\n",
    "\n",
    "int_orders_df.createOrReplaceTempView(\"Orders\")\n",
    "\n"
   ]
  },
  {
   "cell_type": "code",
   "execution_count": 7,
   "id": "17a3154b-6388-47b0-86ba-85354e1975cf",
   "metadata": {},
   "outputs": [
    {
     "name": "stdout",
     "output_type": "stream",
     "text": [
      "+------------+----------+-------+--------------+------+\n",
      "|order_number|order_date|cust_id|salesperson_id|amount|\n",
      "+------------+----------+-------+--------------+------+\n",
      "|          30|1995-07-14|      9|             1| 460.0|\n",
      "|          40|1998-01-29|      7|             2|2400.0|\n",
      "|          60|1998-03-02|      6|             7| 720.0|\n",
      "|          20|1999-01-30|      4|             8|1800.0|\n",
      "+------------+----------+-------+--------------+------+\n",
      "\n"
     ]
    }
   ],
   "source": [
    "spark.sql(\n",
    "'''\n",
    "    select o1.order_number, o1.order_date, o1.cust_id, o1.salesperson_id, o1.amount from Orders o1 join Orders o2\n",
    "    on o1.salesperson_id = o2.salesperson_id\n",
    "    group by o1.order_number, o1.order_date, o1.cust_id, o1.salesperson_id, o1.amount\n",
    "    having o1.amount >= max(o2.amount)\n",
    "''').show()"
   ]
  },
  {
   "cell_type": "code",
   "execution_count": null,
   "id": "1929c7df-a815-44d3-95fe-cb12623d5afd",
   "metadata": {},
   "outputs": [],
   "source": []
  }
 ],
 "metadata": {
  "kernelspec": {
   "display_name": "Python 3 (ipykernel)",
   "language": "python",
   "name": "python3"
  },
  "language_info": {
   "codemirror_mode": {
    "name": "ipython",
    "version": 3
   },
   "file_extension": ".py",
   "mimetype": "text/x-python",
   "name": "python",
   "nbconvert_exporter": "python",
   "pygments_lexer": "ipython3",
   "version": "3.7.17"
  }
 },
 "nbformat": 4,
 "nbformat_minor": 5
}
