{
 "cells": [
  {
   "cell_type": "code",
   "execution_count": null,
   "id": "7132b66c-9d7b-4563-ac4a-d374d167319e",
   "metadata": {},
   "outputs": [],
   "source": [
    "https://www.youtube.com/watch?v=EjzhMv0E_FE&list=PLBTZqjSKn0IeKBQDjLmzisazhqQy4iGkb&index=7"
   ]
  },
  {
   "cell_type": "code",
   "execution_count": 4,
   "id": "dee22f2d-8099-4265-841f-b0fbdbec772a",
   "metadata": {
    "tags": []
   },
   "outputs": [
    {
     "name": "stdout",
     "output_type": "stream",
     "text": [
      "Trips and Users tables and views created successfully.\n"
     ]
    }
   ],
   "source": [
    "from pyspark.sql import SparkSession\n",
    "from pyspark.sql.types import StructType, StructField, IntegerType, DateType, StringType\n",
    "from pyspark.sql.functions import *\n",
    "from pyspark.sql.window import Window\n",
    "spark = SparkSession.builder.appName(\"PySparkTables\").getOrCreate()\n",
    "\n",
    "# Define schema for Trips table\n",
    "trips_schema = StructType([\n",
    "    StructField(\"id\", IntegerType(), True),\n",
    "    StructField(\"client_id\", IntegerType(), True),\n",
    "    StructField(\"driver_id\", IntegerType(), True),\n",
    "    StructField(\"city_id\", IntegerType(), True),\n",
    "    StructField(\"status\", StringType(), True),\n",
    "    StructField(\"request_at\", StringType(), True)\n",
    "])\n",
    "\n",
    "# Define schema for Users table\n",
    "users_schema = StructType([\n",
    "    StructField(\"users_id\", IntegerType(), True),\n",
    "    StructField(\"banned\", StringType(), True),\n",
    "    StructField(\"role\", StringType(), True)\n",
    "])\n",
    "\n",
    "# Create Trips DataFrame\n",
    "trips_data = [\n",
    "    (1, 1, 10, 1, \"completed\", \"2013-10-01\"),\n",
    "    (2, 2, 11, 1, \"cancelled_by_driver\", \"2013-10-01\"),\n",
    "    (3, 3, 12, 6, \"completed\", \"2013-10-01\"),\n",
    "    (4, 4, 13, 6, \"cancelled_by_client\", \"2013-10-01\"),\n",
    "    (5, 1, 10, 1, \"completed\", \"2013-10-02\"),\n",
    "    (6, 2, 11, 6, \"completed\", \"2013-10-02\"),\n",
    "    (7, 3, 12, 6, \"completed\", \"2013-10-02\"),\n",
    "    (8, 2, 12, 12, \"completed\", \"2013-10-03\"),\n",
    "    (9, 3, 10, 12, \"completed\", \"2013-10-03\"),\n",
    "    (10, 4, 13, 12, \"cancelled_by_driver\", \"2013-10-03\")\n",
    "]\n",
    "\n",
    "trips_df = spark.createDataFrame(trips_data, schema=trips_schema)\n",
    "\n",
    "# Create Users DataFrame\n",
    "users_data = [\n",
    "    (1, \"No\", \"client\"),\n",
    "    (2, \"Yes\", \"client\"),\n",
    "    (3, \"No\", \"client\"),\n",
    "    (4, \"No\", \"client\"),\n",
    "    (10, \"No\", \"driver\"),\n",
    "    (11, \"No\", \"driver\"),\n",
    "    (12, \"No\", \"driver\"),\n",
    "    (13, \"No\", \"driver\")\n",
    "]\n",
    "\n",
    "users_df = spark.createDataFrame(users_data, schema=users_schema)\n",
    "\n",
    "# Create temporary views for SQL queries\n",
    "trips_df.createOrReplaceTempView(\"Trips\")\n",
    "users_df.createOrReplaceTempView(\"Users\")\n",
    "\n",
    "\n",
    "\n",
    "print(\"Trips and Users tables and views created successfully.\")\n"
   ]
  },
  {
   "cell_type": "code",
   "execution_count": 20,
   "id": "0a668f61-6111-42e1-92ce-a216ac72cd7e",
   "metadata": {
    "tags": []
   },
   "outputs": [
    {
     "name": "stdout",
     "output_type": "stream",
     "text": [
      "+----------+--------------------+-----------+\n",
      "|request_at|cancelled_trip_count|total_trips|\n",
      "+----------+--------------------+-----------+\n",
      "|2013-10-03|                   0|          2|\n",
      "|2013-10-01|                   1|          3|\n",
      "|2013-10-02|                   0|          2|\n",
      "+----------+--------------------+-----------+\n",
      "\n"
     ]
    }
   ],
   "source": [
    "spark.sql(\"\"\"\n",
    "    select \n",
    "    request_at, \n",
    "    SUM(case when status in (\"cancelled_by_client\", \"cancelled_by_driver\") then 1 else 0 end) as cancelled_trip_count,\n",
    "    count(1) as total_trips\n",
    "    from Trips t \n",
    "    inner join Users c on t.client_id = c.users_id\n",
    "    inner join Users d on t.driver_id = d.users_id\n",
    "    where c.banned = \"No\" and d.banned = \"No\"\n",
    "    group by request_at\n",
    "\"\"\").show()"
   ]
  },
  {
   "cell_type": "code",
   "execution_count": 25,
   "id": "1d5768f4-d8d4-40de-9130-fc05e3f295f0",
   "metadata": {
    "tags": []
   },
   "outputs": [],
   "source": [
    "cancelled_df = trips_df.alias(\"t\").join(users_df.alias(\"c\"), col(\"t.client_id\") == col(\"c.users_id\"), \"inner\") \\\n",
    "                  .join(users_df.alias(\"d\"), col(\"t.driver_id\") == col(\"d.users_id\"), \"inner\") \\\n",
    "                 .filter((col(\"c.banned\") == \"No\") & (col(\"d.banned\") == \"No\"))"
   ]
  },
  {
   "cell_type": "code",
   "execution_count": 32,
   "id": "1a1c542b-853c-4825-a06b-1ffab558f994",
   "metadata": {
    "tags": []
   },
   "outputs": [
    {
     "name": "stdout",
     "output_type": "stream",
     "text": [
      "+----------+-----+-----------+\n",
      "|request_at|total|total_trips|\n",
      "+----------+-----+-----------+\n",
      "|2013-10-01|    1|          3|\n",
      "|2013-10-02|    0|          2|\n",
      "|2013-10-03|    1|          2|\n",
      "+----------+-----+-----------+\n",
      "\n"
     ]
    }
   ],
   "source": [
    "cancelled_df.groupBy(col(\"request_at\")).agg(\n",
    "        sum(when(col(\"status\").isin([\"cancelled_by_client\", \"cancelled_by_driver\"]), 1).otherwise(0)).alias(\"total\"),\n",
    "        count(\"*\").alias(\"total_trips\")\n",
    ") \\\n",
    ".orderBy(col(\"request_at\")).show()"
   ]
  },
  {
   "cell_type": "code",
   "execution_count": null,
   "id": "7ec802aa-476b-4879-8da3-f8f8017b8286",
   "metadata": {},
   "outputs": [],
   "source": []
  }
 ],
 "metadata": {
  "kernelspec": {
   "display_name": "Python 3 (ipykernel)",
   "language": "python",
   "name": "python3"
  },
  "language_info": {
   "codemirror_mode": {
    "name": "ipython",
    "version": 3
   },
   "file_extension": ".py",
   "mimetype": "text/x-python",
   "name": "python",
   "nbconvert_exporter": "python",
   "pygments_lexer": "ipython3",
   "version": "3.7.17"
  }
 },
 "nbformat": 4,
 "nbformat_minor": 5
}
