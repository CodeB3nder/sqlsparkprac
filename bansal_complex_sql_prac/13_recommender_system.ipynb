{
 "cells": [
  {
   "cell_type": "code",
   "execution_count": 1,
   "id": "230d6a91-3561-48b8-a1e9-ab69e5d17d5e",
   "metadata": {
    "tags": []
   },
   "outputs": [
    {
     "name": "stdout",
     "output_type": "stream",
     "text": [
      "+--------+-----------+----------+\n",
      "|order_id|customer_id|product_id|\n",
      "+--------+-----------+----------+\n",
      "|       1|          1|         1|\n",
      "|       1|          1|         2|\n",
      "|       1|          1|         3|\n",
      "|       2|          2|         1|\n",
      "|       2|          2|         2|\n",
      "|       2|          2|         4|\n",
      "|       3|          1|         5|\n",
      "+--------+-----------+----------+\n",
      "\n",
      "+---+----+\n",
      "| id|name|\n",
      "+---+----+\n",
      "|  1|   A|\n",
      "|  2|   B|\n",
      "|  3|   C|\n",
      "|  4|   D|\n",
      "|  5|   E|\n",
      "+---+----+\n",
      "\n"
     ]
    }
   ],
   "source": [
    "from pyspark.sql import SparkSession\n",
    "from pyspark.sql.types import StructType, StructField, IntegerType, StringType\n",
    "from pyspark.sql.functions import *\n",
    "from pyspark.sql.window import Window\n",
    "spark = SparkSession.builder.appName(\"PySparkTables\").getOrCreate()\n",
    "# Initialize Spark Session\n",
    "spark = SparkSession.builder.appName(\"PySparkTables\").getOrCreate()\n",
    "\n",
    "# Define schema for Orders table\n",
    "orders_schema = StructType([\n",
    "    StructField(\"order_id\", IntegerType(), True),\n",
    "    StructField(\"customer_id\", IntegerType(), True),\n",
    "    StructField(\"product_id\", IntegerType(), True)\n",
    "])\n",
    "\n",
    "# Create Orders DataFrame\n",
    "orders_data = [\n",
    "    (1, 1, 1),\n",
    "    (1, 1, 2),\n",
    "    (1, 1, 3),\n",
    "    (2, 2, 1),\n",
    "    (2, 2, 2),\n",
    "    (2, 2, 4),\n",
    "    (3, 1, 5)\n",
    "]\n",
    "orders_df = spark.createDataFrame(orders_data, schema=orders_schema)\n",
    "\n",
    "# Register as Temp View\n",
    "orders_df.createOrReplaceTempView(\"orders\")\n",
    "\n",
    "# Define schema for Products table\n",
    "products_schema = StructType([\n",
    "    StructField(\"id\", IntegerType(), True),\n",
    "    StructField(\"name\", StringType(), True)\n",
    "])\n",
    "\n",
    "# Create Products DataFrame\n",
    "products_data = [\n",
    "    (1, 'A'),\n",
    "    (2, 'B'),\n",
    "    (3, 'C'),\n",
    "    (4, 'D'),\n",
    "    (5, 'E')\n",
    "]\n",
    "products_df = spark.createDataFrame(products_data, schema=products_schema)\n",
    "\n",
    "# Register as Temp View\n",
    "products_df.createOrReplaceTempView(\"products\")\n",
    "\n",
    "# Verify Tables by Running SQL Queries\n",
    "spark.sql(\"SELECT * FROM orders\").show()\n",
    "spark.sql(\"SELECT * FROM products\").show()\n"
   ]
  },
  {
   "cell_type": "code",
   "execution_count": 2,
   "id": "e6e1875c-3704-4b56-9620-6376526b56dc",
   "metadata": {
    "tags": []
   },
   "outputs": [
    {
     "name": "stdout",
     "output_type": "stream",
     "text": [
      "+------------------+\n",
      "|concat(name, name)|\n",
      "+------------------+\n",
      "|                BC|\n",
      "|                AC|\n",
      "|                AD|\n",
      "|                BD|\n",
      "|                AB|\n",
      "+------------------+\n",
      "\n"
     ]
    }
   ],
   "source": [
    "spark.sql(\"\"\"\n",
    "    select concat(pr1.name, pr2.name)\n",
    "    from orders o1 \n",
    "    inner join orders o2 on o1.order_id = o2.order_id\n",
    "    inner join products pr1 on o1.product_id = pr1.id\n",
    "    inner join products pr2 on o2.product_id = pr2.id\n",
    "    where o1.product_id < o2.product_id\n",
    "    group by pr1.name, pr2.name\n",
    "\"\"\").show()"
   ]
  },
  {
   "cell_type": "code",
   "execution_count": 3,
   "id": "0157a59b-702d-43fc-818a-3e8f046874b1",
   "metadata": {},
   "outputs": [],
   "source": [
    "o1 = orders_df.alias(\"o1\")\n",
    "o2 = orders_df.alias(\"o2\")\n",
    "\n",
    "# Create two aliases for products\n",
    "pr1 = products_df.alias(\"pr1\")\n",
    "pr2 = products_df.alias(\"pr2\")\n",
    "\n",
    "# Perform joins\n",
    "result_df = (\n",
    "    o1.join(o2, col(\"o1.order_id\") == col(\"o2.order_id\"))  # Orders Join\n",
    "    .join(pr1, col(\"o1.product_id\") == col(\"pr1.id\"))  # First Product Join\n",
    "    .join(pr2, col(\"o2.product_id\") == col(\"pr2.id\"))  # Second Product Join\n",
    "    .filter(col(\"o1.product_id\") < col(\"o2.product_id\"))  # Apply filter condition\n",
    "    .select(concat(col(\"pr1.name\"), lit(\" \"), col(\"pr2.name\")).alias(\"combined_names\"))  # Concatenation\n",
    "    .distinct()  # Group by effect (since we select distinct pairs)\n",
    ")\n"
   ]
  },
  {
   "cell_type": "code",
   "execution_count": null,
   "id": "9c082266-c56a-445d-a045-34725f8df3d0",
   "metadata": {},
   "outputs": [],
   "source": []
  }
 ],
 "metadata": {
  "kernelspec": {
   "display_name": "Python 3 (ipykernel)",
   "language": "python",
   "name": "python3"
  },
  "language_info": {
   "codemirror_mode": {
    "name": "ipython",
    "version": 3
   },
   "file_extension": ".py",
   "mimetype": "text/x-python",
   "name": "python",
   "nbconvert_exporter": "python",
   "pygments_lexer": "ipython3",
   "version": "3.7.17"
  }
 },
 "nbformat": 4,
 "nbformat_minor": 5
}
