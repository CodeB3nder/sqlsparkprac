{
 "cells": [
  {
   "cell_type": "code",
   "execution_count": 1,
   "id": "73b43eeb-e13e-47fa-93b8-079a56d47296",
   "metadata": {
    "tags": []
   },
   "outputs": [
    {
     "name": "stdout",
     "output_type": "stream",
     "text": [
      "Spending table and view created successfully.\n"
     ]
    }
   ],
   "source": [
    "from pyspark.sql import SparkSession\n",
    "from pyspark.sql.types import StructType, StructField, IntegerType, StringType, DateType\n",
    "from pyspark.sql.functions import *\n",
    "from pyspark.sql.window import Window\n",
    "spark = SparkSession.builder.appName(\"PySparkTables\").getOrCreate()\n",
    "\n",
    "# Define schema for Spending table\n",
    "spending_schema = StructType([\n",
    "    StructField(\"user_id\", IntegerType(), True),\n",
    "    StructField(\"spend_date\", StringType(), True),\n",
    "    StructField(\"platform\", StringType(), True),\n",
    "    StructField(\"amount\", IntegerType(), True)\n",
    "])\n",
    "\n",
    "# Create Spending DataFrame\n",
    "spending_data = [\n",
    "    (1, \"2019-07-01\", \"mobile\", 100),\n",
    "    (1, \"2019-07-01\", \"desktop\", 100),\n",
    "    (2, \"2019-07-01\", \"mobile\", 100),\n",
    "    (2, \"2019-07-02\", \"mobile\", 100),\n",
    "    (3, \"2019-07-01\", \"desktop\", 100),\n",
    "    (3, \"2019-07-02\", \"desktop\", 100)\n",
    "]\n",
    "\n",
    "spending_df = spark.createDataFrame(spending_data, schema=spending_schema)\n",
    "\n",
    "# Create a temporary view for SQL queries\n",
    "spending_df.createOrReplaceTempView(\"Spending\")\n",
    "\n",
    "print(\"Spending table and view created successfully.\")\n"
   ]
  },
  {
   "cell_type": "code",
   "execution_count": 9,
   "id": "7995c08b-2f51-4f3a-950f-836c9ebb996b",
   "metadata": {
    "tags": []
   },
   "outputs": [
    {
     "name": "stdout",
     "output_type": "stream",
     "text": [
      "+----------+-------+-----------+\n",
      "|spend_date|user_id|sum(amount)|\n",
      "+----------+-------+-----------+\n",
      "|2019-07-01|      3|        100|\n",
      "|2019-07-02|      2|        100|\n",
      "|2019-07-01|      2|        100|\n",
      "|2019-07-02|      3|        100|\n",
      "+----------+-------+-----------+\n",
      "\n"
     ]
    }
   ],
   "source": [
    "spark.sql(\"\"\"\n",
    "    select\n",
    "    spend_date, user_id  ,\n",
    "    sum(amount)\n",
    "    from Spending group by spend_date, user_id\n",
    "    having count(distinct(platform)) = 1\n",
    "\n",
    "    \n",
    "\"\"\").show()"
   ]
  },
  {
   "cell_type": "code",
   "execution_count": null,
   "id": "9490105b-c36d-4a03-9de8-e52fca51919d",
   "metadata": {},
   "outputs": [],
   "source": []
  }
 ],
 "metadata": {
  "kernelspec": {
   "display_name": "Python 3 (ipykernel)",
   "language": "python",
   "name": "python3"
  },
  "language_info": {
   "codemirror_mode": {
    "name": "ipython",
    "version": 3
   },
   "file_extension": ".py",
   "mimetype": "text/x-python",
   "name": "python",
   "nbconvert_exporter": "python",
   "pygments_lexer": "ipython3",
   "version": "3.7.17"
  }
 },
 "nbformat": 4,
 "nbformat_minor": 5
}
