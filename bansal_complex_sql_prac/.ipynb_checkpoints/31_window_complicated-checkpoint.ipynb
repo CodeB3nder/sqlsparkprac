{
 "cells": [
  {
   "cell_type": "code",
   "execution_count": 1,
   "id": "eb83158c-921a-40f0-b894-7fb534b5b508",
   "metadata": {
    "tags": []
   },
   "outputs": [
    {
     "name": "stdout",
     "output_type": "stream",
     "text": [
      "+------+--------+------+----------+-------+------+---------+------+\n",
      "|emp_id|emp_name|salary|manager_id|emp_age|dep_id| dep_name|gender|\n",
      "+------+--------+------+----------+-------+------+---------+------+\n",
      "|     1|   Ankit| 14300|         4|     39|   100|Analytics|Female|\n",
      "|     2|   Mohit| 14000|         5|     48|   200|       IT|  Male|\n",
      "|     3|   Vikas| 12100|         4|     37|   100|Analytics|Female|\n",
      "|     4|   Rohit|  7260|         2|     16|   100|Analytics|Female|\n",
      "|     5|   Mudit| 15000|         6|     55|   200|       IT|  Male|\n",
      "|     6|    Agam| 15600|         2|     14|   200|       IT|  Male|\n",
      "|     7|  Sanjay| 12000|         2|     13|   200|       IT|  Male|\n",
      "|     8|  Ashish|  7200|         2|     12|   200|       IT|  Male|\n",
      "|     9|  Mukesh|  7000|         6|     51|   300|       HR|  Male|\n",
      "|    10|  Rakesh|  8000|         6|     50|   300|       HR|  Male|\n",
      "|    11|   Akhil|  4000|         1|     31|   500|      Ops|  Male|\n",
      "+------+--------+------+----------+-------+------+---------+------+\n",
      "\n"
     ]
    }
   ],
   "source": [
    "from pyspark.sql import SparkSession\n",
    "from pyspark.sql.types import StructType, StructField, IntegerType, StringType\n",
    "from pyspark.sql.functions import *\n",
    "from pyspark.sql.window import Window\n",
    "\n",
    "# Initialize Spark Session\n",
    "spark = SparkSession.builder.appName(\"EmployeeTable\").getOrCreate()\n",
    "\n",
    "# Define Schema\n",
    "emp_schema = StructType([\n",
    "    StructField(\"emp_id\", IntegerType(), True),\n",
    "    StructField(\"emp_name\", StringType(), True),\n",
    "    StructField(\"salary\", IntegerType(), True),\n",
    "    StructField(\"manager_id\", IntegerType(), True),\n",
    "    StructField(\"emp_age\", IntegerType(), True),\n",
    "    StructField(\"dep_id\", IntegerType(), True),\n",
    "    StructField(\"dep_name\", StringType(), True),\n",
    "    StructField(\"gender\", StringType(), True)\n",
    "])\n",
    "\n",
    "# Define Data\n",
    "emp_data = [\n",
    "    (1, 'Ankit', 14300, 4, 39, 100, 'Analytics', 'Female'),\n",
    "    (2, 'Mohit', 14000, 5, 48, 200, 'IT', 'Male'),\n",
    "    (3, 'Vikas', 12100, 4, 37, 100, 'Analytics', 'Female'),\n",
    "    (4, 'Rohit', 7260, 2, 16, 100, 'Analytics', 'Female'),\n",
    "    (5, 'Mudit', 15000, 6, 55, 200, 'IT', 'Male'),\n",
    "    (6, 'Agam', 15600, 2, 14, 200, 'IT', 'Male'),\n",
    "    (7, 'Sanjay', 12000, 2, 13, 200, 'IT', 'Male'),\n",
    "    (8, 'Ashish', 7200, 2, 12, 200, 'IT', 'Male'),\n",
    "    (9, 'Mukesh', 7000, 6, 51, 300, 'HR', 'Male'),\n",
    "    (10, 'Rakesh', 8000, 6, 50, 300, 'HR', 'Male'),\n",
    "    (11, 'Akhil', 4000, 1, 31, 500, 'Ops', 'Male')\n",
    "]\n",
    "\n",
    "# Create DataFrame\n",
    "emp_df = spark.createDataFrame(emp_data, schema=emp_schema)\n",
    "emp_df.createOrReplaceTempView(\"Employees\")\n",
    "\n",
    "# Show DataFrame\n",
    "emp_df.show()\n",
    "from pyspark.sql.functions import *\n",
    "from pyspark.sql.window import Window\n"
   ]
  },
  {
   "cell_type": "code",
   "execution_count": 21,
   "id": "397de1b8-f3e0-46ac-af49-af36cde39179",
   "metadata": {
    "tags": []
   },
   "outputs": [
    {
     "ename": "AnalysisException",
     "evalue": "unresolved operator 'Filter ('rn < 3);\n'WithCTE\n:- CTERelationDef 21, false\n:  +- SubqueryAlias cte\n:     +- Project [emp_id#0, emp_name#1, salary#2, manager_id#3, emp_age#4, dep_id#5, dep_name#6, gender#7, dr#742, rn#743]\n:        +- Filter (dr#742 = 3)\n:           +- SubqueryAlias p\n:              +- Project [emp_id#0, emp_name#1, salary#2, manager_id#3, emp_age#4, dep_id#5, dep_name#6, gender#7, dr#742, rn#743]\n:                 +- Project [emp_id#0, emp_name#1, salary#2, manager_id#3, emp_age#4, dep_id#5, dep_name#6, gender#7, dr#742, rn#743, dr#742, rn#743]\n:                    +- Window [row_number() windowspecdefinition(dep_name#6, dep_id#5 ASC NULLS FIRST, specifiedwindowframe(RowFrame, unboundedpreceding$(), currentrow$())) AS rn#743], [dep_name#6], [dep_id#5 ASC NULLS FIRST]\n:                       +- Window [dense_rank(salary#2) windowspecdefinition(dep_name#6, salary#2 DESC NULLS LAST, specifiedwindowframe(RowFrame, unboundedpreceding$(), currentrow$())) AS dr#742], [dep_name#6], [salary#2 DESC NULLS LAST]\n:                          +- Project [emp_id#0, emp_name#1, salary#2, manager_id#3, emp_age#4, dep_id#5, dep_name#6, gender#7]\n:                             +- SubqueryAlias employees\n:                                +- View (`Employees`, [emp_id#0,emp_name#1,salary#2,manager_id#3,emp_age#4,dep_id#5,dep_name#6,gender#7])\n:                                   +- LogicalRDD [emp_id#0, emp_name#1, salary#2, manager_id#3, emp_age#4, dep_id#5, dep_name#6, gender#7], false\n:- 'CTERelationDef 22, false\n:  +- 'SubqueryAlias cte2\n:     +- 'Project [unresolvedalias('min('salary) windowspecdefinition('dep_name, 'salary ASC NULLS FIRST, unspecifiedframe$()), None)]\n:        +- 'Filter ('rn < 3)\n:           +- SubqueryAlias employees\n:              +- View (`Employees`, [emp_id#744,emp_name#745,salary#746,manager_id#747,emp_age#748,dep_id#749,dep_name#750,gender#751])\n:                 +- LogicalRDD [emp_id#744, emp_name#745, salary#746, manager_id#747, emp_age#748, dep_id#749, dep_name#750, gender#751], false\n+- Project [emp_id#0, emp_name#1, salary#2, manager_id#3, emp_age#4, dep_id#5, dep_name#6, gender#7, dr#742, rn#743]\n   +- SubqueryAlias cte\n      +- CTERelationRef 21, true, [emp_id#0, emp_name#1, salary#2, manager_id#3, emp_age#4, dep_id#5, dep_name#6, gender#7, dr#742, rn#743]\n",
     "output_type": "error",
     "traceback": [
      "\u001b[0;31m---------------------------------------------------------------------------\u001b[0m",
      "\u001b[0;31mAnalysisException\u001b[0m                         Traceback (most recent call last)",
      "\u001b[0;32m/tmp/ipykernel_1207/407305094.py\u001b[0m in \u001b[0;36m<module>\u001b[0;34m\u001b[0m\n\u001b[1;32m      7\u001b[0m \u001b[0;34m\u001b[0m\u001b[0m\n\u001b[1;32m      8\u001b[0m \u001b[0mselect\u001b[0m \u001b[0;34m*\u001b[0m \u001b[0;32mfrom\u001b[0m \u001b[0mcte\u001b[0m\u001b[0;34m\u001b[0m\u001b[0;34m\u001b[0m\u001b[0m\n\u001b[0;32m----> 9\u001b[0;31m \"\"\"\n\u001b[0m\u001b[1;32m     10\u001b[0m ).show()\n",
      "\u001b[0;32m/spark/python/pyspark/sql/session.py\u001b[0m in \u001b[0;36msql\u001b[0;34m(self, sqlQuery, **kwargs)\u001b[0m\n\u001b[1;32m   1032\u001b[0m             \u001b[0msqlQuery\u001b[0m \u001b[0;34m=\u001b[0m \u001b[0mformatter\u001b[0m\u001b[0;34m.\u001b[0m\u001b[0mformat\u001b[0m\u001b[0;34m(\u001b[0m\u001b[0msqlQuery\u001b[0m\u001b[0;34m,\u001b[0m \u001b[0;34m**\u001b[0m\u001b[0mkwargs\u001b[0m\u001b[0;34m)\u001b[0m\u001b[0;34m\u001b[0m\u001b[0;34m\u001b[0m\u001b[0m\n\u001b[1;32m   1033\u001b[0m         \u001b[0;32mtry\u001b[0m\u001b[0;34m:\u001b[0m\u001b[0;34m\u001b[0m\u001b[0;34m\u001b[0m\u001b[0m\n\u001b[0;32m-> 1034\u001b[0;31m             \u001b[0;32mreturn\u001b[0m \u001b[0mDataFrame\u001b[0m\u001b[0;34m(\u001b[0m\u001b[0mself\u001b[0m\u001b[0;34m.\u001b[0m\u001b[0m_jsparkSession\u001b[0m\u001b[0;34m.\u001b[0m\u001b[0msql\u001b[0m\u001b[0;34m(\u001b[0m\u001b[0msqlQuery\u001b[0m\u001b[0;34m)\u001b[0m\u001b[0;34m,\u001b[0m \u001b[0mself\u001b[0m\u001b[0;34m)\u001b[0m\u001b[0;34m\u001b[0m\u001b[0;34m\u001b[0m\u001b[0m\n\u001b[0m\u001b[1;32m   1035\u001b[0m         \u001b[0;32mfinally\u001b[0m\u001b[0;34m:\u001b[0m\u001b[0;34m\u001b[0m\u001b[0;34m\u001b[0m\u001b[0m\n\u001b[1;32m   1036\u001b[0m             \u001b[0;32mif\u001b[0m \u001b[0mlen\u001b[0m\u001b[0;34m(\u001b[0m\u001b[0mkwargs\u001b[0m\u001b[0;34m)\u001b[0m \u001b[0;34m>\u001b[0m \u001b[0;36m0\u001b[0m\u001b[0;34m:\u001b[0m\u001b[0;34m\u001b[0m\u001b[0;34m\u001b[0m\u001b[0m\n",
      "\u001b[0;32m/spark/python/lib/py4j-0.10.9.5-src.zip/py4j/java_gateway.py\u001b[0m in \u001b[0;36m__call__\u001b[0;34m(self, *args)\u001b[0m\n\u001b[1;32m   1320\u001b[0m         \u001b[0manswer\u001b[0m \u001b[0;34m=\u001b[0m \u001b[0mself\u001b[0m\u001b[0;34m.\u001b[0m\u001b[0mgateway_client\u001b[0m\u001b[0;34m.\u001b[0m\u001b[0msend_command\u001b[0m\u001b[0;34m(\u001b[0m\u001b[0mcommand\u001b[0m\u001b[0;34m)\u001b[0m\u001b[0;34m\u001b[0m\u001b[0;34m\u001b[0m\u001b[0m\n\u001b[1;32m   1321\u001b[0m         return_value = get_return_value(\n\u001b[0;32m-> 1322\u001b[0;31m             answer, self.gateway_client, self.target_id, self.name)\n\u001b[0m\u001b[1;32m   1323\u001b[0m \u001b[0;34m\u001b[0m\u001b[0m\n\u001b[1;32m   1324\u001b[0m         \u001b[0;32mfor\u001b[0m \u001b[0mtemp_arg\u001b[0m \u001b[0;32min\u001b[0m \u001b[0mtemp_args\u001b[0m\u001b[0;34m:\u001b[0m\u001b[0;34m\u001b[0m\u001b[0;34m\u001b[0m\u001b[0m\n",
      "\u001b[0;32m/spark/python/pyspark/sql/utils.py\u001b[0m in \u001b[0;36mdeco\u001b[0;34m(*a, **kw)\u001b[0m\n\u001b[1;32m    194\u001b[0m                 \u001b[0;31m# Hide where the exception came from that shows a non-Pythonic\u001b[0m\u001b[0;34m\u001b[0m\u001b[0;34m\u001b[0m\u001b[0;34m\u001b[0m\u001b[0m\n\u001b[1;32m    195\u001b[0m                 \u001b[0;31m# JVM exception message.\u001b[0m\u001b[0;34m\u001b[0m\u001b[0;34m\u001b[0m\u001b[0;34m\u001b[0m\u001b[0m\n\u001b[0;32m--> 196\u001b[0;31m                 \u001b[0;32mraise\u001b[0m \u001b[0mconverted\u001b[0m \u001b[0;32mfrom\u001b[0m \u001b[0;32mNone\u001b[0m\u001b[0;34m\u001b[0m\u001b[0;34m\u001b[0m\u001b[0m\n\u001b[0m\u001b[1;32m    197\u001b[0m             \u001b[0;32melse\u001b[0m\u001b[0;34m:\u001b[0m\u001b[0;34m\u001b[0m\u001b[0;34m\u001b[0m\u001b[0m\n\u001b[1;32m    198\u001b[0m                 \u001b[0;32mraise\u001b[0m\u001b[0;34m\u001b[0m\u001b[0;34m\u001b[0m\u001b[0m\n",
      "\u001b[0;31mAnalysisException\u001b[0m: unresolved operator 'Filter ('rn < 3);\n'WithCTE\n:- CTERelationDef 21, false\n:  +- SubqueryAlias cte\n:     +- Project [emp_id#0, emp_name#1, salary#2, manager_id#3, emp_age#4, dep_id#5, dep_name#6, gender#7, dr#742, rn#743]\n:        +- Filter (dr#742 = 3)\n:           +- SubqueryAlias p\n:              +- Project [emp_id#0, emp_name#1, salary#2, manager_id#3, emp_age#4, dep_id#5, dep_name#6, gender#7, dr#742, rn#743]\n:                 +- Project [emp_id#0, emp_name#1, salary#2, manager_id#3, emp_age#4, dep_id#5, dep_name#6, gender#7, dr#742, rn#743, dr#742, rn#743]\n:                    +- Window [row_number() windowspecdefinition(dep_name#6, dep_id#5 ASC NULLS FIRST, specifiedwindowframe(RowFrame, unboundedpreceding$(), currentrow$())) AS rn#743], [dep_name#6], [dep_id#5 ASC NULLS FIRST]\n:                       +- Window [dense_rank(salary#2) windowspecdefinition(dep_name#6, salary#2 DESC NULLS LAST, specifiedwindowframe(RowFrame, unboundedpreceding$(), currentrow$())) AS dr#742], [dep_name#6], [salary#2 DESC NULLS LAST]\n:                          +- Project [emp_id#0, emp_name#1, salary#2, manager_id#3, emp_age#4, dep_id#5, dep_name#6, gender#7]\n:                             +- SubqueryAlias employees\n:                                +- View (`Employees`, [emp_id#0,emp_name#1,salary#2,manager_id#3,emp_age#4,dep_id#5,dep_name#6,gender#7])\n:                                   +- LogicalRDD [emp_id#0, emp_name#1, salary#2, manager_id#3, emp_age#4, dep_id#5, dep_name#6, gender#7], false\n:- 'CTERelationDef 22, false\n:  +- 'SubqueryAlias cte2\n:     +- 'Project [unresolvedalias('min('salary) windowspecdefinition('dep_name, 'salary ASC NULLS FIRST, unspecifiedframe$()), None)]\n:        +- 'Filter ('rn < 3)\n:           +- SubqueryAlias employees\n:              +- View (`Employees`, [emp_id#744,emp_name#745,salary#746,manager_id#747,emp_age#748,dep_id#749,dep_name#750,gender#751])\n:                 +- LogicalRDD [emp_id#744, emp_name#745, salary#746, manager_id#747, emp_age#748, dep_id#749, dep_name#750, gender#751], false\n+- Project [emp_id#0, emp_name#1, salary#2, manager_id#3, emp_age#4, dep_id#5, dep_name#6, gender#7, dr#742, rn#743]\n   +- SubqueryAlias cte\n      +- CTERelationRef 21, true, [emp_id#0, emp_name#1, salary#2, manager_id#3, emp_age#4, dep_id#5, dep_name#6, gender#7, dr#742, rn#743]\n"
     ]
    }
   ],
   "source": [
    "spark.sql(\"\"\"\n",
    "with cte as (select * from\n",
    "(select *,dense_rank() over (partition by dep_name order by salary desc) dr,\n",
    "row_number() over (partition by dep_name order by dep_id) rn from Employees) p\n",
    "where dr = 3), \n",
    "cte2 as (select min(salary) over (partition by dep_name order by salary) from Employees where rn<3)\n",
    "\n",
    "select * from cte\n",
    "\"\"\"\n",
    ").show()"
   ]
  },
  {
   "cell_type": "code",
   "execution_count": null,
   "id": "86b4e4b2-4933-42b0-a0d7-874fe9c15c6b",
   "metadata": {},
   "outputs": [],
   "source": []
  }
 ],
 "metadata": {
  "kernelspec": {
   "display_name": "Python 3 (ipykernel)",
   "language": "python",
   "name": "python3"
  },
  "language_info": {
   "codemirror_mode": {
    "name": "ipython",
    "version": 3
   },
   "file_extension": ".py",
   "mimetype": "text/x-python",
   "name": "python",
   "nbconvert_exporter": "python",
   "pygments_lexer": "ipython3",
   "version": "3.7.17"
  }
 },
 "nbformat": 4,
 "nbformat_minor": 5
}
