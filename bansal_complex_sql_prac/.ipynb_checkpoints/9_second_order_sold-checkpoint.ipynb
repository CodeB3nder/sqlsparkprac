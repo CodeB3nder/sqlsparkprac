{
 "cells": [
  {
   "cell_type": "code",
   "execution_count": 1,
   "id": "1628e024-0d5c-4d47-a20c-b1ed75af9d24",
   "metadata": {
    "tags": []
   },
   "outputs": [
    {
     "name": "stdout",
     "output_type": "stream",
     "text": [
      "Users, Items, and Orders tables and views created successfully.\n"
     ]
    }
   ],
   "source": [
    "from pyspark.sql import SparkSession\n",
    "from pyspark.sql.types import StructType, StructField, IntegerType, StringType, DateType\n",
    "\n",
    "# Initialize Spark session\n",
    "spark = SparkSession.builder.appName(\"EcommerceData\").getOrCreate()\n",
    "\n",
    "# Define schema for Users table\n",
    "users_schema = StructType([\n",
    "    StructField(\"user_id\", IntegerType(), True),\n",
    "    StructField(\"join_date\", StringType(), True),\n",
    "    StructField(\"favorite_brand\", StringType(), True)\n",
    "])\n",
    "\n",
    "# Define schema for Items table\n",
    "items_schema = StructType([\n",
    "    StructField(\"item_id\", IntegerType(), True),\n",
    "    StructField(\"item_brand\", StringType(), True)\n",
    "])\n",
    "\n",
    "# Define schema for Orders table\n",
    "orders_schema = StructType([\n",
    "    StructField(\"order_id\", IntegerType(), True),\n",
    "    StructField(\"order_date\", StringType(), True),\n",
    "    StructField(\"item_id\", IntegerType(), True),\n",
    "    StructField(\"buyer_id\", IntegerType(), True),\n",
    "    StructField(\"seller_id\", IntegerType(), True)\n",
    "])\n",
    "\n",
    "# Create Users DataFrame\n",
    "users_data = [\n",
    "    (1, \"2019-01-01\", \"Lenovo\"),\n",
    "    (2, \"2019-02-09\", \"Samsung\"),\n",
    "    (3, \"2019-01-19\", \"LG\"),\n",
    "    (4, \"2019-05-21\", \"HP\")\n",
    "]\n",
    "\n",
    "users_df = spark.createDataFrame(users_data, schema=users_schema)\n",
    "\n",
    "# Create Items DataFrame\n",
    "items_data = [\n",
    "    (1, \"Samsung\"),\n",
    "    (2, \"Lenovo\"),\n",
    "    (3, \"LG\"),\n",
    "    (4, \"HP\")\n",
    "]\n",
    "\n",
    "items_df = spark.createDataFrame(items_data, schema=items_schema)\n",
    "\n",
    "# Create Orders DataFrame\n",
    "orders_data = [\n",
    "    (1, \"2019-08-01\", 4, 1, 2),\n",
    "    (2, \"2019-08-02\", 2, 1, 3),\n",
    "    (3, \"2019-08-03\", 3, 2, 3),\n",
    "    (4, \"2019-08-04\", 1, 4, 2),\n",
    "    (5, \"2019-08-04\", 1, 3, 4),\n",
    "    (6, \"2019-08-05\", 2, 2, 4)\n",
    "]\n",
    "\n",
    "orders_df = spark.createDataFrame(orders_data, schema=orders_schema)\n",
    "\n",
    "# Create temporary views for SQL queries\n",
    "users_df.createOrReplaceTempView(\"Users\")\n",
    "items_df.createOrReplaceTempView(\"Items\")\n",
    "orders_df.createOrReplaceTempView(\"Orders\")\n",
    "\n",
    "\n",
    "print(\"Users, Items, and Orders tables and views created successfully.\")\n"
   ]
  },
  {
   "cell_type": "code",
   "execution_count": 27,
   "id": "e57585ba-388d-46ee-b77e-63ac9a2b318c",
   "metadata": {
    "tags": []
   },
   "outputs": [
    {
     "name": "stdout",
     "output_type": "stream",
     "text": [
      "+-------+---------+--------+----------+--------------+---------------+\n",
      "|user_id|seller_id|buyer_id|item_brand|favorite_brand|2nditemfavbrand|\n",
      "+-------+---------+--------+----------+--------------+---------------+\n",
      "|      1|     null|    null|      null|        Lenovo|             no|\n",
      "|      2|        2|       4|   Samsung|       Samsung|            yes|\n",
      "|      3|        3|       2|        LG|            LG|            yes|\n",
      "|      4|        4|       2|    Lenovo|            HP|             no|\n",
      "+-------+---------+--------+----------+--------------+---------------+\n",
      "\n"
     ]
    }
   ],
   "source": [
    "spark.sql(\"\"\"\n",
    "    with second_orders as (\n",
    "    select * from (\n",
    "    select *,\n",
    "    rank() over(partition by seller_id order by order_date asc) as rn\n",
    "    from Orders) where rn = 2)\n",
    "    \n",
    "    select u.user_id, o.seller_id, o.buyer_id, i.item_brand, u.favorite_brand,\n",
    "    case when i.item_brand = u.favorite_brand then 'yes' else 'no' end as 2nditemfavbrand\n",
    "\n",
    "    from second_orders o \n",
    "    left join items i on i.item_id = o.item_id\n",
    "    right join users u on u.user_id = o.seller_id\n",
    "\"\"\").show()"
   ]
  },
  {
   "cell_type": "code",
   "execution_count": 29,
   "id": "8c1fd467-b772-403e-8690-8adcebea693e",
   "metadata": {
    "tags": []
   },
   "outputs": [],
   "source": [
    "from pyspark.sql.functions import *\n",
    "from pyspark.sql.window import Window"
   ]
  },
  {
   "cell_type": "code",
   "execution_count": 37,
   "id": "4ef5df2f-357a-47bd-9fea-2087772de3ee",
   "metadata": {
    "tags": []
   },
   "outputs": [],
   "source": [
    "rank_df = orders_df.select(\"*\",\n",
    "    rank().over(Window.partitionBy(col(\"seller_id\")).orderBy(col(\"order_date\").asc())).alias(\"rn\")\n",
    ").filter(col(\"rn\") == 2)"
   ]
  },
  {
   "cell_type": "code",
   "execution_count": 40,
   "id": "50175660-9185-46b5-87b0-c4e1e7e7d9f3",
   "metadata": {
    "tags": []
   },
   "outputs": [
    {
     "ename": "AnalysisException",
     "evalue": "Reference 'o.seller_id' is ambiguous, could be: o.seller_id, o.seller_id.",
     "output_type": "error",
     "traceback": [
      "\u001b[0;31m---------------------------------------------------------------------------\u001b[0m",
      "\u001b[0;31mAnalysisException\u001b[0m                         Traceback (most recent call last)",
      "\u001b[0;32m/tmp/ipykernel_117/3906641398.py\u001b[0m in \u001b[0;36m<module>\u001b[0;34m\u001b[0m\n\u001b[1;32m      1\u001b[0m result_df = (\n\u001b[1;32m      2\u001b[0m     \u001b[0mrank_df\u001b[0m\u001b[0;34m.\u001b[0m\u001b[0malias\u001b[0m\u001b[0;34m(\u001b[0m\u001b[0;34m\"o\"\u001b[0m\u001b[0;34m)\u001b[0m\u001b[0;34m\u001b[0m\u001b[0;34m\u001b[0m\u001b[0m\n\u001b[0;32m----> 3\u001b[0;31m     \u001b[0;34m.\u001b[0m\u001b[0mjoin\u001b[0m\u001b[0;34m(\u001b[0m\u001b[0morders_df\u001b[0m\u001b[0;34m.\u001b[0m\u001b[0malias\u001b[0m\u001b[0;34m(\u001b[0m\u001b[0;34m\"o\"\u001b[0m\u001b[0;34m)\u001b[0m\u001b[0;34m,\u001b[0m \u001b[0mcol\u001b[0m\u001b[0;34m(\u001b[0m\u001b[0;34m\"u.user_id\"\u001b[0m\u001b[0;34m)\u001b[0m \u001b[0;34m==\u001b[0m \u001b[0mcol\u001b[0m\u001b[0;34m(\u001b[0m\u001b[0;34m\"o.seller_id\"\u001b[0m\u001b[0;34m)\u001b[0m\u001b[0;34m,\u001b[0m \u001b[0;34m\"right\"\u001b[0m\u001b[0;34m)\u001b[0m  \u001b[0;31m# Right Join\u001b[0m\u001b[0;34m\u001b[0m\u001b[0;34m\u001b[0m\u001b[0m\n\u001b[0m\u001b[1;32m      4\u001b[0m     \u001b[0;34m.\u001b[0m\u001b[0mjoin\u001b[0m\u001b[0;34m(\u001b[0m\u001b[0mitems_df\u001b[0m\u001b[0;34m.\u001b[0m\u001b[0malias\u001b[0m\u001b[0;34m(\u001b[0m\u001b[0;34m\"i\"\u001b[0m\u001b[0;34m)\u001b[0m\u001b[0;34m,\u001b[0m \u001b[0mcol\u001b[0m\u001b[0;34m(\u001b[0m\u001b[0;34m\"o.item_id\"\u001b[0m\u001b[0;34m)\u001b[0m \u001b[0;34m==\u001b[0m \u001b[0mcol\u001b[0m\u001b[0;34m(\u001b[0m\u001b[0;34m\"i.item_id\"\u001b[0m\u001b[0;34m)\u001b[0m\u001b[0;34m,\u001b[0m \u001b[0;34m\"left\"\u001b[0m\u001b[0;34m)\u001b[0m  \u001b[0;31m# Left Join\u001b[0m\u001b[0;34m\u001b[0m\u001b[0;34m\u001b[0m\u001b[0m\n\u001b[1;32m      5\u001b[0m     .select(\n",
      "\u001b[0;32m/spark/python/pyspark/sql/dataframe.py\u001b[0m in \u001b[0;36mjoin\u001b[0;34m(self, other, on, how)\u001b[0m\n\u001b[1;32m   1537\u001b[0m                 \u001b[0mon\u001b[0m \u001b[0;34m=\u001b[0m \u001b[0mself\u001b[0m\u001b[0;34m.\u001b[0m\u001b[0m_jseq\u001b[0m\u001b[0;34m(\u001b[0m\u001b[0;34m[\u001b[0m\u001b[0;34m]\u001b[0m\u001b[0;34m)\u001b[0m\u001b[0;34m\u001b[0m\u001b[0;34m\u001b[0m\u001b[0m\n\u001b[1;32m   1538\u001b[0m             \u001b[0;32massert\u001b[0m \u001b[0misinstance\u001b[0m\u001b[0;34m(\u001b[0m\u001b[0mhow\u001b[0m\u001b[0;34m,\u001b[0m \u001b[0mstr\u001b[0m\u001b[0;34m)\u001b[0m\u001b[0;34m,\u001b[0m \u001b[0;34m\"how should be a string\"\u001b[0m\u001b[0;34m\u001b[0m\u001b[0;34m\u001b[0m\u001b[0m\n\u001b[0;32m-> 1539\u001b[0;31m             \u001b[0mjdf\u001b[0m \u001b[0;34m=\u001b[0m \u001b[0mself\u001b[0m\u001b[0;34m.\u001b[0m\u001b[0m_jdf\u001b[0m\u001b[0;34m.\u001b[0m\u001b[0mjoin\u001b[0m\u001b[0;34m(\u001b[0m\u001b[0mother\u001b[0m\u001b[0;34m.\u001b[0m\u001b[0m_jdf\u001b[0m\u001b[0;34m,\u001b[0m \u001b[0mon\u001b[0m\u001b[0;34m,\u001b[0m \u001b[0mhow\u001b[0m\u001b[0;34m)\u001b[0m\u001b[0;34m\u001b[0m\u001b[0;34m\u001b[0m\u001b[0m\n\u001b[0m\u001b[1;32m   1540\u001b[0m         \u001b[0;32mreturn\u001b[0m \u001b[0mDataFrame\u001b[0m\u001b[0;34m(\u001b[0m\u001b[0mjdf\u001b[0m\u001b[0;34m,\u001b[0m \u001b[0mself\u001b[0m\u001b[0;34m.\u001b[0m\u001b[0msparkSession\u001b[0m\u001b[0;34m)\u001b[0m\u001b[0;34m\u001b[0m\u001b[0;34m\u001b[0m\u001b[0m\n\u001b[1;32m   1541\u001b[0m \u001b[0;34m\u001b[0m\u001b[0m\n",
      "\u001b[0;32m/spark/python/lib/py4j-0.10.9.5-src.zip/py4j/java_gateway.py\u001b[0m in \u001b[0;36m__call__\u001b[0;34m(self, *args)\u001b[0m\n\u001b[1;32m   1320\u001b[0m         \u001b[0manswer\u001b[0m \u001b[0;34m=\u001b[0m \u001b[0mself\u001b[0m\u001b[0;34m.\u001b[0m\u001b[0mgateway_client\u001b[0m\u001b[0;34m.\u001b[0m\u001b[0msend_command\u001b[0m\u001b[0;34m(\u001b[0m\u001b[0mcommand\u001b[0m\u001b[0;34m)\u001b[0m\u001b[0;34m\u001b[0m\u001b[0;34m\u001b[0m\u001b[0m\n\u001b[1;32m   1321\u001b[0m         return_value = get_return_value(\n\u001b[0;32m-> 1322\u001b[0;31m             answer, self.gateway_client, self.target_id, self.name)\n\u001b[0m\u001b[1;32m   1323\u001b[0m \u001b[0;34m\u001b[0m\u001b[0m\n\u001b[1;32m   1324\u001b[0m         \u001b[0;32mfor\u001b[0m \u001b[0mtemp_arg\u001b[0m \u001b[0;32min\u001b[0m \u001b[0mtemp_args\u001b[0m\u001b[0;34m:\u001b[0m\u001b[0;34m\u001b[0m\u001b[0;34m\u001b[0m\u001b[0m\n",
      "\u001b[0;32m/spark/python/pyspark/sql/utils.py\u001b[0m in \u001b[0;36mdeco\u001b[0;34m(*a, **kw)\u001b[0m\n\u001b[1;32m    194\u001b[0m                 \u001b[0;31m# Hide where the exception came from that shows a non-Pythonic\u001b[0m\u001b[0;34m\u001b[0m\u001b[0;34m\u001b[0m\u001b[0;34m\u001b[0m\u001b[0m\n\u001b[1;32m    195\u001b[0m                 \u001b[0;31m# JVM exception message.\u001b[0m\u001b[0;34m\u001b[0m\u001b[0;34m\u001b[0m\u001b[0;34m\u001b[0m\u001b[0m\n\u001b[0;32m--> 196\u001b[0;31m                 \u001b[0;32mraise\u001b[0m \u001b[0mconverted\u001b[0m \u001b[0;32mfrom\u001b[0m \u001b[0;32mNone\u001b[0m\u001b[0;34m\u001b[0m\u001b[0;34m\u001b[0m\u001b[0m\n\u001b[0m\u001b[1;32m    197\u001b[0m             \u001b[0;32melse\u001b[0m\u001b[0;34m:\u001b[0m\u001b[0;34m\u001b[0m\u001b[0;34m\u001b[0m\u001b[0m\n\u001b[1;32m    198\u001b[0m                 \u001b[0;32mraise\u001b[0m\u001b[0;34m\u001b[0m\u001b[0;34m\u001b[0m\u001b[0m\n",
      "\u001b[0;31mAnalysisException\u001b[0m: Reference 'o.seller_id' is ambiguous, could be: o.seller_id, o.seller_id."
     ]
    }
   ],
   "source": [
    "result_df = (\n",
    "    rank_df.alias(\"o\")\n",
    "    .join(orders_df.alias(\"o\"), col(\"u.user_id\") == col(\"o.seller_id\"), \"right\")  # Right Join\n",
    "    .join(items_df.alias(\"i\"), col(\"o.item_id\") == col(\"i.item_id\"), \"left\")  # Left Join\n",
    "    .select(\n",
    "        col(\"u.user_id\"),\n",
    "        col(\"o.seller_id\"),\n",
    "        col(\"o.buyer_id\"),\n",
    "        col(\"i.item_brand\"),\n",
    "        col(\"u.favorite_brand\"),\n",
    "        when(col(\"i.item_brand\") == col(\"u.favorite_brand\"), \"yes\").otherwise(\"no\").alias(\"2nditemfavbrand\")\n",
    "    )\n",
    ")"
   ]
  },
  {
   "cell_type": "code",
   "execution_count": null,
   "id": "02e438d1-cee3-4e32-b2ac-4b884ca2e781",
   "metadata": {},
   "outputs": [],
   "source": []
  }
 ],
 "metadata": {
  "kernelspec": {
   "display_name": "Python 3 (ipykernel)",
   "language": "python",
   "name": "python3"
  },
  "language_info": {
   "codemirror_mode": {
    "name": "ipython",
    "version": 3
   },
   "file_extension": ".py",
   "mimetype": "text/x-python",
   "name": "python",
   "nbconvert_exporter": "python",
   "pygments_lexer": "ipython3",
   "version": "3.7.17"
  }
 },
 "nbformat": 4,
 "nbformat_minor": 5
}
