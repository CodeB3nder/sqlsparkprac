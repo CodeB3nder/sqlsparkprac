{
 "cells": [
  {
   "cell_type": "code",
   "execution_count": 1,
   "id": "9738e5ef-a646-4800-a0ad-b34a76c03f0e",
   "metadata": {
    "tags": []
   },
   "outputs": [],
   "source": [
    "from pyspark.sql import SparkSession\n",
    "from pyspark.sql.functions import col, max, when\n",
    "from pyspark.sql.window import Window\n",
    "from datetime import datetime\n",
    "\n",
    "# Initialize Spark Session\n",
    "spark = SparkSession.builder.appName(\"BillingCalculation\").getOrCreate()\n",
    "\n",
    "# Sample Data\n",
    "billings_data = [\n",
    "    ('Sachin', '1990-01-01', 25),\n",
    "    ('Sehwag', '1989-01-01', 15),\n",
    "    ('Dhoni', '1989-01-01', 20),\n",
    "    ('Sachin', '1991-02-05', 30),\n",
    "]\n",
    "\n",
    "hours_worked_data = [\n",
    "    ('Sachin', '1990-07-01', 3),\n",
    "    ('Sachin', '1990-08-01', 5),\n",
    "    ('Sehwag', '1990-07-01', 2),\n",
    "    ('Sachin', '1991-07-01', 4),\n",
    "]\n",
    "\n",
    "# Convert String Date to DateType\n",
    "billings_data = [(emp, datetime.strptime(date, \"%Y-%m-%d\").date(), rate) for emp, date, rate in billings_data]\n",
    "hours_worked_data = [(emp, datetime.strptime(date, \"%Y-%m-%d\").date(), hours) for emp, date, hours in hours_worked_data]\n",
    "\n",
    "# Define Schema & Create DataFrames\n",
    "from pyspark.sql.types import StructType, StructField, StringType, IntegerType, DateType\n",
    "\n",
    "billings_schema = StructType([\n",
    "    StructField(\"emp_name\", StringType(), True),\n",
    "    StructField(\"bill_date\", DateType(), True),\n",
    "    StructField(\"bill_rate\", IntegerType(), True)\n",
    "])\n",
    "\n",
    "hours_schema = StructType([\n",
    "    StructField(\"emp_name\", StringType(), True),\n",
    "    StructField(\"work_date\", DateType(), True),\n",
    "    StructField(\"bill_hrs\", IntegerType(), True)\n",
    "])\n",
    "\n",
    "billings_df = spark.createDataFrame(billings_data, schema=billings_schema)\n",
    "hours_df = spark.createDataFrame(hours_worked_data, schema=hours_schema)\n",
    "\n",
    "billings_df.createOrReplaceTempView(\"Billings\")\n",
    "hours_df.createOrReplaceTempView(\"Hours\")\n",
    "\n",
    "# # Perform Join and Find the Latest Bill Rate Before Work Date\n",
    "# window_spec = Window.partitionBy(\"emp_name\").orderBy(col(\"bill_date\").desc())\n",
    "\n",
    "# billings_df = billings_df.withColumn(\"latest_bill_rate\", max(\"bill_rate\").over(window_spec))\n",
    "\n",
    "# # Join to Get Billing Rate Before Work Date\n",
    "# joined_df = hours_df.join(billings_df, \"emp_name\")\\\n",
    "#     .filter(col(\"bill_date\") <= col(\"work_date\"))\\\n",
    "#     .withColumn(\"latest_rate\", max(\"bill_rate\").over(Window.partitionBy(\"emp_name\", \"work_date\").orderBy(col(\"bill_date\").desc())))\\\n",
    "#     .select(\"emp_name\", \"work_date\", \"bill_hrs\", \"latest_rate\")\n",
    "\n",
    "# # Calculate Billing Amount\n",
    "# final_df = joined_df.withColumn(\"bill_amount\", col(\"bill_hrs\") * col(\"latest_rate\"))\n",
    "\n",
    "# # Show Result\n",
    "# final_df.show()\n"
   ]
  },
  {
   "cell_type": "code",
   "execution_count": null,
   "id": "75fb907c-0877-43b5-859e-dd38c9ff2d70",
   "metadata": {},
   "outputs": [],
   "source": []
  }
 ],
 "metadata": {
  "kernelspec": {
   "display_name": "Python 3 (ipykernel)",
   "language": "python",
   "name": "python3"
  },
  "language_info": {
   "codemirror_mode": {
    "name": "ipython",
    "version": 3
   },
   "file_extension": ".py",
   "mimetype": "text/x-python",
   "name": "python",
   "nbconvert_exporter": "python",
   "pygments_lexer": "ipython3",
   "version": "3.7.17"
  }
 },
 "nbformat": 4,
 "nbformat_minor": 5
}
