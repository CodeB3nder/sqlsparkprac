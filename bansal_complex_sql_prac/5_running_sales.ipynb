{
 "cells": [
  {
   "cell_type": "code",
   "execution_count": null,
   "id": "0cf4d1c6-a8d5-40a4-b859-8ba66ea5136f",
   "metadata": {},
   "outputs": [],
   "source": [
    "https://www.youtube.com/watch?v=oGgE180oaTs&list=PLBTZqjSKn0IeKBQDjLmzisazhqQy4iGkb&index=5"
   ]
  },
  {
   "cell_type": "code",
   "execution_count": 26,
   "id": "01cdf1a6-bf30-47c5-8efe-5aa714d74c02",
   "metadata": {
    "tags": []
   },
   "outputs": [
    {
     "name": "stdout",
     "output_type": "stream",
     "text": [
      "customer_orders table and view created successfully.\n"
     ]
    }
   ],
   "source": [
    "from pyspark.sql import SparkSession\n",
    "from pyspark.sql.types import StructType, StructField, IntegerType, DateType, StringType\n",
    "from pyspark.sql.functions import *\n",
    "from pyspark.sql.window import Window\n",
    "spark = SparkSession.builder.appName(\"PySparkTables\").getOrCreate()\n",
    "\n",
    "# Define schema for customer_orders table\n",
    "customer_orders_schema = StructType([\n",
    "    StructField(\"product_id\", IntegerType(), True),\n",
    "    StructField(\"sales\", IntegerType(), True)\n",
    "])\n",
    "\n",
    "# Create DataFrame with initial data\n",
    "customer_orders_data = [\n",
    "    (1, 2000),\n",
    "    (2, 2500),\n",
    "    (3, 2100),\n",
    "    (4, 2000),\n",
    "    (5, 2200),\n",
    "    (6, 2700),\n",
    "    (7, 3000),\n",
    "    (8,1000),\n",
    "    (9, 3000)\n",
    "]\n",
    "\n",
    "# Create DataFrame\n",
    "orders_df = spark.createDataFrame(customer_orders_data, schema=customer_orders_schema)\n",
    "\n",
    "# Convert order_date column to DateType\n",
    "\n",
    "# Create a temporary view for SQL queries\n",
    "orders_df.createOrReplaceTempView(\"orders\")\n",
    "\n",
    "print(\"customer_orders table and view created successfully.\")\n"
   ]
  },
  {
   "cell_type": "code",
   "execution_count": 22,
   "id": "662ed108-0026-42d8-97b5-7f6a3d1fdd91",
   "metadata": {
    "tags": []
   },
   "outputs": [
    {
     "name": "stdout",
     "output_type": "stream",
     "text": [
      "+----------+\n",
      "|product_id|\n",
      "+----------+\n",
      "|         8|\n",
      "|         1|\n",
      "|         4|\n",
      "|         3|\n",
      "|         5|\n",
      "|         2|\n",
      "|         6|\n",
      "+----------+\n",
      "\n"
     ]
    }
   ],
   "source": [
    "spark.sql(\"\"\"\n",
    "    select product_id from\n",
    "    (select \n",
    "        product_id,\n",
    "        sum(sales) over(order by sales rows between unbounded preceding and current row) as running_sales,\n",
    "        0.8 * sum(sales) over() as total_sales\n",
    "    from orders)\n",
    "    where running_sales < total_sales\n",
    "\"\"\").show()"
   ]
  },
  {
   "cell_type": "code",
   "execution_count": 35,
   "id": "a19090ac-d2ad-4f45-9395-18b209cd4ee1",
   "metadata": {
    "tags": []
   },
   "outputs": [
    {
     "name": "stdout",
     "output_type": "stream",
     "text": [
      "+----------+-------------+-----------+\n",
      "|product_id|running_sales|total_sales|\n",
      "+----------+-------------+-----------+\n",
      "|         8|         1000|    16400.0|\n",
      "|         1|         3000|    16400.0|\n",
      "|         4|         5000|    16400.0|\n",
      "|         3|         7100|    16400.0|\n",
      "|         5|         9300|    16400.0|\n",
      "|         2|        11800|    16400.0|\n",
      "|         6|        14500|    16400.0|\n",
      "|         7|        17500|    16400.0|\n",
      "|         9|        20500|    16400.0|\n",
      "+----------+-------------+-----------+\n",
      "\n"
     ]
    }
   ],
   "source": [
    "window_spec = Window.orderBy(\"sales\").rowsBetween(Window.unboundedPreceding, Window.currentRow)\n",
    "window_spec1 = Window.rowsBetween(Window.unboundedPreceding, Window.unboundedFollowing)\n",
    "\n",
    "orders_df.select(\n",
    "    \"product_id\",\n",
    "    sum(col(\"sales\")).over(window_spec).alias(\"running_sales\"),\n",
    "    (lit(0.8) * sum(col(\"sales\")).over(window_spec1)).alias(\"total_sales\")\n",
    ").show()"
   ]
  },
  {
   "cell_type": "code",
   "execution_count": null,
   "id": "75379119-15b0-4bf6-8cef-42a6aae43d7e",
   "metadata": {},
   "outputs": [],
   "source": []
  }
 ],
 "metadata": {
  "kernelspec": {
   "display_name": "Python 3 (ipykernel)",
   "language": "python",
   "name": "python3"
  },
  "language_info": {
   "codemirror_mode": {
    "name": "ipython",
    "version": 3
   },
   "file_extension": ".py",
   "mimetype": "text/x-python",
   "name": "python",
   "nbconvert_exporter": "python",
   "pygments_lexer": "ipython3",
   "version": "3.7.17"
  }
 },
 "nbformat": 4,
 "nbformat_minor": 5
}
