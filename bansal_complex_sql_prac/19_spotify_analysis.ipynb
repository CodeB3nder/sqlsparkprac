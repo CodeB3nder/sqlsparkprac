{
 "cells": [
  {
   "cell_type": "code",
   "execution_count": 1,
   "id": "3f327785-af07-48af-98ed-884dd3cc5167",
   "metadata": {
    "tags": []
   },
   "outputs": [],
   "source": [
    "from pyspark.sql import SparkSession\n",
    "from pyspark.sql.types import StructType, StructField, StringType, DateType\n",
    "from datetime import datetime\n",
    "from pyspark.sql.functions import *\n",
    "from pyspark.sql.window import Window\n",
    "\n",
    "# Initialize Spark Session\n",
    "spark = SparkSession.builder.appName(\"ActivityTable\").getOrCreate()\n",
    "\n",
    "# Define Schema\n",
    "activity_schema = StructType([\n",
    "    StructField(\"user_id\", StringType(), True),\n",
    "    StructField(\"event_name\", StringType(), True),\n",
    "    StructField(\"event_date\", DateType(), True),\n",
    "    StructField(\"country\", StringType(), True)\n",
    "])\n",
    "\n",
    "# Convert string dates to datetime.date using strptime\n",
    "activity_data = [\n",
    "    (\"1\", \"app-installed\", datetime.strptime(\"2022-01-01\", \"%Y-%m-%d\").date(), \"India\"),\n",
    "    (\"1\", \"app-purchase\", datetime.strptime(\"2022-01-02\", \"%Y-%m-%d\").date(), \"India\"),\n",
    "    (\"2\", \"app-installed\", datetime.strptime(\"2022-01-01\", \"%Y-%m-%d\").date(), \"USA\"),\n",
    "    (\"3\", \"app-installed\", datetime.strptime(\"2022-01-01\", \"%Y-%m-%d\").date(), \"USA\"),\n",
    "    (\"3\", \"app-purchase\", datetime.strptime(\"2022-01-03\", \"%Y-%m-%d\").date(), \"USA\"),\n",
    "    (\"4\", \"app-installed\", datetime.strptime(\"2022-01-03\", \"%Y-%m-%d\").date(), \"India\"),\n",
    "    (\"4\", \"app-purchase\", datetime.strptime(\"2022-01-03\", \"%Y-%m-%d\").date(), \"India\"),\n",
    "    (\"5\", \"app-installed\", datetime.strptime(\"2022-01-03\", \"%Y-%m-%d\").date(), \"SL\"),\n",
    "    (\"5\", \"app-purchase\", datetime.strptime(\"2022-01-03\", \"%Y-%m-%d\").date(), \"SL\"),\n",
    "    (\"6\", \"app-installed\", datetime.strptime(\"2022-01-04\", \"%Y-%m-%d\").date(), \"Pakistan\"),\n",
    "    (\"6\", \"app-purchase\", datetime.strptime(\"2022-01-04\", \"%Y-%m-%d\").date(), \"Pakistan\")\n",
    "]\n",
    "\n",
    "# Create DataFrame\n",
    "activity_df = spark.createDataFrame(activity_data, schema=activity_schema)\n",
    "\n",
    "# Show Data\n",
    "activity_df.createOrReplaceTempView(\"Activity\")\n"
   ]
  },
  {
   "cell_type": "code",
   "execution_count": 2,
   "id": "5d2cdd72-0231-48f0-83d9-e2c0da1f4ab8",
   "metadata": {
    "tags": []
   },
   "outputs": [
    {
     "name": "stdout",
     "output_type": "stream",
     "text": [
      "+-------+-------------+----------+--------+\n",
      "|user_id|   event_name|event_date| country|\n",
      "+-------+-------------+----------+--------+\n",
      "|      1|app-installed|2022-01-01|   India|\n",
      "|      1| app-purchase|2022-01-02|   India|\n",
      "|      2|app-installed|2022-01-01|     USA|\n",
      "|      3|app-installed|2022-01-01|     USA|\n",
      "|      3| app-purchase|2022-01-03|     USA|\n",
      "|      4|app-installed|2022-01-03|   India|\n",
      "|      4| app-purchase|2022-01-03|   India|\n",
      "|      5|app-installed|2022-01-03|      SL|\n",
      "|      5| app-purchase|2022-01-03|      SL|\n",
      "|      6|app-installed|2022-01-04|Pakistan|\n",
      "|      6| app-purchase|2022-01-04|Pakistan|\n",
      "+-------+-------------+----------+--------+\n",
      "\n"
     ]
    }
   ],
   "source": [
    "spark.sql(\"select * from Activity\").show()"
   ]
  }
 ],
 "metadata": {
  "kernelspec": {
   "display_name": "Python 3 (ipykernel)",
   "language": "python",
   "name": "python3"
  },
  "language_info": {
   "codemirror_mode": {
    "name": "ipython",
    "version": 3
   },
   "file_extension": ".py",
   "mimetype": "text/x-python",
   "name": "python",
   "nbconvert_exporter": "python",
   "pygments_lexer": "ipython3",
   "version": "3.7.17"
  }
 },
 "nbformat": 4,
 "nbformat_minor": 5
}
