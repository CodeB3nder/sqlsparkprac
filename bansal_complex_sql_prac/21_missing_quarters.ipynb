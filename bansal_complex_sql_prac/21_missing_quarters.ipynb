{
 "cells": [
  {
   "cell_type": "code",
   "execution_count": 5,
   "id": "7db88eec-5956-4a5e-872d-036f4317e1de",
   "metadata": {},
   "outputs": [
    {
     "name": "stdout",
     "output_type": "stream",
     "text": [
      "+-----+-------+------+\n",
      "|Store|Quarter|Amount|\n",
      "+-----+-------+------+\n",
      "|   S1|     Q1|   200|\n",
      "|   S1|     Q2|   300|\n",
      "|   S1|     Q4|   400|\n",
      "|   S2|     Q1|   500|\n",
      "|   S2|     Q3|   600|\n",
      "|   S2|     Q4|   700|\n",
      "|   S3|     Q1|   800|\n",
      "|   S3|     Q2|   750|\n",
      "|   S3|     Q3|   900|\n",
      "+-----+-------+------+\n",
      "\n"
     ]
    }
   ],
   "source": [
    "from pyspark.sql import SparkSession\n",
    "from pyspark.sql.functions import *\n",
    "from pyspark.sql.window import Window\n",
    "# Initialize Spark Session\n",
    "spark = SparkSession.builder.appName(\"Stores\").getOrCreate()\n",
    "\n",
    "# Define Data\n",
    "data = [\n",
    "    ('S1', 'Q1', 200), ('S1', 'Q2', 300), ('S1', 'Q4', 400),\n",
    "    ('S2', 'Q1', 500), ('S2', 'Q3', 600), ('S2', 'Q4', 700),\n",
    "    ('S3', 'Q1', 800), ('S3', 'Q2', 750), ('S3', 'Q3', 900)\n",
    "]\n",
    "\n",
    "columns = [\"Store\", \"Quarter\", \"Amount\"]\n",
    "\n",
    "# Create DataFrame\n",
    "stores_df = spark.createDataFrame(data, columns)\n",
    "\n",
    "# Show Data\n",
    "stores_df.show()\n",
    "stores_df.createOrReplaceTempView(\"stores\")\n"
   ]
  },
  {
   "cell_type": "code",
   "execution_count": 12,
   "id": "9e66c39d-7a60-4e1e-9094-1e414b2dd874",
   "metadata": {
    "tags": []
   },
   "outputs": [
    {
     "name": "stdout",
     "output_type": "stream",
     "text": [
      "+-----+------------------------------------------+\n",
      "|store|(10 - sum(CAST(right(Quarter, 1) AS INT)))|\n",
      "+-----+------------------------------------------+\n",
      "|   S1|                                         3|\n",
      "|   S2|                                         2|\n",
      "|   S3|                                         4|\n",
      "+-----+------------------------------------------+\n",
      "\n"
     ]
    }
   ],
   "source": [
    "spark.sql(\n",
    "\"\"\"\n",
    "    select store, 10 - sum(cast(right(Quarter, 1) as int)) from stores\n",
    "    group by store\n",
    "\"\"\").show()"
   ]
  },
  {
   "cell_type": "code",
   "execution_count": 15,
   "id": "cf68eaed-2a3f-437f-84db-ceb2803a1478",
   "metadata": {
    "tags": []
   },
   "outputs": [
    {
     "ename": "AnalysisException",
     "evalue": "Table or view not found: cte; line 5 pos 44;\n'WithCTE\n:- 'CTERelationDef 0, false\n:  +- 'SubqueryAlias cte\n:     +- 'Union false, false\n:        :- Distinct\n:        :  +- Project [store#34, 1 AS q_no#98]\n:        :     +- SubqueryAlias stores\n:        :        +- View (`stores`, [Store#34,Quarter#35,Amount#36L])\n:        :           +- LogicalRDD [Store#34, Quarter#35, Amount#36L], false\n:        +- 'Project ['store, ('q_no + 1) AS q_no#99]\n:           +- 'Filter ('q_no < 4)\n:              +- 'UnresolvedRelation [cte], [], false\n+- 'Project [*]\n   +- 'SubqueryAlias cte\n      +- 'CTERelationRef 0, false\n",
     "output_type": "error",
     "traceback": [
      "\u001b[0;31m---------------------------------------------------------------------------\u001b[0m",
      "\u001b[0;31mAnalysisException\u001b[0m                         Traceback (most recent call last)",
      "\u001b[0;32m/tmp/ipykernel_89/210157806.py\u001b[0m in \u001b[0;36m<module>\u001b[0;34m\u001b[0m\n\u001b[1;32m      7\u001b[0m     )\n\u001b[1;32m      8\u001b[0m     \u001b[0mselect\u001b[0m \u001b[0;34m*\u001b[0m \u001b[0;32mfrom\u001b[0m \u001b[0mcte\u001b[0m\u001b[0;34m\u001b[0m\u001b[0;34m\u001b[0m\u001b[0m\n\u001b[0;32m----> 9\u001b[0;31m     \"\"\"\n\u001b[0m\u001b[1;32m     10\u001b[0m )\n",
      "\u001b[0;32m/spark/python/pyspark/sql/session.py\u001b[0m in \u001b[0;36msql\u001b[0;34m(self, sqlQuery, **kwargs)\u001b[0m\n\u001b[1;32m   1032\u001b[0m             \u001b[0msqlQuery\u001b[0m \u001b[0;34m=\u001b[0m \u001b[0mformatter\u001b[0m\u001b[0;34m.\u001b[0m\u001b[0mformat\u001b[0m\u001b[0;34m(\u001b[0m\u001b[0msqlQuery\u001b[0m\u001b[0;34m,\u001b[0m \u001b[0;34m**\u001b[0m\u001b[0mkwargs\u001b[0m\u001b[0;34m)\u001b[0m\u001b[0;34m\u001b[0m\u001b[0;34m\u001b[0m\u001b[0m\n\u001b[1;32m   1033\u001b[0m         \u001b[0;32mtry\u001b[0m\u001b[0;34m:\u001b[0m\u001b[0;34m\u001b[0m\u001b[0;34m\u001b[0m\u001b[0m\n\u001b[0;32m-> 1034\u001b[0;31m             \u001b[0;32mreturn\u001b[0m \u001b[0mDataFrame\u001b[0m\u001b[0;34m(\u001b[0m\u001b[0mself\u001b[0m\u001b[0;34m.\u001b[0m\u001b[0m_jsparkSession\u001b[0m\u001b[0;34m.\u001b[0m\u001b[0msql\u001b[0m\u001b[0;34m(\u001b[0m\u001b[0msqlQuery\u001b[0m\u001b[0;34m)\u001b[0m\u001b[0;34m,\u001b[0m \u001b[0mself\u001b[0m\u001b[0;34m)\u001b[0m\u001b[0;34m\u001b[0m\u001b[0;34m\u001b[0m\u001b[0m\n\u001b[0m\u001b[1;32m   1035\u001b[0m         \u001b[0;32mfinally\u001b[0m\u001b[0;34m:\u001b[0m\u001b[0;34m\u001b[0m\u001b[0;34m\u001b[0m\u001b[0m\n\u001b[1;32m   1036\u001b[0m             \u001b[0;32mif\u001b[0m \u001b[0mlen\u001b[0m\u001b[0;34m(\u001b[0m\u001b[0mkwargs\u001b[0m\u001b[0;34m)\u001b[0m \u001b[0;34m>\u001b[0m \u001b[0;36m0\u001b[0m\u001b[0;34m:\u001b[0m\u001b[0;34m\u001b[0m\u001b[0;34m\u001b[0m\u001b[0m\n",
      "\u001b[0;32m/spark/python/lib/py4j-0.10.9.5-src.zip/py4j/java_gateway.py\u001b[0m in \u001b[0;36m__call__\u001b[0;34m(self, *args)\u001b[0m\n\u001b[1;32m   1320\u001b[0m         \u001b[0manswer\u001b[0m \u001b[0;34m=\u001b[0m \u001b[0mself\u001b[0m\u001b[0;34m.\u001b[0m\u001b[0mgateway_client\u001b[0m\u001b[0;34m.\u001b[0m\u001b[0msend_command\u001b[0m\u001b[0;34m(\u001b[0m\u001b[0mcommand\u001b[0m\u001b[0;34m)\u001b[0m\u001b[0;34m\u001b[0m\u001b[0;34m\u001b[0m\u001b[0m\n\u001b[1;32m   1321\u001b[0m         return_value = get_return_value(\n\u001b[0;32m-> 1322\u001b[0;31m             answer, self.gateway_client, self.target_id, self.name)\n\u001b[0m\u001b[1;32m   1323\u001b[0m \u001b[0;34m\u001b[0m\u001b[0m\n\u001b[1;32m   1324\u001b[0m         \u001b[0;32mfor\u001b[0m \u001b[0mtemp_arg\u001b[0m \u001b[0;32min\u001b[0m \u001b[0mtemp_args\u001b[0m\u001b[0;34m:\u001b[0m\u001b[0;34m\u001b[0m\u001b[0;34m\u001b[0m\u001b[0m\n",
      "\u001b[0;32m/spark/python/pyspark/sql/utils.py\u001b[0m in \u001b[0;36mdeco\u001b[0;34m(*a, **kw)\u001b[0m\n\u001b[1;32m    194\u001b[0m                 \u001b[0;31m# Hide where the exception came from that shows a non-Pythonic\u001b[0m\u001b[0;34m\u001b[0m\u001b[0;34m\u001b[0m\u001b[0;34m\u001b[0m\u001b[0m\n\u001b[1;32m    195\u001b[0m                 \u001b[0;31m# JVM exception message.\u001b[0m\u001b[0;34m\u001b[0m\u001b[0;34m\u001b[0m\u001b[0;34m\u001b[0m\u001b[0m\n\u001b[0;32m--> 196\u001b[0;31m                 \u001b[0;32mraise\u001b[0m \u001b[0mconverted\u001b[0m \u001b[0;32mfrom\u001b[0m \u001b[0;32mNone\u001b[0m\u001b[0;34m\u001b[0m\u001b[0;34m\u001b[0m\u001b[0m\n\u001b[0m\u001b[1;32m    197\u001b[0m             \u001b[0;32melse\u001b[0m\u001b[0;34m:\u001b[0m\u001b[0;34m\u001b[0m\u001b[0;34m\u001b[0m\u001b[0m\n\u001b[1;32m    198\u001b[0m                 \u001b[0;32mraise\u001b[0m\u001b[0;34m\u001b[0m\u001b[0;34m\u001b[0m\u001b[0m\n",
      "\u001b[0;31mAnalysisException\u001b[0m: Table or view not found: cte; line 5 pos 44;\n'WithCTE\n:- 'CTERelationDef 0, false\n:  +- 'SubqueryAlias cte\n:     +- 'Union false, false\n:        :- Distinct\n:        :  +- Project [store#34, 1 AS q_no#98]\n:        :     +- SubqueryAlias stores\n:        :        +- View (`stores`, [Store#34,Quarter#35,Amount#36L])\n:        :           +- LogicalRDD [Store#34, Quarter#35, Amount#36L], false\n:        +- 'Project ['store, ('q_no + 1) AS q_no#99]\n:           +- 'Filter ('q_no < 4)\n:              +- 'UnresolvedRelation [cte], [], false\n+- 'Project [*]\n   +- 'SubqueryAlias cte\n      +- 'CTERelationRef 0, false\n"
     ]
    }
   ],
   "source": [
    "spark.sql(\"\"\"\n",
    "    with cte as (\n",
    "        select distinct store, 1 as q_no from stores\n",
    "        union all\n",
    "        select store, q_no + 1 as q_no from cte\n",
    "        where q_no < 4\n",
    "    )\n",
    "    select * from cte\n",
    "    \"\"\"\n",
    ")"
   ]
  },
  {
   "cell_type": "code",
   "execution_count": null,
   "id": "d7f7c505-f3a0-4dde-9913-e6f916e02d44",
   "metadata": {},
   "outputs": [],
   "source": []
  }
 ],
 "metadata": {
  "kernelspec": {
   "display_name": "Python 3 (ipykernel)",
   "language": "python",
   "name": "python3"
  },
  "language_info": {
   "codemirror_mode": {
    "name": "ipython",
    "version": 3
   },
   "file_extension": ".py",
   "mimetype": "text/x-python",
   "name": "python",
   "nbconvert_exporter": "python",
   "pygments_lexer": "ipython3",
   "version": "3.7.17"
  }
 },
 "nbformat": 4,
 "nbformat_minor": 5
}
