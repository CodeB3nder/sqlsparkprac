{
 "cells": [
  {
   "cell_type": "code",
   "execution_count": null,
   "id": "8b8bd3c1-a49b-40a4-ac38-e5458757f615",
   "metadata": {},
   "outputs": [],
   "source": [
    "https://www.youtube.com/watch?v=MpAMjtvarrc&list=PLBTZqjSKn0IeKBQDjLmzisazhqQy4iGkb&index=2"
   ]
  },
  {
   "cell_type": "code",
   "execution_count": null,
   "id": "6190f89e-c591-472a-8868-4d79911f9867",
   "metadata": {},
   "outputs": [],
   "source": []
  },
  {
   "cell_type": "code",
   "execution_count": 23,
   "id": "81e052f3-1652-4684-9a07-9332cd974ebb",
   "metadata": {
    "tags": []
   },
   "outputs": [
    {
     "name": "stdout",
     "output_type": "stream",
     "text": [
      "customer_orders table and view created successfully.\n"
     ]
    }
   ],
   "source": [
    "from pyspark.sql import SparkSession\n",
    "from pyspark.sql.types import StructType, StructField, IntegerType, DateType, StringType\n",
    "\n",
    "spark = SparkSession.builder.appName(\"PySparkTables\").getOrCreate()\n",
    "\n",
    "# Define schema for customer_orders table\n",
    "customer_orders_schema = StructType([\n",
    "    StructField(\"order_id\", IntegerType(), True),\n",
    "    StructField(\"customer_id\", IntegerType(), True),\n",
    "    StructField(\"order_date\", StringType(), True),\n",
    "    StructField(\"order_amount\", IntegerType(), True)\n",
    "])\n",
    "\n",
    "# Create DataFrame with initial data\n",
    "customer_orders_data = [\n",
    "    (1, 100, \"2022-01-01\", 2000),\n",
    "    (2, 200, \"2022-01-01\", 2500),\n",
    "    (3, 300, \"2022-01-01\", 2100),\n",
    "    (4, 100, \"2022-01-02\", 2000),\n",
    "    (5, 400, \"2022-01-02\", 2200),\n",
    "    (6, 500, \"2022-01-02\", 2700),\n",
    "    (7, 100, \"2022-01-03\", 3000),\n",
    "    (8, 400, \"2022-01-03\", 1000),\n",
    "    (9, 600, \"2022-01-03\", 3000)\n",
    "]\n",
    "\n",
    "# Create DataFrame\n",
    "customer_orders_df = spark.createDataFrame(customer_orders_data, schema=customer_orders_schema)\n",
    "\n",
    "# Convert order_date column to DateType\n",
    "customer_orders_df = customer_orders_df.withColumn(\"order_date\", customer_orders_df.order_date.cast(DateType()))\n",
    "\n",
    "# Create a temporary view for SQL queries\n",
    "customer_orders_df.createOrReplaceTempView(\"customer_orders\")\n",
    "\n",
    "print(\"customer_orders table and view created successfully.\")\n"
   ]
  },
  {
   "cell_type": "code",
   "execution_count": 26,
   "id": "df282107-ddca-408f-9411-4ce5d5ff1e27",
   "metadata": {
    "tags": []
   },
   "outputs": [
    {
     "name": "stdout",
     "output_type": "stream",
     "text": [
      "+----------+-----------+------------+\n",
      "|order_date|first_visit|repeat_visit|\n",
      "+----------+-----------+------------+\n",
      "|2022-01-03|          1|           2|\n",
      "|2022-01-01|          3|           0|\n",
      "|2022-01-02|          2|           1|\n",
      "+----------+-----------+------------+\n",
      "\n"
     ]
    }
   ],
   "source": [
    "spark.sql(\"\"\"\n",
    "    with first_visit as (select customer_id, order_date,\n",
    "    min(order_date) over(partition by customer_id) as visit_date\n",
    "    from customer_orders),\n",
    "    \n",
    "    flag as (select \n",
    "        order_date, customer_id, \n",
    "        CASE WHEN order_date = visit_date THEN 1 ELSE 0 END as first_visit_flag,\n",
    "        CASE WHEN order_date != visit_date THEN 1 ELSE 0 END as repeat_visit_flag\n",
    "    from first_visit)\n",
    "    \n",
    "    select \n",
    "    order_date,\n",
    "    SUM(first_visit_flag) as first_visit, \n",
    "    SUM(repeat_visit_flag) as repeat_visit\n",
    "    from flag\n",
    "    group by order_date\n",
    "\"\"\").show()"
   ]
  },
  {
   "cell_type": "code",
   "execution_count": 33,
   "id": "cca57f5f-81ad-4c58-8952-4e7bcae808a3",
   "metadata": {
    "tags": []
   },
   "outputs": [],
   "source": [
    "from pyspark.sql.functions import *\n",
    "from pyspark.sql import Window\n",
    "\n",
    "window_spec = Window.partitionBy(col(\"customer_id\")).orderBy(col(\"order_date\"))\n",
    "first_visit = customer_orders_df.select(\n",
    "                    \"customer_id\", \"order_date\",\n",
    "                     min(col(\"order_date\")).over(window_spec).alias(\"first_visit_date\")\n",
    "                )\n",
    "\n",
    "flag_df = first_visit.select(\n",
    "        \"order_date\", \"customer_id\",\n",
    "         when(col(\"order_date\") == col(\"first_visit_date\"), 1).otherwise(0).alias(\"first_visit_flag\"),\n",
    "         when(col(\"order_date\") != col(\"first_visit_date\"), 1).otherwise(0).alias(\"repeat_visit_flag\")\n",
    "\n",
    ")"
   ]
  },
  {
   "cell_type": "code",
   "execution_count": 36,
   "id": "3d75e366-4678-4428-b88b-f1a5caf084e6",
   "metadata": {
    "tags": []
   },
   "outputs": [
    {
     "name": "stdout",
     "output_type": "stream",
     "text": [
      "+----------+---------------------+----------------------+\n",
      "|order_date|sum(first_visit_flag)|sum(repeat_visit_flag)|\n",
      "+----------+---------------------+----------------------+\n",
      "|2022-01-03|                    1|                     2|\n",
      "|2022-01-01|                    3|                     0|\n",
      "|2022-01-02|                    2|                     1|\n",
      "+----------+---------------------+----------------------+\n",
      "\n"
     ]
    }
   ],
   "source": [
    "flag_df.groupBy(col(\"order_date\")).agg(\n",
    "        sum(col(\"first_visit_flag\")),\n",
    "        sum(col(\"repeat_visit_flag\"))\n",
    ").show()"
   ]
  },
  {
   "cell_type": "code",
   "execution_count": null,
   "id": "21f6e49d-8d98-4ed6-89fa-359ef26f61b7",
   "metadata": {},
   "outputs": [],
   "source": []
  }
 ],
 "metadata": {
  "kernelspec": {
   "display_name": "Python 3 (ipykernel)",
   "language": "python",
   "name": "python3"
  },
  "language_info": {
   "codemirror_mode": {
    "name": "ipython",
    "version": 3
   },
   "file_extension": ".py",
   "mimetype": "text/x-python",
   "name": "python",
   "nbconvert_exporter": "python",
   "pygments_lexer": "ipython3",
   "version": "3.7.17"
  }
 },
 "nbformat": 4,
 "nbformat_minor": 5
}
