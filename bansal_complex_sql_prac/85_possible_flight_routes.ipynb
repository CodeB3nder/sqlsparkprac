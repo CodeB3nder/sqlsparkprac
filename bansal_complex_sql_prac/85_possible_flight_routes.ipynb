{
 "cells": [
  {
   "cell_type": "code",
   "execution_count": 1,
   "id": "bb8cd1da-3e04-4810-9e06-a70e70e588f8",
   "metadata": {
    "tags": []
   },
   "outputs": [],
   "source": [
    "from pyspark.sql import SparkSession\n",
    "from pyspark.sql.types import StructType, StructField, StringType, TimestampType\n",
    "\n",
    "# Initialize Spark\n",
    "spark = SparkSession.builder.appName(\"SQLPractice\").getOrCreate()\n",
    "\n",
    "# 1. Create the `airports` DataFrame\n",
    "airports_data = [\n",
    "    ('JFK', 'New York'),\n",
    "    ('LGA', 'New York'),\n",
    "    ('EWR', 'New York'),\n",
    "    ('LAX', 'Los Angeles'),\n",
    "    ('ORD', 'Chicago'),\n",
    "    ('SFO', 'San Francisco'),\n",
    "    ('HND', 'Tokyo'),\n",
    "    ('NRT', 'Tokyo'),\n",
    "    ('KIX', 'Osaka'),\n",
    "]\n",
    "\n",
    "airports_schema = StructType([\n",
    "    StructField(\"port_code\", StringType(), True),\n",
    "    StructField(\"city_name\", StringType(), True),\n",
    "])\n",
    "\n",
    "airports_df = spark.createDataFrame(airports_data, schema=airports_schema)\n",
    "airports_df.createOrReplaceTempView(\"airports\")\n",
    "\n",
    "\n",
    "# 2. Create the `flights` DataFrame\n",
    "flights_data = [\n",
    "    (1, 'JFK', 'HND', '2025-06-15 06:00', '2025-06-15 18:00'),\n",
    "    (2, 'JFK', 'LAX', '2025-06-15 07:00', '2025-06-15 10:00'),\n",
    "    (3, 'LAX', 'NRT', '2025-06-15 10:00', '2025-06-15 22:00'),\n",
    "    (4, 'JFK', 'LAX', '2025-06-15 08:00', '2025-06-15 11:00'),\n",
    "    (5, 'LAX', 'KIX', '2025-06-15 11:30', '2025-06-15 22:00'),\n",
    "    (6, 'LGA', 'ORD', '2025-06-15 09:00', '2025-06-15 12:00'),\n",
    "    (7, 'ORD', 'HND', '2025-06-15 11:30', '2025-06-15 23:30'),\n",
    "    (8, 'EWR', 'SFO', '2025-06-15 09:00', '2025-06-15 12:00'),\n",
    "    (9, 'LAX', 'HND', '2025-06-15 13:00', '2025-06-15 23:00'),\n",
    "    (10, 'KIX', 'NRT', '2025-06-15 08:00', '2025-06-15 10:00'),\n",
    "]\n",
    "\n",
    "flights_schema = StructType([\n",
    "    StructField(\"flight_id\", StringType(), True),\n",
    "    StructField(\"start_port\", StringType(), True),\n",
    "    StructField(\"end_port\", StringType(), True),\n",
    "    StructField(\"start_time\", TimestampType(), True),\n",
    "    StructField(\"end_time\", TimestampType(), True),\n",
    "])\n",
    "\n",
    "from datetime import datetime\n",
    "\n",
    "flights_data_typed = [\n",
    "    (str(f[0]), f[1], f[2], datetime.strptime(f[3], \"%Y-%m-%d %H:%M\"), datetime.strptime(f[4], \"%Y-%m-%d %H:%M\"))\n",
    "    for f in flights_data\n",
    "]\n",
    "\n",
    "flights_df = spark.createDataFrame(flights_data_typed, schema=flights_schema)\n",
    "flights_df.createOrReplaceTempView(\"flights\")\n"
   ]
  },
  {
   "cell_type": "code",
   "execution_count": 7,
   "id": "363457d2-c2d6-4a5c-9d9b-c13cefab0c69",
   "metadata": {
    "tags": []
   },
   "outputs": [
    {
     "name": "stdout",
     "output_type": "stream",
     "text": [
      "+----------+-----------+--------+---------+-------------------+-------------------+-------------------+-------------------+\n",
      "|start_city|middle_city|end_city|flight_id|    trip_start_time|   first_flight_end|second_flight_start|  second_flight_end|\n",
      "+----------+-----------+--------+---------+-------------------+-------------------+-------------------+-------------------+\n",
      "|  New York|Los Angeles|   Tokyo|      4;9|2025-06-15 08:00:00|2025-06-15 11:00:00|2025-06-15 13:00:00|2025-06-15 23:00:00|\n",
      "|  New York|Los Angeles|   Tokyo|      2;9|2025-06-15 07:00:00|2025-06-15 10:00:00|2025-06-15 13:00:00|2025-06-15 23:00:00|\n",
      "+----------+-----------+--------+---------+-------------------+-------------------+-------------------+-------------------+\n",
      "\n"
     ]
    }
   ],
   "source": [
    "spark.sql(\"\"\"\n",
    "    with all_flights as (\n",
    "    select f.* , a.city_name as start_city, e.city_name as end_city\n",
    "    from flights as f inner join airports as a on f.start_port = a.port_code\n",
    "    inner join airports as e on f.end_port = e.port_code ), \n",
    "    direct as (\n",
    "        select start_city, null as middle_city, end_city, flight_id,\n",
    "        datediff(minute, start_time, end_time) as time_taken\n",
    "        from all_flights where start_city = 'New York' and end_city = 'Tokyo'\n",
    "    )\n",
    "    select a.start_city, a.end_city as middle_city, b.end_city, concat(a.flight_id,';', b.flight_id) as flight_id, a.start_time as trip_start_time, a.end_time as first_flight_end, b.start_time as second_flight_start, \n",
    "    b.end_time as second_flight_end from\n",
    "    (select * from all_flights where start_city = 'New York') a inner join \n",
    "    (select * from all_flights where end_city = 'Tokyo') b on a.end_city = b.start_city\n",
    "    where b.start_time > a.end_time\n",
    "\"\"\").show()"
   ]
  },
  {
   "cell_type": "code",
   "execution_count": null,
   "id": "9d12dd00-8f5a-4538-8811-3ad80a198c80",
   "metadata": {},
   "outputs": [],
   "source": []
  }
 ],
 "metadata": {
  "kernelspec": {
   "display_name": "Python 3 (ipykernel)",
   "language": "python",
   "name": "python3"
  },
  "language_info": {
   "codemirror_mode": {
    "name": "ipython",
    "version": 3
   },
   "file_extension": ".py",
   "mimetype": "text/x-python",
   "name": "python",
   "nbconvert_exporter": "python",
   "pygments_lexer": "ipython3",
   "version": "3.7.17"
  }
 },
 "nbformat": 4,
 "nbformat_minor": 5
}
