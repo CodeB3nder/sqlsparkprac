{
 "cells": [
  {
   "cell_type": "code",
   "execution_count": 5,
   "id": "3881037f-ebe8-4249-895d-e3f9228ae701",
   "metadata": {
    "tags": []
   },
   "outputs": [
    {
     "name": "stdout",
     "output_type": "stream",
     "text": [
      "+--------+------+------+\n",
      "|emp_name|dep_id|salary|\n",
      "+--------+------+------+\n",
      "|    Siva|     1| 30000|\n",
      "|    Ravi|     2| 40000|\n",
      "|  Prasad|     1| 50000|\n",
      "|     Sai|     2| 20000|\n",
      "+--------+------+------+\n",
      "\n"
     ]
    }
   ],
   "source": [
    "from pyspark.sql import SparkSession\n",
    "from pyspark.sql.types import StructType, StructField, StringType, IntegerType\n",
    "from pyspark.sql.functions import *\n",
    "from pyspark.sql.window import Window\n",
    "\n",
    "# Initialize SparkSession\n",
    "spark = SparkSession.builder.appName(\"EmployeeTable\").getOrCreate()\n",
    "\n",
    "# Define schema\n",
    "schema = StructType([\n",
    "    StructField(\"emp_name\", StringType(), True),\n",
    "    StructField(\"dep_id\", IntegerType(), True),\n",
    "    StructField(\"salary\", IntegerType(), True)\n",
    "])\n",
    "\n",
    "# Data (list of tuples)\n",
    "data = [\n",
    "    (\"Siva\", 1, 30000),\n",
    "    (\"Ravi\", 2, 40000),\n",
    "    (\"Prasad\", 1, 50000),\n",
    "    (\"Sai\", 2, 20000)\n",
    "]\n",
    "\n",
    "# Create DataFrame\n",
    "employee_df = spark.createDataFrame(data, schema)\n",
    "employee_df.createOrReplaceTempView(\"employee_df\")\n",
    "\n",
    "# Show DataFrame\n",
    "employee_df.show()\n"
   ]
  },
  {
   "cell_type": "code",
   "execution_count": 17,
   "id": "9e1189a5-f735-44b4-a654-05065fb1bde4",
   "metadata": {
    "tags": []
   },
   "outputs": [
    {
     "ename": "AnalysisException",
     "evalue": "expression 'cte.rasc' is neither present in the group by, nor is it an aggregate function. Add to group by or wrap in first() (or first_value) if you don't care which value you get.;\nWithCTE\n:- CTERelationDef 4, false\n:  +- SubqueryAlias cte\n:     +- Project [emp_name#48, dep_id#49, salary#50, rasc#273, rdesc#274]\n:        +- Project [emp_name#48, dep_id#49, salary#50, rasc#273, rdesc#274, rasc#273, rdesc#274]\n:           +- Window [rank(salary#50) windowspecdefinition(dep_id#49, salary#50 DESC NULLS LAST, specifiedwindowframe(RowFrame, unboundedpreceding$(), currentrow$())) AS rdesc#274], [dep_id#49], [salary#50 DESC NULLS LAST]\n:              +- Window [rank(salary#50) windowspecdefinition(dep_id#49, salary#50 ASC NULLS FIRST, specifiedwindowframe(RowFrame, unboundedpreceding$(), currentrow$())) AS rasc#273], [dep_id#49], [salary#50 ASC NULLS FIRST]\n:                 +- Project [emp_name#48, dep_id#49, salary#50]\n:                    +- SubqueryAlias employee\n:                       +- View (`employee`, [emp_name#48,dep_id#49,salary#50])\n:                          +- LogicalRDD [emp_name#48, dep_id#49, salary#50], false\n+- Aggregate [dep_id#49], [dep_id#49, coalesce(CASE WHEN (rasc#273 = 1) THEN salary#50 END) AS lowsalary#271, coalesce(CASE WHEN (rdesc#274 = 1) THEN salary#50 END) AS highsalary#272]\n   +- SubqueryAlias cte\n      +- CTERelationRef 4, true, [emp_name#48, dep_id#49, salary#50, rasc#273, rdesc#274]\n",
     "output_type": "error",
     "traceback": [
      "\u001b[0;31m---------------------------------------------------------------------------\u001b[0m",
      "\u001b[0;31mAnalysisException\u001b[0m                         Traceback (most recent call last)",
      "\u001b[0;32m/tmp/ipykernel_558/2456840803.py\u001b[0m in \u001b[0;36m<module>\u001b[0;34m\u001b[0m\n\u001b[1;32m     10\u001b[0m     \u001b[0;32mfrom\u001b[0m \u001b[0mcte\u001b[0m\u001b[0;34m\u001b[0m\u001b[0;34m\u001b[0m\u001b[0m\n\u001b[1;32m     11\u001b[0m     \u001b[0mgroup\u001b[0m \u001b[0mby\u001b[0m \u001b[0mdep_id\u001b[0m\u001b[0;34m\u001b[0m\u001b[0;34m\u001b[0m\u001b[0m\n\u001b[0;32m---> 12\u001b[0;31m \"\"\").show()\n\u001b[0m",
      "\u001b[0;32m/spark/python/pyspark/sql/session.py\u001b[0m in \u001b[0;36msql\u001b[0;34m(self, sqlQuery, **kwargs)\u001b[0m\n\u001b[1;32m   1032\u001b[0m             \u001b[0msqlQuery\u001b[0m \u001b[0;34m=\u001b[0m \u001b[0mformatter\u001b[0m\u001b[0;34m.\u001b[0m\u001b[0mformat\u001b[0m\u001b[0;34m(\u001b[0m\u001b[0msqlQuery\u001b[0m\u001b[0;34m,\u001b[0m \u001b[0;34m**\u001b[0m\u001b[0mkwargs\u001b[0m\u001b[0;34m)\u001b[0m\u001b[0;34m\u001b[0m\u001b[0;34m\u001b[0m\u001b[0m\n\u001b[1;32m   1033\u001b[0m         \u001b[0;32mtry\u001b[0m\u001b[0;34m:\u001b[0m\u001b[0;34m\u001b[0m\u001b[0;34m\u001b[0m\u001b[0m\n\u001b[0;32m-> 1034\u001b[0;31m             \u001b[0;32mreturn\u001b[0m \u001b[0mDataFrame\u001b[0m\u001b[0;34m(\u001b[0m\u001b[0mself\u001b[0m\u001b[0;34m.\u001b[0m\u001b[0m_jsparkSession\u001b[0m\u001b[0;34m.\u001b[0m\u001b[0msql\u001b[0m\u001b[0;34m(\u001b[0m\u001b[0msqlQuery\u001b[0m\u001b[0;34m)\u001b[0m\u001b[0;34m,\u001b[0m \u001b[0mself\u001b[0m\u001b[0;34m)\u001b[0m\u001b[0;34m\u001b[0m\u001b[0;34m\u001b[0m\u001b[0m\n\u001b[0m\u001b[1;32m   1035\u001b[0m         \u001b[0;32mfinally\u001b[0m\u001b[0;34m:\u001b[0m\u001b[0;34m\u001b[0m\u001b[0;34m\u001b[0m\u001b[0m\n\u001b[1;32m   1036\u001b[0m             \u001b[0;32mif\u001b[0m \u001b[0mlen\u001b[0m\u001b[0;34m(\u001b[0m\u001b[0mkwargs\u001b[0m\u001b[0;34m)\u001b[0m \u001b[0;34m>\u001b[0m \u001b[0;36m0\u001b[0m\u001b[0;34m:\u001b[0m\u001b[0;34m\u001b[0m\u001b[0;34m\u001b[0m\u001b[0m\n",
      "\u001b[0;32m/spark/python/lib/py4j-0.10.9.5-src.zip/py4j/java_gateway.py\u001b[0m in \u001b[0;36m__call__\u001b[0;34m(self, *args)\u001b[0m\n\u001b[1;32m   1320\u001b[0m         \u001b[0manswer\u001b[0m \u001b[0;34m=\u001b[0m \u001b[0mself\u001b[0m\u001b[0;34m.\u001b[0m\u001b[0mgateway_client\u001b[0m\u001b[0;34m.\u001b[0m\u001b[0msend_command\u001b[0m\u001b[0;34m(\u001b[0m\u001b[0mcommand\u001b[0m\u001b[0;34m)\u001b[0m\u001b[0;34m\u001b[0m\u001b[0;34m\u001b[0m\u001b[0m\n\u001b[1;32m   1321\u001b[0m         return_value = get_return_value(\n\u001b[0;32m-> 1322\u001b[0;31m             answer, self.gateway_client, self.target_id, self.name)\n\u001b[0m\u001b[1;32m   1323\u001b[0m \u001b[0;34m\u001b[0m\u001b[0m\n\u001b[1;32m   1324\u001b[0m         \u001b[0;32mfor\u001b[0m \u001b[0mtemp_arg\u001b[0m \u001b[0;32min\u001b[0m \u001b[0mtemp_args\u001b[0m\u001b[0;34m:\u001b[0m\u001b[0;34m\u001b[0m\u001b[0;34m\u001b[0m\u001b[0m\n",
      "\u001b[0;32m/spark/python/pyspark/sql/utils.py\u001b[0m in \u001b[0;36mdeco\u001b[0;34m(*a, **kw)\u001b[0m\n\u001b[1;32m    194\u001b[0m                 \u001b[0;31m# Hide where the exception came from that shows a non-Pythonic\u001b[0m\u001b[0;34m\u001b[0m\u001b[0;34m\u001b[0m\u001b[0;34m\u001b[0m\u001b[0m\n\u001b[1;32m    195\u001b[0m                 \u001b[0;31m# JVM exception message.\u001b[0m\u001b[0;34m\u001b[0m\u001b[0;34m\u001b[0m\u001b[0;34m\u001b[0m\u001b[0m\n\u001b[0;32m--> 196\u001b[0;31m                 \u001b[0;32mraise\u001b[0m \u001b[0mconverted\u001b[0m \u001b[0;32mfrom\u001b[0m \u001b[0;32mNone\u001b[0m\u001b[0;34m\u001b[0m\u001b[0;34m\u001b[0m\u001b[0m\n\u001b[0m\u001b[1;32m    197\u001b[0m             \u001b[0;32melse\u001b[0m\u001b[0;34m:\u001b[0m\u001b[0;34m\u001b[0m\u001b[0;34m\u001b[0m\u001b[0m\n\u001b[1;32m    198\u001b[0m                 \u001b[0;32mraise\u001b[0m\u001b[0;34m\u001b[0m\u001b[0;34m\u001b[0m\u001b[0m\n",
      "\u001b[0;31mAnalysisException\u001b[0m: expression 'cte.rasc' is neither present in the group by, nor is it an aggregate function. Add to group by or wrap in first() (or first_value) if you don't care which value you get.;\nWithCTE\n:- CTERelationDef 4, false\n:  +- SubqueryAlias cte\n:     +- Project [emp_name#48, dep_id#49, salary#50, rasc#273, rdesc#274]\n:        +- Project [emp_name#48, dep_id#49, salary#50, rasc#273, rdesc#274, rasc#273, rdesc#274]\n:           +- Window [rank(salary#50) windowspecdefinition(dep_id#49, salary#50 DESC NULLS LAST, specifiedwindowframe(RowFrame, unboundedpreceding$(), currentrow$())) AS rdesc#274], [dep_id#49], [salary#50 DESC NULLS LAST]\n:              +- Window [rank(salary#50) windowspecdefinition(dep_id#49, salary#50 ASC NULLS FIRST, specifiedwindowframe(RowFrame, unboundedpreceding$(), currentrow$())) AS rasc#273], [dep_id#49], [salary#50 ASC NULLS FIRST]\n:                 +- Project [emp_name#48, dep_id#49, salary#50]\n:                    +- SubqueryAlias employee\n:                       +- View (`employee`, [emp_name#48,dep_id#49,salary#50])\n:                          +- LogicalRDD [emp_name#48, dep_id#49, salary#50], false\n+- Aggregate [dep_id#49], [dep_id#49, coalesce(CASE WHEN (rasc#273 = 1) THEN salary#50 END) AS lowsalary#271, coalesce(CASE WHEN (rdesc#274 = 1) THEN salary#50 END) AS highsalary#272]\n   +- SubqueryAlias cte\n      +- CTERelationRef 4, true, [emp_name#48, dep_id#49, salary#50, rasc#273, rdesc#274]\n"
     ]
    }
   ],
   "source": [
    "spark.sql(\"\"\"\n",
    "    with cte as (\n",
    "    select *, rank() over(partition by dep_id order by salary) as rasc,\n",
    "    rank() over(partition by dep_id order by salary desc) as rdesc\n",
    "    from employee)\n",
    "    \n",
    "    select dep_id,\n",
    "        max(case when rasc = 1 then salary end) as lowsalary,\n",
    "        max(case when rdesc = 1 then salary end) as highsalary\n",
    "    from cte\n",
    "    group by dep_id\n",
    "\"\"\").show()"
   ]
  },
  {
   "cell_type": "code",
   "execution_count": null,
   "id": "b2e02c8f-c20f-4edb-aed6-677aad0f1782",
   "metadata": {},
   "outputs": [],
   "source": []
  }
 ],
 "metadata": {
  "kernelspec": {
   "display_name": "Python 3 (ipykernel)",
   "language": "python",
   "name": "python3"
  },
  "language_info": {
   "codemirror_mode": {
    "name": "ipython",
    "version": 3
   },
   "file_extension": ".py",
   "mimetype": "text/x-python",
   "name": "python",
   "nbconvert_exporter": "python",
   "pygments_lexer": "ipython3",
   "version": "3.7.17"
  }
 },
 "nbformat": 4,
 "nbformat_minor": 5
}
