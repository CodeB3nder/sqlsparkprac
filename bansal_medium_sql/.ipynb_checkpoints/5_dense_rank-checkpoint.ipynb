{
 "cells": [
  {
   "cell_type": "code",
   "execution_count": 1,
   "id": "54297e9d-4109-41f8-88cd-6f7da4cc7696",
   "metadata": {
    "tags": []
   },
   "outputs": [
    {
     "name": "stdout",
     "output_type": "stream",
     "text": [
      "+------+------+------+-------+\n",
      "|emp_id|  name|salary|dept_id|\n",
      "+------+------+------+-------+\n",
      "|   101| sohan|  3000|     11|\n",
      "|   102| rohan|  4000|     12|\n",
      "|   103| mohan|  5000|     13|\n",
      "|   104|   cat|  3000|     11|\n",
      "|   105|suresh|  4000|     12|\n",
      "|   109|mahesh|  7000|     12|\n",
      "|   108| kamal|  8000|     11|\n",
      "+------+------+------+-------+\n",
      "\n"
     ]
    }
   ],
   "source": [
    "from pyspark.sql import SparkSession\n",
    "from pyspark.sql.types import StructType, StructField, IntegerType, StringType\n",
    "\n",
    "# Initialize SparkSession\n",
    "spark = SparkSession.builder.appName(\"EmployeeSalary\").getOrCreate()\n",
    "\n",
    "# Define schema\n",
    "schema = StructType([\n",
    "    StructField(\"emp_id\", IntegerType(), False),\n",
    "    StructField(\"name\", StringType(), False),\n",
    "    StructField(\"salary\", StringType(), True),  # Keeping as String for now to match your table\n",
    "    StructField(\"dept_id\", IntegerType(), True)\n",
    "])\n",
    "\n",
    "# Data\n",
    "data = [\n",
    "    (101, 'sohan', '3000', 11),\n",
    "    (102, 'rohan', '4000', 12),\n",
    "    (103, 'mohan', '5000', 13),\n",
    "    (104, 'cat', '3000', 11),\n",
    "    (105, 'suresh', '4000', 12),\n",
    "    (109, 'mahesh', '7000', 12),\n",
    "    (108, 'kamal', '8000', 11)\n",
    "]\n",
    "\n",
    "# Create DataFrame\n",
    "df = spark.createDataFrame(data, schema)\n",
    "df.createOrReplaceTempView(\"Employee\")\n",
    "\n",
    "# Show Data\n",
    "df.show()\n"
   ]
  },
  {
   "cell_type": "code",
   "execution_count": null,
   "id": "87ffcc34-c1b1-4eff-a691-fa3421b31847",
   "metadata": {},
   "outputs": [],
   "source": [
    "## Write a query to find the employee names that have equal salaries in the same department"
   ]
  },
  {
   "cell_type": "code",
   "execution_count": 11,
   "id": "4d99f54c-6e3c-453f-999b-c61dc42447e0",
   "metadata": {
    "tags": []
   },
   "outputs": [
    {
     "name": "stdout",
     "output_type": "stream",
     "text": [
      "+------+------+------+-------+---+------+------+------+-------+---+\n",
      "|emp_id|  name|salary|dept_id|rnk|emp_id|  name|salary|dept_id|rnk|\n",
      "+------+------+------+-------+---+------+------+------+-------+---+\n",
      "|   101| sohan|  3000|     11|  2|   104|   cat|  3000|     11|  2|\n",
      "|   104|   cat|  3000|     11|  2|   101| sohan|  3000|     11|  2|\n",
      "|   102| rohan|  4000|     12|  2|   105|suresh|  4000|     12|  2|\n",
      "|   105|suresh|  4000|     12|  2|   102| rohan|  4000|     12|  2|\n",
      "+------+------+------+-------+---+------+------+------+-------+---+\n",
      "\n"
     ]
    }
   ],
   "source": [
    "spark.sql(\"\"\"\n",
    "    with cte as (\n",
    "    select *,\n",
    "    dense_rank() over(partition by dept_id order by salary desc) as rnk\n",
    "    from Employee)\n",
    "    \n",
    "    select *\n",
    "    from cte a, cte b where a.emp_id<>b.emp_id and a.dept_id=b.dept_id and a.rnk=b.rnk;\n",
    "\n",
    "\n",
    "\"\"\").show()"
   ]
  },
  {
   "cell_type": "code",
   "execution_count": null,
   "id": "7275599a-099d-4111-9081-f5b96154c50b",
   "metadata": {},
   "outputs": [],
   "source": []
  }
 ],
 "metadata": {
  "kernelspec": {
   "display_name": "Python 3 (ipykernel)",
   "language": "python",
   "name": "python3"
  },
  "language_info": {
   "codemirror_mode": {
    "name": "ipython",
    "version": 3
   },
   "file_extension": ".py",
   "mimetype": "text/x-python",
   "name": "python",
   "nbconvert_exporter": "python",
   "pygments_lexer": "ipython3",
   "version": "3.7.17"
  }
 },
 "nbformat": 4,
 "nbformat_minor": 5
}
