{
 "cells": [
  {
   "cell_type": "code",
   "execution_count": 1,
   "id": "e5bffefa-36d0-4f56-b1e0-9bf1dd3a936b",
   "metadata": {
    "tags": []
   },
   "outputs": [
    {
     "name": "stdout",
     "output_type": "stream",
     "text": [
      "+-------+-------------------+------------------------+\n",
      "|user_id|date_searched      |filter_room_types       |\n",
      "+-------+-------------------+------------------------+\n",
      "|1      |2022-01-01 00:00:00|entire home,private room|\n",
      "|2      |2022-01-02 00:00:00|entire home,shared room |\n",
      "|3      |2022-01-02 00:00:00|private room,shared room|\n",
      "|4      |2022-01-03 00:00:00|private room            |\n",
      "+-------+-------------------+------------------------+\n",
      "\n"
     ]
    }
   ],
   "source": [
    "from pyspark.sql import SparkSession\n",
    "from pyspark.sql.types import StructType, StructField, IntegerType, StringType, TimestampType\n",
    "from datetime import datetime\n",
    "from pyspark.sql.functions import *\n",
    "# Initialize Spark Session\n",
    "spark = SparkSession.builder.appName(\"AirbnbSearches\").getOrCreate()\n",
    "\n",
    "# ----------------------------\n",
    "# Create Airbnb Searches Table\n",
    "# ----------------------------\n",
    "\n",
    "# Data\n",
    "airbnb_data = [\n",
    "    (1, datetime.strptime('2022-01-01', '%Y-%m-%d'), 'entire home,private room'),\n",
    "    (2, datetime.strptime('2022-01-02', '%Y-%m-%d'), 'entire home,shared room'),\n",
    "    (3, datetime.strptime('2022-01-02', '%Y-%m-%d'), 'private room,shared room'),\n",
    "    (4, datetime.strptime('2022-01-03', '%Y-%m-%d'), 'private room')\n",
    "]\n",
    "\n",
    "# Schema\n",
    "airbnb_schema = StructType([\n",
    "    StructField(\"user_id\", IntegerType(), True),\n",
    "    StructField(\"date_searched\", TimestampType(), True),\n",
    "    StructField(\"filter_room_types\", StringType(), True)\n",
    "])\n",
    "\n",
    "# Create DataFrame\n",
    "airbnb_df = spark.createDataFrame(airbnb_data, schema=airbnb_schema)\n",
    "\n",
    "# Create or replace temp view\n",
    "airbnb_df.createOrReplaceTempView(\"airbnb_searches\")\n",
    "\n",
    "# ----------------------------\n",
    "# Check your table!\n",
    "# ----------------------------\n",
    "\n",
    "spark.sql(\"SELECT * FROM airbnb_searches ORDER BY user_id\").show(truncate=False)\n"
   ]
  },
  {
   "cell_type": "code",
   "execution_count": null,
   "id": "f5462a3b-aa79-443e-88c4-ca84846e5549",
   "metadata": {},
   "outputs": [],
   "source": [
    "### Find the count of rooms"
   ]
  },
  {
   "cell_type": "code",
   "execution_count": 5,
   "id": "a4c7bcef-e4cf-4b03-b8d5-a0faeb03b5c4",
   "metadata": {
    "tags": []
   },
   "outputs": [
    {
     "name": "stdout",
     "output_type": "stream",
     "text": [
      "+------------+-----+\n",
      "|type_of_room|count|\n",
      "+------------+-----+\n",
      "|private room|    3|\n",
      "| entire home|    2|\n",
      "| shared room|    2|\n",
      "+------------+-----+\n",
      "\n"
     ]
    }
   ],
   "source": [
    "spark.sql(\n",
    "\"\"\"\n",
    "SELECT \n",
    "  room_type AS type_of_room, \n",
    "  COUNT(*) AS count\n",
    "FROM (\n",
    "  SELECT \n",
    "    explode(split(filter_room_types, ',')) AS room_type\n",
    "  FROM airbnb_searches\n",
    ")\n",
    "GROUP BY room_type\n",
    "ORDER BY count DESC\n",
    "  \"\"\").show()"
   ]
  },
  {
   "cell_type": "code",
   "execution_count": 7,
   "id": "42da2871-85e3-4726-86cf-2b247e28471c",
   "metadata": {
    "tags": []
   },
   "outputs": [],
   "source": [
    "exploded_df = airbnb_df.select(explode(split(col(\"filter_room_types\"), \",\")) \\\n",
    "                        .alias(\"type_of_room\"))\n",
    "\n",
    "# Group by type_of_room and count\n",
    "result_df = exploded_df.groupBy(\"type_of_room\").count()"
   ]
  },
  {
   "cell_type": "code",
   "execution_count": null,
   "id": "92a44246-f287-4ce4-85cd-685f3ae34f04",
   "metadata": {},
   "outputs": [],
   "source": []
  }
 ],
 "metadata": {
  "kernelspec": {
   "display_name": "Python 3 (ipykernel)",
   "language": "python",
   "name": "python3"
  },
  "language_info": {
   "codemirror_mode": {
    "name": "ipython",
    "version": 3
   },
   "file_extension": ".py",
   "mimetype": "text/x-python",
   "name": "python",
   "nbconvert_exporter": "python",
   "pygments_lexer": "ipython3",
   "version": "3.7.17"
  }
 },
 "nbformat": 4,
 "nbformat_minor": 5
}
