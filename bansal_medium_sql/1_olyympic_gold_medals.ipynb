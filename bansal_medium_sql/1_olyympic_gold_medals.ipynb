{
 "cells": [
  {
   "cell_type": "code",
   "execution_count": 1,
   "id": "21372529-de60-411b-a93b-6b84440e087b",
   "metadata": {
    "tags": []
   },
   "outputs": [
    {
     "name": "stdout",
     "output_type": "stream",
     "text": [
      "+---+-----+----+----------------+------------+-----------+\n",
      "| ID|event|YEAR|            GOLD|      SILVER|     BRONZE|\n",
      "+---+-----+----+----------------+------------+-----------+\n",
      "|  1| 100m|2016|Amthhew Mcgarray|      donald|    barbara|\n",
      "|  2| 200m|2016|         Nichole|Alvaro Eaton|janet Smith|\n",
      "|  3| 500m|2016|         Charles|     Nichole|     Susana|\n",
      "|  4| 100m|2016|          Ronald|       maria|      paula|\n",
      "|  5| 200m|2016|          Alfred|       carol|     Steven|\n",
      "|  6| 500m|2016|         Nichole|      Alfred|    Brandon|\n",
      "|  7| 100m|2016|         Charles|      Dennis|     Susana|\n",
      "|  8| 200m|2016|          Thomas|        Dawn|  catherine|\n",
      "|  9| 500m|2016|          Thomas|      Dennis|      paula|\n",
      "| 10| 100m|2016|         Charles|      Dennis|     Susana|\n",
      "| 11| 200m|2016|         jessica|      Donald|   Stefeney|\n",
      "| 12| 500m|2016|          Thomas|      Steven|  Catherine|\n",
      "+---+-----+----+----------------+------------+-----------+\n",
      "\n"
     ]
    }
   ],
   "source": [
    "from pyspark.sql import SparkSession\n",
    "from pyspark.sql.functions import *\n",
    "from pyspark.sql.window import Window\n",
    "\n",
    "# Initialize Spark Session\n",
    "spark = SparkSession.builder.appName(\"EmployeeTable\").getOrCreate()\n",
    "\n",
    "# Create data as a list of tuples\n",
    "data = [\n",
    "    (1, '100m', 2016, 'Amthhew Mcgarray', 'donald', 'barbara'),\n",
    "    (2, '200m', 2016, 'Nichole', 'Alvaro Eaton', 'janet Smith'),\n",
    "    (3, '500m', 2016, 'Charles', 'Nichole', 'Susana'),\n",
    "    (4, '100m', 2016, 'Ronald', 'maria', 'paula'),\n",
    "    (5, '200m', 2016, 'Alfred', 'carol', 'Steven'),\n",
    "    (6, '500m', 2016, 'Nichole', 'Alfred', 'Brandon'),\n",
    "    (7, '100m', 2016, 'Charles', 'Dennis', 'Susana'),\n",
    "    (8, '200m', 2016, 'Thomas', 'Dawn', 'catherine'),\n",
    "    (9, '500m', 2016, 'Thomas', 'Dennis', 'paula'),\n",
    "    (10, '100m', 2016, 'Charles', 'Dennis', 'Susana'),\n",
    "    (11, '200m', 2016, 'jessica', 'Donald', 'Stefeney'),\n",
    "    (12, '500m', 2016, 'Thomas', 'Steven', 'Catherine'),\n",
    "]\n",
    "\n",
    "# Define schema\n",
    "columns = [\"ID\", \"event\", \"YEAR\", \"GOLD\", \"SILVER\", \"BRONZE\"]\n",
    "\n",
    "# Create DataFrame\n",
    "events_df = spark.createDataFrame(data, schema=columns)\n",
    "\n",
    "# Create or replace a temporary view\n",
    "events_df.createOrReplaceTempView(\"events\")\n",
    "\n",
    "# Now you can run SQL queries like this\n",
    "spark.sql(\"SELECT * FROM events\").show()\n"
   ]
  },
  {
   "cell_type": "code",
   "execution_count": 2,
   "id": "ebd5a224-d67d-4c35-9bc9-e3cd9e772896",
   "metadata": {
    "tags": []
   },
   "outputs": [],
   "source": [
    "#Write a query to find no of gold medal per swimmer for swimmer who won only gold medals"
   ]
  },
  {
   "cell_type": "code",
   "execution_count": 10,
   "id": "7c132518-6c52-49b6-98ae-aa0bb3df49af",
   "metadata": {
    "tags": []
   },
   "outputs": [
    {
     "name": "stdout",
     "output_type": "stream",
     "text": [
      "+----------------+------------+\n",
      "|     player_name|no_of_medals|\n",
      "+----------------+------------+\n",
      "|Amthhew Mcgarray|           1|\n",
      "|         Charles|           3|\n",
      "|          Ronald|           1|\n",
      "|          Thomas|           3|\n",
      "|         jessica|           1|\n",
      "+----------------+------------+\n",
      "\n"
     ]
    }
   ],
   "source": [
    "spark.sql(\"\"\"\n",
    "    select gold as player_name, count(*) as no_of_medals from events\n",
    "    where gold not in (select silver from events union all select bronze from events)\n",
    "    group by gold\n",
    "\"\"\").show()"
   ]
  },
  {
   "cell_type": "code",
   "execution_count": 25,
   "id": "205f5332-91f5-4066-8f47-7efb0597e760",
   "metadata": {
    "tags": []
   },
   "outputs": [
    {
     "name": "stdout",
     "output_type": "stream",
     "text": [
      "+---+-----+----+----------------+-------+---------+\n",
      "| ID|event|YEAR|            GOLD| SILVER|   BRONZE|\n",
      "+---+-----+----+----------------+-------+---------+\n",
      "|  1| 100m|2016|Amthhew Mcgarray| donald|  barbara|\n",
      "|  3| 500m|2016|         Charles|Nichole|   Susana|\n",
      "|  4| 100m|2016|          Ronald|  maria|    paula|\n",
      "|  7| 100m|2016|         Charles| Dennis|   Susana|\n",
      "|  8| 200m|2016|          Thomas|   Dawn|catherine|\n",
      "|  9| 500m|2016|          Thomas| Dennis|    paula|\n",
      "| 10| 100m|2016|         Charles| Dennis|   Susana|\n",
      "| 11| 200m|2016|         jessica| Donald| Stefeney|\n",
      "| 12| 500m|2016|          Thomas| Steven|Catherine|\n",
      "+---+-----+----+----------------+-------+---------+\n",
      "\n"
     ]
    }
   ],
   "source": [
    "#pyspark\n",
    "\n",
    "silver_bronze = events_df.select(col(\"silver\").alias(\"silver_bronze\")).unionAll(events_df.select(col(\"bronze\").alias(\"silver_bronze\")))\n",
    "events_df.filter(~col(\"gold\").isin([row[\"silver_bronze\"] for row in silver_bronze.collect()])).show()"
   ]
  },
  {
   "cell_type": "code",
   "execution_count": 27,
   "id": "5827c7f7-28fc-4b08-9b04-dc9fb229e95f",
   "metadata": {
    "tags": []
   },
   "outputs": [
    {
     "name": "stdout",
     "output_type": "stream",
     "text": [
      "+---+-----+----+----------------+-------+---------+\n",
      "| ID|event|YEAR|            GOLD| SILVER|   BRONZE|\n",
      "+---+-----+----+----------------+-------+---------+\n",
      "|  1| 100m|2016|Amthhew Mcgarray| donald|  barbara|\n",
      "|  3| 500m|2016|         Charles|Nichole|   Susana|\n",
      "|  4| 100m|2016|          Ronald|  maria|    paula|\n",
      "|  7| 100m|2016|         Charles| Dennis|   Susana|\n",
      "|  8| 200m|2016|          Thomas|   Dawn|catherine|\n",
      "|  9| 500m|2016|          Thomas| Dennis|    paula|\n",
      "| 10| 100m|2016|         Charles| Dennis|   Susana|\n",
      "| 11| 200m|2016|         jessica| Donald| Stefeney|\n",
      "| 12| 500m|2016|          Thomas| Steven|Catherine|\n",
      "+---+-----+----+----------------+-------+---------+\n",
      "\n"
     ]
    }
   ],
   "source": [
    "events_df.alias(\"e\").join(silver_bronze.alias(\"sb\"), col(\"e.gold\") == col(\"sb.silver_bronze\"), how = \"anti\").show()"
   ]
  },
  {
   "cell_type": "code",
   "execution_count": 7,
   "id": "5efb5b6a-f350-43ef-86ed-dc20420126a4",
   "metadata": {
    "tags": []
   },
   "outputs": [
    {
     "name": "stdout",
     "output_type": "stream",
     "text": [
      "+----------------+----------+\n",
      "|     player_name|no_of_gold|\n",
      "+----------------+----------+\n",
      "|Amthhew Mcgarray|         1|\n",
      "|         Charles|         3|\n",
      "|          Ronald|         1|\n",
      "|          Thomas|         3|\n",
      "|         jessica|         1|\n",
      "+----------------+----------+\n",
      "\n"
     ]
    }
   ],
   "source": [
    "spark.sql(\"\"\"\n",
    "    with cte as (\n",
    "    select gold as player_name, \"gold\" as medal_type from events union all\n",
    "    select silver as player_name, \"silver\" as medal_type from events union all\n",
    "    select bronze as player_name, \"bronze\" as medal_type from events)\n",
    "    \n",
    "    select player_name, count(*) as no_of_gold from cte\n",
    "    group by player_name\n",
    "    having count(distinct medal_type) = 1 and max(medal_type) = 'gold'\n",
    "\"\"\").show()"
   ]
  },
  {
   "cell_type": "code",
   "execution_count": null,
   "id": "f9d20484-4fc4-4fe5-b3d7-2eb17c141f15",
   "metadata": {},
   "outputs": [],
   "source": []
  }
 ],
 "metadata": {
  "kernelspec": {
   "display_name": "Python 3 (ipykernel)",
   "language": "python",
   "name": "python3"
  },
  "language_info": {
   "codemirror_mode": {
    "name": "ipython",
    "version": 3
   },
   "file_extension": ".py",
   "mimetype": "text/x-python",
   "name": "python",
   "nbconvert_exporter": "python",
   "pygments_lexer": "ipython3",
   "version": "3.7.17"
  }
 },
 "nbformat": 4,
 "nbformat_minor": 5
}
