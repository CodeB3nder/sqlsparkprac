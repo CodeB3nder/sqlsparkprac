{
 "cells": [
  {
   "cell_type": "code",
   "execution_count": 2,
   "id": "0f3901ce-c774-4c12-ad8f-ce90db368d76",
   "metadata": {
    "tags": []
   },
   "outputs": [
    {
     "name": "stdout",
     "output_type": "stream",
     "text": [
      "+-------+----------+--------+-------------------+\n",
      "|user_id|product_id|quantity|purchase_date      |\n",
      "+-------+----------+--------+-------------------+\n",
      "|536    |3223      |6       |2022-01-11 12:33:44|\n",
      "|827    |3585      |35      |2022-02-20 14:05:26|\n",
      "|536    |3223      |5       |2022-03-02 09:33:28|\n",
      "|536    |1435      |10      |2022-03-02 08:40:00|\n",
      "|827    |2452      |45      |2022-04-09 00:00:00|\n",
      "+-------+----------+--------+-------------------+\n",
      "\n"
     ]
    }
   ],
   "source": [
    "from pyspark.sql import SparkSession\n",
    "from pyspark.sql.types import StructType, StructField, IntegerType, TimestampType\n",
    "from datetime import datetime\n",
    "from pyspark.sql.functions import *\n",
    "from pyspark.sql.window import Window\n",
    "# Initialize SparkSession\n",
    "spark = SparkSession.builder.appName(\"PurchasesTable\").getOrCreate()\n",
    "\n",
    "# Define schema\n",
    "schema = StructType([\n",
    "    StructField(\"user_id\", IntegerType(), True),\n",
    "    StructField(\"product_id\", IntegerType(), True),\n",
    "    StructField(\"quantity\", IntegerType(), True),\n",
    "    StructField(\"purchase_date\", TimestampType(), True)\n",
    "])\n",
    "\n",
    "# Prepare data with datetime module\n",
    "data = [\n",
    "    (536, 3223, 6, datetime(2022, 1, 11, 12, 33, 44)),\n",
    "    (827, 3585, 35, datetime(2022, 2, 20, 14, 5, 26)),\n",
    "    (536, 3223, 5, datetime(2022, 3, 2, 9, 33, 28)),\n",
    "    (536, 1435, 10, datetime(2022, 3, 2, 8, 40, 0)),\n",
    "    (827, 2452, 45, datetime(2022, 4, 9, 0, 0, 0))\n",
    "]\n",
    "\n",
    "# Create DataFrame\n",
    "df = spark.createDataFrame(data, schema)\n",
    "\n",
    "# Show data\n",
    "df.show(truncate=False)\n",
    "\n",
    "df.createOrReplaceTempView(\"products\")\n",
    "\n"
   ]
  },
  {
   "cell_type": "code",
   "execution_count": 8,
   "id": "a46ebb67-e4a6-4408-9bbb-5046a57f1b70",
   "metadata": {
    "tags": []
   },
   "outputs": [
    {
     "name": "stdout",
     "output_type": "stream",
     "text": [
      "+-------+----------+-----------------------------+\n",
      "|user_id|product_id|count(DISTINCT purchase_date)|\n",
      "+-------+----------+-----------------------------+\n",
      "|    536|      3223|                            2|\n",
      "+-------+----------+-----------------------------+\n",
      "\n"
     ]
    }
   ],
   "source": [
    "spark.sql(\"\"\"\n",
    "    select user_id, product_id, count(distinct date(purchase_date)) from products\n",
    "    group by user_id, product_id\n",
    "    having count(distinct date(purchase_date)) >= 2\n",
    "\"\"\").show()"
   ]
  },
  {
   "cell_type": "code",
   "execution_count": null,
   "id": "8f7c2c3e-9b7b-4940-a095-a1eb04c60771",
   "metadata": {},
   "outputs": [],
   "source": []
  }
 ],
 "metadata": {
  "kernelspec": {
   "display_name": "Python 3 (ipykernel)",
   "language": "python",
   "name": "python3"
  },
  "language_info": {
   "codemirror_mode": {
    "name": "ipython",
    "version": 3
   },
   "file_extension": ".py",
   "mimetype": "text/x-python",
   "name": "python",
   "nbconvert_exporter": "python",
   "pygments_lexer": "ipython3",
   "version": "3.7.17"
  }
 },
 "nbformat": 4,
 "nbformat_minor": 5
}
