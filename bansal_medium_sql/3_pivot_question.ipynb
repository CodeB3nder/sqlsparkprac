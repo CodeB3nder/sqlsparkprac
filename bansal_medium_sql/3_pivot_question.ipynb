{
 "cells": [
  {
   "cell_type": "code",
   "execution_count": 1,
   "id": "ce434f6c-8de1-48bc-bf64-04d0e74440b9",
   "metadata": {
    "tags": []
   },
   "outputs": [
    {
     "name": "stdout",
     "output_type": "stream",
     "text": [
      "+------+------+-------------------+\n",
      "|emp_id|action|time               |\n",
      "+------+------+-------------------+\n",
      "|1     |in    |2019-12-22 09:00:00|\n",
      "|1     |out   |2019-12-22 09:15:00|\n",
      "|2     |in    |2019-12-22 09:00:00|\n",
      "|2     |out   |2019-12-22 09:15:00|\n",
      "|2     |in    |2019-12-22 09:30:00|\n",
      "|3     |out   |2019-12-22 09:00:00|\n",
      "|3     |in    |2019-12-22 09:15:00|\n",
      "|3     |out   |2019-12-22 09:30:00|\n",
      "|3     |in    |2019-12-22 09:45:00|\n",
      "|4     |in    |2019-12-22 09:45:00|\n",
      "|5     |out   |2019-12-22 09:40:00|\n",
      "+------+------+-------------------+\n",
      "\n"
     ]
    }
   ],
   "source": [
    "from pyspark.sql import SparkSession\n",
    "from pyspark.sql.types import StructType, StructField, IntegerType, StringType, TimestampType\n",
    "from datetime import datetime\n",
    "from pyspark.sql.functions import *\n",
    "from pyspark.sql.window import Window\n",
    "\n",
    "# Initialize Spark Session\n",
    "spark = SparkSession.builder.appName(\"HospitalTable\").getOrCreate()\n",
    "\n",
    "# -----------------------\n",
    "# Create Hospital Table\n",
    "# -----------------------\n",
    "\n",
    "# Data\n",
    "hospital_data = [\n",
    "    (1, 'in', datetime.strptime('2019-12-22 09:00:00', '%Y-%m-%d %H:%M:%S')),\n",
    "    (1, 'out', datetime.strptime('2019-12-22 09:15:00', '%Y-%m-%d %H:%M:%S')),\n",
    "    (2, 'in', datetime.strptime('2019-12-22 09:00:00', '%Y-%m-%d %H:%M:%S')),\n",
    "    (2, 'out', datetime.strptime('2019-12-22 09:15:00', '%Y-%m-%d %H:%M:%S')),\n",
    "    (2, 'in', datetime.strptime('2019-12-22 09:30:00', '%Y-%m-%d %H:%M:%S')),\n",
    "    (3, 'out', datetime.strptime('2019-12-22 09:00:00', '%Y-%m-%d %H:%M:%S')),\n",
    "    (3, 'in', datetime.strptime('2019-12-22 09:15:00', '%Y-%m-%d %H:%M:%S')),\n",
    "    (3, 'out', datetime.strptime('2019-12-22 09:30:00', '%Y-%m-%d %H:%M:%S')),\n",
    "    (3, 'in', datetime.strptime('2019-12-22 09:45:00', '%Y-%m-%d %H:%M:%S')),\n",
    "    (4, 'in', datetime.strptime('2019-12-22 09:45:00', '%Y-%m-%d %H:%M:%S')),\n",
    "    (5, 'out', datetime.strptime('2019-12-22 09:40:00', '%Y-%m-%d %H:%M:%S'))\n",
    "]\n",
    "\n",
    "# Schema\n",
    "hospital_schema = StructType([\n",
    "    StructField(\"emp_id\", IntegerType(), True),\n",
    "    StructField(\"action\", StringType(), True),\n",
    "    StructField(\"time\", TimestampType(), True)\n",
    "])\n",
    "\n",
    "# Create DataFrame\n",
    "hospital_df = spark.createDataFrame(hospital_data, schema=hospital_schema)\n",
    "\n",
    "# Create or replace temp view\n",
    "hospital_df.createOrReplaceTempView(\"hospital\")\n",
    "\n",
    "# -----------------------\n",
    "# Check your table!\n",
    "# -----------------------\n",
    "\n",
    "spark.sql(\"SELECT * FROM hospital ORDER BY emp_id, time\").show(truncate=False)\n"
   ]
  },
  {
   "cell_type": "code",
   "execution_count": 3,
   "id": "9f59416d-6793-49b0-9e53-94b62a5ead31",
   "metadata": {
    "tags": []
   },
   "outputs": [],
   "source": [
    "#Write a sqk ti fund the total number of perople present in the hospital"
   ]
  },
  {
   "cell_type": "code",
   "execution_count": 8,
   "id": "c39afd1f-e5af-42f1-af1b-61763e1821e6",
   "metadata": {
    "tags": []
   },
   "outputs": [
    {
     "name": "stdout",
     "output_type": "stream",
     "text": [
      "+------+------+-------------------+---+\n",
      "|emp_id|action|               time| rn|\n",
      "+------+------+-------------------+---+\n",
      "|     2|    in|2019-12-22 09:30:00|  1|\n",
      "|     3|    in|2019-12-22 09:45:00|  1|\n",
      "|     4|    in|2019-12-22 09:45:00|  1|\n",
      "+------+------+-------------------+---+\n",
      "\n"
     ]
    }
   ],
   "source": [
    "spark.sql(\"\"\"\n",
    "    select * from (\n",
    "    select *,\n",
    "    row_number() over (partition by emp_id order by time desc) as rn\n",
    "    from hospital)\n",
    "    where rn = 1 and action = \"in\"\n",
    "\"\"\").show()"
   ]
  },
  {
   "cell_type": "code",
   "execution_count": 16,
   "id": "2661958f-adb4-448b-bbae-fc058cd4a404",
   "metadata": {
    "tags": []
   },
   "outputs": [
    {
     "name": "stdout",
     "output_type": "stream",
     "text": [
      "+------+-------------------+-------------------+\n",
      "|emp_id|        max(intime)|       max(outtime)|\n",
      "+------+-------------------+-------------------+\n",
      "|     2|2019-12-22 09:30:00|2019-12-22 09:15:00|\n",
      "|     3|2019-12-22 09:45:00|2019-12-22 09:30:00|\n",
      "|     4|2019-12-22 09:45:00|               null|\n",
      "+------+-------------------+-------------------+\n",
      "\n"
     ]
    }
   ],
   "source": [
    "spark.sql(\"\"\"\n",
    "    with cte(\n",
    "        select *,\n",
    "            case when action = \"in\" then time end as intime,\n",
    "            case when action = \"out\" then time end as outtime\n",
    "        from hospital)\n",
    "        \n",
    "    select emp_id, max(intime), max(outtime)\n",
    "    from cte\n",
    "    group by emp_id\n",
    "    having  max(outtime) < max(intime) or max(outtime) is null\n",
    "\"\"\").show()"
   ]
  },
  {
   "cell_type": "code",
   "execution_count": 21,
   "id": "cd189eec-628b-41d8-86f2-6267bb3a1e3f",
   "metadata": {
    "tags": []
   },
   "outputs": [],
   "source": [
    "int_df = hospital_df. \\\n",
    "    withColumn(\"intime\", when(col(\"action\") == \"in\", col(\"time\"))). \\\n",
    "    withColumn(\"outtime\", when(col(\"action\") == \"out\", col(\"time\")))\n"
   ]
  },
  {
   "cell_type": "code",
   "execution_count": 30,
   "id": "70ff820c-dda7-46d0-bd38-bb3c1fc4511e",
   "metadata": {
    "tags": []
   },
   "outputs": [
    {
     "name": "stdout",
     "output_type": "stream",
     "text": [
      "+------+-------------------+-------------------+\n",
      "|emp_id|          maxintime|         maxouttime|\n",
      "+------+-------------------+-------------------+\n",
      "|     2|2019-12-22 09:30:00|2019-12-22 09:15:00|\n",
      "|     3|2019-12-22 09:45:00|2019-12-22 09:30:00|\n",
      "|     4|2019-12-22 09:45:00|               null|\n",
      "+------+-------------------+-------------------+\n",
      "\n"
     ]
    }
   ],
   "source": [
    "int_df.groupBy(col(\"emp_id\")).agg(\n",
    "    max(col(\"intime\")).alias(\"maxintime\"),\n",
    "    max(col(\"outtime\")).alias(\"maxouttime\"),\n",
    ").filter((col(\"maxintime\") > col(\"maxouttime\")) | col(\"maxouttime\").isNull()).show()"
   ]
  },
  {
   "cell_type": "code",
   "execution_count": 32,
   "id": "8a4ac50c-eaf5-4dae-9967-c1d7914887f8",
   "metadata": {
    "tags": []
   },
   "outputs": [
    {
     "name": "stdout",
     "output_type": "stream",
     "text": [
      "+------+-------------------+-------------------+\n",
      "|emp_id|                 in|                out|\n",
      "+------+-------------------+-------------------+\n",
      "|     1|2019-12-22 09:00:00|2019-12-22 09:15:00|\n",
      "|     2|2019-12-22 09:30:00|2019-12-22 09:15:00|\n",
      "|     3|2019-12-22 09:45:00|2019-12-22 09:30:00|\n",
      "|     5|               null|2019-12-22 09:40:00|\n",
      "|     4|2019-12-22 09:45:00|               null|\n",
      "+------+-------------------+-------------------+\n",
      "\n"
     ]
    }
   ],
   "source": [
    "(hospital_df.\n",
    "     groupBy(\"emp_id\").\n",
    "     pivot(\"action\").\n",
    "     agg(max(\"time\").alias(\"time\"))).show()\n",
    "     "
   ]
  },
  {
   "cell_type": "code",
   "execution_count": null,
   "id": "0b014961-9c5d-4b1a-bf9b-87f88634872f",
   "metadata": {},
   "outputs": [],
   "source": []
  }
 ],
 "metadata": {
  "kernelspec": {
   "display_name": "Python 3 (ipykernel)",
   "language": "python",
   "name": "python3"
  },
  "language_info": {
   "codemirror_mode": {
    "name": "ipython",
    "version": 3
   },
   "file_extension": ".py",
   "mimetype": "text/x-python",
   "name": "python",
   "nbconvert_exporter": "python",
   "pygments_lexer": "ipython3",
   "version": "3.7.17"
  }
 },
 "nbformat": 4,
 "nbformat_minor": 5
}
